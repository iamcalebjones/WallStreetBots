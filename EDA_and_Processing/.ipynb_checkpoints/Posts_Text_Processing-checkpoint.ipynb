{
 "cells": [
  {
   "cell_type": "markdown",
   "metadata": {},
   "source": [
    "# This notebook will process text from the posts dataset\n",
    "\n",
    "Run LDA model\n",
    "\n",
    "TFIDF vectorize for input to clustering model\n",
    "\n",
    "Run KMeans Clustering model"
   ]
  },
  {
   "cell_type": "markdown",
   "metadata": {},
   "source": [
    "## Roadmap for data exploration and processing\n",
    "\n",
    "- text processing stuff for nltk\n",
    "    - actual preprocessing steps (use the functions from the NLP lecture and the NLP case study)\n",
    "        - remove punctuation, newlines, links, any other special characters, replace numbers with #num, lowercase, strip, split, and join **may need to move the lowercase part depending on if stock symbols or proper nouns seem important later on, but reddidors yell a lot so maybe this is the best place to do it**\n",
    "        - lemmatize/stem\n",
    "        - n-grams\n",
    "        - remove stopwords\n",
    "        - count vectorize (for LDA topic model)\n",
    "        - tfidf (for clustering model)\n",
    "        - now ready to model\n",
    "    - get some topics from the posts\n",
    "\n",
    "- clustering model\n"
   ]
  },
  {
   "cell_type": "markdown",
   "metadata": {},
   "source": [
    "# stuff accomplished\n",
    "\n",
    "- ✅ text cleaning\n",
    "    - decided to leave in contractions as words, did not split them\n",
    "    - potential extra step to processing would be splitting contractions into full words, use this:\n",
    "        - https://github.com/slaps-lab/bibliotheca/blob/master/text/expand_contractions_with_spacy.ipynb\n",
    "- ✅ LDA topic model (corpus input is a list of list of tokens, words and ngrams)\n",
    "- ✅ TFIDF vectorizer (corpus input is a list of strings, each document is a string, no ngrams input into TFIDF)\n",
    "- ✅ clustering model is done, changed to 3 clusters instead of 2 based on the elbow plot\n",
    "\n",
    "### still to do\n",
    "- plots and other visuals\n",
    "    - plot x-axis formatting for date of posts, want 7-day interval\n",
    "- apply those things to the comments dataset (set it up to run overnight)\n",
    "- follow the roadmap in this link with all the plots and everything, would make a really great capstone\n",
    "    - https://www.kaggle.com/dfoly1/k-means-clustering-from-scratch"
   ]
  },
  {
   "cell_type": "code",
   "execution_count": 1,
   "metadata": {},
   "outputs": [
    {
     "name": "stdout",
     "output_type": "stream",
     "text": [
      "Requirement already satisfied: emoji in /home/ec2-user/anaconda3/envs/tensorflow2_p36/lib/python3.6/site-packages (1.2.0)\n",
      "Note: you may need to restart the kernel to use updated packages.\n",
      "Requirement already satisfied: wordcloud in /home/ec2-user/anaconda3/envs/tensorflow2_p36/lib/python3.6/site-packages (1.8.1)\n",
      "Requirement already satisfied: pillow in /home/ec2-user/anaconda3/envs/tensorflow2_p36/lib/python3.6/site-packages (from wordcloud) (8.1.0)\n",
      "Requirement already satisfied: matplotlib in /home/ec2-user/anaconda3/envs/tensorflow2_p36/lib/python3.6/site-packages (from wordcloud) (3.3.4)\n",
      "Requirement already satisfied: numpy>=1.6.1 in /home/ec2-user/anaconda3/envs/tensorflow2_p36/lib/python3.6/site-packages (from wordcloud) (1.18.5)\n",
      "Requirement already satisfied: pyparsing!=2.0.4,!=2.1.2,!=2.1.6,>=2.0.3 in /home/ec2-user/anaconda3/envs/tensorflow2_p36/lib/python3.6/site-packages (from matplotlib->wordcloud) (2.4.7)\n",
      "Requirement already satisfied: cycler>=0.10 in /home/ec2-user/anaconda3/envs/tensorflow2_p36/lib/python3.6/site-packages (from matplotlib->wordcloud) (0.10.0)\n",
      "Requirement already satisfied: kiwisolver>=1.0.1 in /home/ec2-user/anaconda3/envs/tensorflow2_p36/lib/python3.6/site-packages (from matplotlib->wordcloud) (1.3.1)\n",
      "Requirement already satisfied: python-dateutil>=2.1 in /home/ec2-user/anaconda3/envs/tensorflow2_p36/lib/python3.6/site-packages (from matplotlib->wordcloud) (2.8.1)\n",
      "Requirement already satisfied: six in /home/ec2-user/anaconda3/envs/tensorflow2_p36/lib/python3.6/site-packages (from cycler>=0.10->matplotlib->wordcloud) (1.15.0)\n",
      "Note: you may need to restart the kernel to use updated packages.\n"
     ]
    }
   ],
   "source": [
    "%pip install emoji\n",
    "%pip install wordcloud"
   ]
  },
  {
   "cell_type": "code",
   "execution_count": 84,
   "metadata": {},
   "outputs": [],
   "source": [
    "import nltk\n",
    "import numpy as np \n",
    "import pandas as pd\n",
    "import matplotlib.pyplot as plt\n",
    "import matplotlib.dates as mdates\n",
    "import matplotlib as mpl\n",
    "import seaborn as sns\n",
    "plt.style.use('ggplot')\n",
    "\n",
    "from nltk.corpus import stopwords\n",
    "from nltk.stem import PorterStemmer, WordNetLemmatizer\n",
    "from nltk.util import ngrams\n",
    "from nltk.tokenize import RegexpTokenizer\n",
    "\n",
    "from sklearn.feature_extraction import text \n",
    "from sklearn.feature_extraction.text import CountVectorizer \n",
    "from sklearn.decomposition import LatentDirichletAllocation, PCA, IncrementalPCA, TruncatedSVD\n",
    "from sklearn.cluster import KMeans\n",
    "from sklearn.feature_extraction.text import TfidfVectorizer\n",
    "from sklearn.preprocessing import normalize, StandardScaler\n",
    "from sklearn.mixture import GaussianMixture\n",
    "\n",
    "from scipy.sparse import random as sparse_random\n",
    "\n",
    "import re\n",
    "from collections import Counter\n",
    "import emoji\n",
    "from wordcloud import WordCloud\n",
    "import pickle\n",
    "import bz2\n",
    "import itertools\n",
    "from scipy import linalg\n",
    "import yfinance as yf\n",
    "\n",
    "import time\n",
    "from datetime import datetime as dt\n",
    "from datetime import timedelta"
   ]
  },
  {
   "cell_type": "code",
   "execution_count": 2,
   "metadata": {},
   "outputs": [
    {
     "name": "stderr",
     "output_type": "stream",
     "text": [
      "[nltk_data] Downloading package averaged_perceptron_tagger to\n",
      "[nltk_data]     /Users/calebjones/nltk_data...\n",
      "[nltk_data]   Package averaged_perceptron_tagger is already up-to-\n",
      "[nltk_data]       date!\n",
      "[nltk_data] Downloading package wordnet to\n",
      "[nltk_data]     /Users/calebjones/nltk_data...\n",
      "[nltk_data]   Package wordnet is already up-to-date!\n",
      "[nltk_data] Downloading package stopwords to\n",
      "[nltk_data]     /Users/calebjones/nltk_data...\n",
      "[nltk_data]   Package stopwords is already up-to-date!\n"
     ]
    },
    {
     "data": {
      "text/plain": [
       "True"
      ]
     },
     "execution_count": 2,
     "metadata": {},
     "output_type": "execute_result"
    }
   ],
   "source": [
    "nltk.download('averaged_perceptron_tagger')\n",
    "nltk.download('wordnet')\n",
    "nltk.download('stopwords')"
   ]
  },
  {
   "cell_type": "code",
   "execution_count": 92,
   "metadata": {
    "scrolled": true
   },
   "outputs": [
    {
     "data": {
      "text/plain": [
       "Text(0, 0.5, 'Price, $')"
      ]
     },
     "execution_count": 92,
     "metadata": {},
     "output_type": "execute_result"
    },
    {
     "data": {
      "image/png": "[encoded data removed]",
      "text/plain": [
       "<Figure size 1080x576 with 1 Axes>"
      ]
     },
     "metadata": {},
     "output_type": "display_data"
    }
   ],
   "source": [
    "fig, ax = plt.subplots(figsize = (15,8))\n",
    "plt.plot(tickerDf.index, tickerDf['High'])\n",
    "plt.title('GME Daily Highs')\n",
    "plt.xlabel('Date')\n",
    "plt.ylabel('Price, $');"
   ]
  },
  {
   "cell_type": "code",
   "execution_count": 87,
   "metadata": {},
   "outputs": [
    {
     "data": {
      "image/png": "[encoded data removed]",
      "text/plain": [
       "<Figure size 576x432 with 4 Axes>"
      ]
     },
     "metadata": {},
     "output_type": "display_data"
    }
   ],
   "source": [
    "y = tickerDf.Close\n",
    "\n",
    "fig, ax = plt.subplots(2,2, figsize = (8, 6))\n",
    "\n",
    "for i in range(4):\n",
    "    ax[i//2, i%2].scatter(y.shift(i+1), y)\n",
    "    ax[i//2, i%2].set_ylabel('Stock Price')\n",
    "    ax[i//2, i%2].set_xlabel('Stock Price (Lag {})'.format(i+1))\n",
    "fig.suptitle(tickerSymbol)\n",
    "fig.tight_layout() "
   ]
  },
  {
   "cell_type": "code",
   "execution_count": null,
   "metadata": {},
   "outputs": [],
   "source": []
  },
  {
   "cell_type": "code",
   "execution_count": null,
   "metadata": {},
   "outputs": [],
   "source": []
  },
  {
   "cell_type": "markdown",
   "metadata": {},
   "source": [
    "# Load Pickles"
   ]
  },
  {
   "cell_type": "code",
   "execution_count": 119,
   "metadata": {},
   "outputs": [],
   "source": [
    "# pickling activities, this cell reads in the pickled files to avoid reprocessing all that crap\n",
    "\n",
    "# raw corpus of posts text\n",
    "# infile = open('../pickles/corpus', 'rb')\n",
    "# corpus = pickle.load(infile)\n",
    "# infile.close()\n",
    "\n",
    "# # raw corpus_reduced of posts text\n",
    "infile = open('../pickles/corpus_reduced', 'rb')\n",
    "corpus_reduced = pickle.load(infile)\n",
    "infile.close()\n",
    "\n",
    "# # processed corpus\n",
    "# infile = open('../pickles/processed', 'rb')\n",
    "# processed = pickle.load(infile)\n",
    "# infile.close()\n",
    "\n",
    "# processed corpus_reduced\n",
    "# infile = open('../pickles/processed_reduced', 'rb')\n",
    "# processed_reduced = pickle.load(infile)\n",
    "# infile.close()\n",
    "\n",
    "# # processed40 is the processed files of corpus[0:40000], limiting this to that slice of the corpus to try and get\n",
    "# # some of the dimensionality reduction techniques to work (truncated SVD or incremental PCA)\n",
    "# infile = open('../pickles/processed40', 'rb')\n",
    "# processed40 = pickle.load(infile)\n",
    "# infile.close()"
   ]
  },
  {
   "cell_type": "code",
   "execution_count": 154,
   "metadata": {},
   "outputs": [],
   "source": [
    "emoji_corp = []\n",
    "for doc in corpus_reduced[0:1000]:\n",
    "    for line in doc:\n",
    "        for word in line.split():\n",
    "            \n",
    "            if word == '💎':\n",
    "                emoji_corp.append(doc)\n",
    "            \n",
    "            \n",
    "            \n",
    "#             in emoji.UNICODE_EMOJI_ENGLISH:\n",
    "#                         emoji_corp.append([doc])"
   ]
  },
  {
   "cell_type": "code",
   "execution_count": 155,
   "metadata": {
    "scrolled": true
   },
   "outputs": [
    {
     "data": {
      "text/plain": [
       "[['Title says it all. Love you retards and 💎 🙌  these fucking cunts!'],\n",
       " ['Thanks to all the post here I have come to the conclusion that Monday will have an extremely small float and thus far higher volatility. \\n\\nThis is because I have seen a post where the actual float was far lower than reported at a dismal 30 million shares out of 70 million.  If this is true it only leaves 30 million shares to be traded on the market, but this is greatly reduced because of the Gamma squeeze on Friday. Due to the amount of calls that ended up ITM (all of them) roughly 10-15 million shares will be tied up until Tuesday according to other other DD I saw posted here tonight. \\n\\nWhy is this important? This leaves roughly 15-20 million shares actively trading which is an extremely small float for the volume. This will make any moves far more extreme than usual. This is further reduced by the 💎 ✋ 🐂 here who own approximately 8-10% of shares this amounts to about 7 million shares. If we assume half of us will not sell tomorrow and provide liquidity, there will be 11.5-16.5 million shares being traded. \\n\\nAny price movement will be extreme tomorrow higher or lower. News can swing this stock into triple digits or back down to 20$. So if shorts get margin called tomorrow expect the price to accelerate rapidly higher.  There is also the possibility of another gamma ramp up if too many retards buy far OTM calls, but dealers will likely have something up there sleeve to prevent a repeat of Friday \\n\\n\\nThis is not financial advice in any way.\\nI also have a long position of 130 shares at 18$ cost basis. \\n\\n\\nTLDR GME 🚀🚀🚀🚀🚀🚀🚀'],\n",
       " [\" Do whatever it takes to make GME go to $1,000.\\n\\nDon't disappoint WSB redditors. Show us that you are more powerful than that shitron hedge fund.\\n\\nWe must give shorters taste of their own medicine. Put everything you HAVE into this war. We must defeat them at their own game.\\n\\n$1000 is just the beginning. GAMESTOP MUST GO TO $5000 AND BEYOND...\\n\\nSo please, I beg you not to press the sell button at all. Just keep buying till you can no longer do so :)\\n\\nTODAY IS THE DAY TO PROVE IT WILL GO TO $1000🚀 🚀 🚀 🚀 💎 🙌\\n\\nGood Luck!\"],\n",
       " [\"But if we all 💎 ✋it it'll go to $2,000.\"],\n",
       " ['Watching Cramer on CNBC. Just said likely hedge funds short GME, BB etc likely going out of business due to free speech activities of WSB.\\nBB to the moon. 🚀 🚀 \\nDiamond in my hands! 💎 🙌']]"
      ]
     },
     "execution_count": 155,
     "metadata": {},
     "output_type": "execute_result"
    }
   ],
   "source": [
    "emoji_corp"
   ]
  },
  {
   "cell_type": "code",
   "execution_count": null,
   "metadata": {},
   "outputs": [],
   "source": []
  },
  {
   "cell_type": "code",
   "execution_count": 138,
   "metadata": {},
   "outputs": [
    {
     "name": "stdout",
     "output_type": "stream",
     "text": [
      "Not sure what platform to use to get started and I've heard bad things about Robinhood. Any advice?\n"
     ]
    }
   ],
   "source": [
    "for word in corpus_reduced[0]:\n",
    "    print(word\n",
    "         )"
   ]
  },
  {
   "cell_type": "code",
   "execution_count": 173,
   "metadata": {
    "scrolled": true
   },
   "outputs": [
    {
     "data": {
      "text/html": [
       "<div>\n",
       "<style scoped>\n",
       "    .dataframe tbody tr th:only-of-type {\n",
       "        vertical-align: middle;\n",
       "    }\n",
       "\n",
       "    .dataframe tbody tr th {\n",
       "        vertical-align: top;\n",
       "    }\n",
       "\n",
       "    .dataframe thead th {\n",
       "        text-align: right;\n",
       "    }\n",
       "</style>\n",
       "<table border=\"1\" class=\"dataframe\">\n",
       "  <thead>\n",
       "    <tr style=\"text-align: right;\">\n",
       "      <th></th>\n",
       "      <th>author</th>\n",
       "      <th>title</th>\n",
       "      <th>selftext</th>\n",
       "      <th>created_utc</th>\n",
       "      <th>num_comments</th>\n",
       "      <th>subreddit_subscribers</th>\n",
       "      <th>upvote_ratio</th>\n",
       "    </tr>\n",
       "  </thead>\n",
       "  <tbody>\n",
       "    <tr>\n",
       "      <th>0</th>\n",
       "      <td>readyrummy1</td>\n",
       "      <td>Ruled by the Theta Gods</td>\n",
       "      <td>5:30 AM\\n\\nWoke up five minutes ago.  Made som...</td>\n",
       "      <td>1607957430</td>\n",
       "      <td>6</td>\n",
       "      <td>1697978</td>\n",
       "      <td>1.0</td>\n",
       "    </tr>\n",
       "    <tr>\n",
       "      <th>1</th>\n",
       "      <td>officespace2020</td>\n",
       "      <td>Motivation Monday</td>\n",
       "      <td># Intro\\n\\nLet me get soft with ya, it can get...</td>\n",
       "      <td>1607957260</td>\n",
       "      <td>9</td>\n",
       "      <td>1697974</td>\n",
       "      <td>1.0</td>\n",
       "    </tr>\n",
       "    <tr>\n",
       "      <th>2</th>\n",
       "      <td>BigSlimetime73</td>\n",
       "      <td>Toy Yoda (but the car company)</td>\n",
       "      <td>Hello fellow retards,\\n\\nThis weekend I came a...</td>\n",
       "      <td>1607957127</td>\n",
       "      <td>4</td>\n",
       "      <td>1697963</td>\n",
       "      <td>1.0</td>\n",
       "    </tr>\n",
       "    <tr>\n",
       "      <th>3</th>\n",
       "      <td>shroomsAndWrstershir</td>\n",
       "      <td>I've never been so happy to lose $300,000 in m...</td>\n",
       "      <td>After Saturday's SPCE failed launch, I though ...</td>\n",
       "      <td>1607957052</td>\n",
       "      <td>85</td>\n",
       "      <td>1697960</td>\n",
       "      <td>1.0</td>\n",
       "    </tr>\n",
       "    <tr>\n",
       "      <th>4</th>\n",
       "      <td>alphabluepiller</td>\n",
       "      <td>Nasdaq-100 changes</td>\n",
       "      <td>NEW YORK, Dec. 11, 2020 (GLOBE NEWSWIRE) -- Na...</td>\n",
       "      <td>1607955881</td>\n",
       "      <td>7</td>\n",
       "      <td>1697898</td>\n",
       "      <td>1.0</td>\n",
       "    </tr>\n",
       "  </tbody>\n",
       "</table>\n",
       "</div>"
      ],
      "text/plain": [
       "                 author                                              title  \\\n",
       "0           readyrummy1                            Ruled by the Theta Gods   \n",
       "1       officespace2020                                  Motivation Monday   \n",
       "2        BigSlimetime73                     Toy Yoda (but the car company)   \n",
       "3  shroomsAndWrstershir  I've never been so happy to lose $300,000 in m...   \n",
       "4       alphabluepiller                                 Nasdaq-100 changes   \n",
       "\n",
       "                                            selftext  created_utc  \\\n",
       "0  5:30 AM\\n\\nWoke up five minutes ago.  Made som...   1607957430   \n",
       "1  # Intro\\n\\nLet me get soft with ya, it can get...   1607957260   \n",
       "2  Hello fellow retards,\\n\\nThis weekend I came a...   1607957127   \n",
       "3  After Saturday's SPCE failed launch, I though ...   1607957052   \n",
       "4  NEW YORK, Dec. 11, 2020 (GLOBE NEWSWIRE) -- Na...   1607955881   \n",
       "\n",
       "   num_comments  subreddit_subscribers  upvote_ratio  \n",
       "0             6                1697978           1.0  \n",
       "1             9                1697974           1.0  \n",
       "2             4                1697963           1.0  \n",
       "3            85                1697960           1.0  \n",
       "4             7                1697898           1.0  "
      ]
     },
     "execution_count": 173,
     "metadata": {},
     "output_type": "execute_result"
    }
   ],
   "source": [
    "# saved to csv the main posts after formatting date, use that one.\n",
    "main_posts = pd.read_csv('../data/main_posts.csv')\n",
    "main_posts.head()"
   ]
  },
  {
   "cell_type": "code",
   "execution_count": 8,
   "metadata": {},
   "outputs": [],
   "source": [
    "main_posts_dates = pd.read_csv('../data/main_posts_dates.csv')\n",
    "main_posts_dates_reduced = pd.read_csv('../data/main_posts_dates_reduced.csv')"
   ]
  },
  {
   "cell_type": "code",
   "execution_count": 9,
   "metadata": {},
   "outputs": [
    {
     "data": {
      "text/html": [
       "<div>\n",
       "<style scoped>\n",
       "    .dataframe tbody tr th:only-of-type {\n",
       "        vertical-align: middle;\n",
       "    }\n",
       "\n",
       "    .dataframe tbody tr th {\n",
       "        vertical-align: top;\n",
       "    }\n",
       "\n",
       "    .dataframe thead th {\n",
       "        text-align: right;\n",
       "    }\n",
       "</style>\n",
       "<table border=\"1\" class=\"dataframe\">\n",
       "  <thead>\n",
       "    <tr style=\"text-align: right;\">\n",
       "      <th></th>\n",
       "      <th>Unnamed: 0</th>\n",
       "      <th>author</th>\n",
       "      <th>title</th>\n",
       "      <th>selftext</th>\n",
       "      <th>created_utc</th>\n",
       "      <th>num_comments</th>\n",
       "      <th>subreddit_subscribers</th>\n",
       "      <th>upvote_ratio</th>\n",
       "      <th>DateTime</th>\n",
       "      <th>Date</th>\n",
       "      <th>DateTime2</th>\n",
       "    </tr>\n",
       "  </thead>\n",
       "  <tbody>\n",
       "    <tr>\n",
       "      <th>0</th>\n",
       "      <td>0</td>\n",
       "      <td>readyrummy1</td>\n",
       "      <td>Ruled by the Theta Gods</td>\n",
       "      <td>5:30 AM\\n\\nWoke up five minutes ago.  Made som...</td>\n",
       "      <td>1607957430</td>\n",
       "      <td>6</td>\n",
       "      <td>1697978</td>\n",
       "      <td>1.0</td>\n",
       "      <td>2020-12-14 14:50:30</td>\n",
       "      <td>2020-12-14</td>\n",
       "      <td>2020-12-14</td>\n",
       "    </tr>\n",
       "    <tr>\n",
       "      <th>1</th>\n",
       "      <td>1</td>\n",
       "      <td>officespace2020</td>\n",
       "      <td>Motivation Monday</td>\n",
       "      <td># Intro\\n\\nLet me get soft with ya, it can get...</td>\n",
       "      <td>1607957260</td>\n",
       "      <td>9</td>\n",
       "      <td>1697974</td>\n",
       "      <td>1.0</td>\n",
       "      <td>2020-12-14 14:47:40</td>\n",
       "      <td>2020-12-14</td>\n",
       "      <td>2020-12-14</td>\n",
       "    </tr>\n",
       "    <tr>\n",
       "      <th>2</th>\n",
       "      <td>2</td>\n",
       "      <td>BigSlimetime73</td>\n",
       "      <td>Toy Yoda (but the car company)</td>\n",
       "      <td>Hello fellow retards,\\n\\nThis weekend I came a...</td>\n",
       "      <td>1607957127</td>\n",
       "      <td>4</td>\n",
       "      <td>1697963</td>\n",
       "      <td>1.0</td>\n",
       "      <td>2020-12-14 14:45:27</td>\n",
       "      <td>2020-12-14</td>\n",
       "      <td>2020-12-14</td>\n",
       "    </tr>\n",
       "    <tr>\n",
       "      <th>3</th>\n",
       "      <td>3</td>\n",
       "      <td>shroomsAndWrstershir</td>\n",
       "      <td>I've never been so happy to lose $300,000 in m...</td>\n",
       "      <td>After Saturday's SPCE failed launch, I though ...</td>\n",
       "      <td>1607957052</td>\n",
       "      <td>85</td>\n",
       "      <td>1697960</td>\n",
       "      <td>1.0</td>\n",
       "      <td>2020-12-14 14:44:12</td>\n",
       "      <td>2020-12-14</td>\n",
       "      <td>2020-12-14</td>\n",
       "    </tr>\n",
       "    <tr>\n",
       "      <th>4</th>\n",
       "      <td>4</td>\n",
       "      <td>alphabluepiller</td>\n",
       "      <td>Nasdaq-100 changes</td>\n",
       "      <td>NEW YORK, Dec. 11, 2020 (GLOBE NEWSWIRE) -- Na...</td>\n",
       "      <td>1607955881</td>\n",
       "      <td>7</td>\n",
       "      <td>1697898</td>\n",
       "      <td>1.0</td>\n",
       "      <td>2020-12-14 14:24:41</td>\n",
       "      <td>2020-12-14</td>\n",
       "      <td>2020-12-14</td>\n",
       "    </tr>\n",
       "  </tbody>\n",
       "</table>\n",
       "</div>"
      ],
      "text/plain": [
       "   Unnamed: 0                author  \\\n",
       "0           0           readyrummy1   \n",
       "1           1       officespace2020   \n",
       "2           2        BigSlimetime73   \n",
       "3           3  shroomsAndWrstershir   \n",
       "4           4       alphabluepiller   \n",
       "\n",
       "                                               title  \\\n",
       "0                            Ruled by the Theta Gods   \n",
       "1                                  Motivation Monday   \n",
       "2                     Toy Yoda (but the car company)   \n",
       "3  I've never been so happy to lose $300,000 in m...   \n",
       "4                                 Nasdaq-100 changes   \n",
       "\n",
       "                                            selftext  created_utc  \\\n",
       "0  5:30 AM\\n\\nWoke up five minutes ago.  Made som...   1607957430   \n",
       "1  # Intro\\n\\nLet me get soft with ya, it can get...   1607957260   \n",
       "2  Hello fellow retards,\\n\\nThis weekend I came a...   1607957127   \n",
       "3  After Saturday's SPCE failed launch, I though ...   1607957052   \n",
       "4  NEW YORK, Dec. 11, 2020 (GLOBE NEWSWIRE) -- Na...   1607955881   \n",
       "\n",
       "   num_comments  subreddit_subscribers  upvote_ratio             DateTime  \\\n",
       "0             6                1697978           1.0  2020-12-14 14:50:30   \n",
       "1             9                1697974           1.0  2020-12-14 14:47:40   \n",
       "2             4                1697963           1.0  2020-12-14 14:45:27   \n",
       "3            85                1697960           1.0  2020-12-14 14:44:12   \n",
       "4             7                1697898           1.0  2020-12-14 14:24:41   \n",
       "\n",
       "         Date   DateTime2  \n",
       "0  2020-12-14  2020-12-14  \n",
       "1  2020-12-14  2020-12-14  \n",
       "2  2020-12-14  2020-12-14  \n",
       "3  2020-12-14  2020-12-14  \n",
       "4  2020-12-14  2020-12-14  "
      ]
     },
     "execution_count": 9,
     "metadata": {},
     "output_type": "execute_result"
    }
   ],
   "source": [
    "main_posts_dates.head()"
   ]
  },
  {
   "cell_type": "code",
   "execution_count": 94,
   "metadata": {},
   "outputs": [
    {
     "data": {
      "text/plain": [
       "'2021-02-04'"
      ]
     },
     "execution_count": 94,
     "metadata": {},
     "output_type": "execute_result"
    }
   ],
   "source": [
    "max(main_posts_dates['DateTime2'])"
   ]
  },
  {
   "cell_type": "code",
   "execution_count": 4,
   "metadata": {},
   "outputs": [
    {
     "data": {
      "text/html": [
       "<div>\n",
       "<style scoped>\n",
       "    .dataframe tbody tr th:only-of-type {\n",
       "        vertical-align: middle;\n",
       "    }\n",
       "\n",
       "    .dataframe tbody tr th {\n",
       "        vertical-align: top;\n",
       "    }\n",
       "\n",
       "    .dataframe thead th {\n",
       "        text-align: right;\n",
       "    }\n",
       "</style>\n",
       "<table border=\"1\" class=\"dataframe\">\n",
       "  <thead>\n",
       "    <tr style=\"text-align: right;\">\n",
       "      <th></th>\n",
       "      <th>Unnamed: 0</th>\n",
       "      <th>author</th>\n",
       "      <th>title</th>\n",
       "      <th>selftext</th>\n",
       "      <th>created_utc</th>\n",
       "      <th>num_comments</th>\n",
       "      <th>subreddit_subscribers</th>\n",
       "      <th>upvote_ratio</th>\n",
       "      <th>DateTime</th>\n",
       "      <th>Date</th>\n",
       "      <th>DateTime2</th>\n",
       "    </tr>\n",
       "  </thead>\n",
       "  <tbody>\n",
       "    <tr>\n",
       "      <th>0</th>\n",
       "      <td>117</td>\n",
       "      <td>Jathansapus</td>\n",
       "      <td>Best Platform to Trade on for Noob?</td>\n",
       "      <td>Not sure what platform to use to get started a...</td>\n",
       "      <td>1611586267</td>\n",
       "      <td>0</td>\n",
       "      <td>2110204</td>\n",
       "      <td>1.0</td>\n",
       "      <td>2021-01-25 14:51:07</td>\n",
       "      <td>2021-01-25</td>\n",
       "      <td>2021-01-25</td>\n",
       "    </tr>\n",
       "    <tr>\n",
       "      <th>1</th>\n",
       "      <td>118</td>\n",
       "      <td>JacksProstrate</td>\n",
       "      <td>Level 2 Stream: AMD, AMC, BB, GME, TSLA, PLTR</td>\n",
       "      <td>[https://www.youtube.com/watch?v=ng-tKf-D6os](...</td>\n",
       "      <td>1611586267</td>\n",
       "      <td>0</td>\n",
       "      <td>2110203</td>\n",
       "      <td>1.0</td>\n",
       "      <td>2021-01-25 14:51:07</td>\n",
       "      <td>2021-01-25</td>\n",
       "      <td>2021-01-25</td>\n",
       "    </tr>\n",
       "    <tr>\n",
       "      <th>2</th>\n",
       "      <td>119</td>\n",
       "      <td>hotbakedgoods</td>\n",
       "      <td>Would I single #GME call be worth it at the cu...</td>\n",
       "      <td>Would it be worth buying a single call at $200...</td>\n",
       "      <td>1611586253</td>\n",
       "      <td>0</td>\n",
       "      <td>2110182</td>\n",
       "      <td>1.0</td>\n",
       "      <td>2021-01-25 14:50:53</td>\n",
       "      <td>2021-01-25</td>\n",
       "      <td>2021-01-25</td>\n",
       "    </tr>\n",
       "    <tr>\n",
       "      <th>3</th>\n",
       "      <td>120</td>\n",
       "      <td>LordMegamad</td>\n",
       "      <td>Mods should add a rule, banning anyone who sel...</td>\n",
       "      <td>Let's ride this shit to pluto🚀🚀🚀🚀🚀</td>\n",
       "      <td>1611586245</td>\n",
       "      <td>0</td>\n",
       "      <td>2110166</td>\n",
       "      <td>1.0</td>\n",
       "      <td>2021-01-25 14:50:45</td>\n",
       "      <td>2021-01-25</td>\n",
       "      <td>2021-01-25</td>\n",
       "    </tr>\n",
       "    <tr>\n",
       "      <th>4</th>\n",
       "      <td>121</td>\n",
       "      <td>jimm_rustle</td>\n",
       "      <td>$JAGX taking off</td>\n",
       "      <td>SPAC merger announcement tomorrow, easy cash m...</td>\n",
       "      <td>1611586242</td>\n",
       "      <td>0</td>\n",
       "      <td>2110162</td>\n",
       "      <td>1.0</td>\n",
       "      <td>2021-01-25 14:50:42</td>\n",
       "      <td>2021-01-25</td>\n",
       "      <td>2021-01-25</td>\n",
       "    </tr>\n",
       "  </tbody>\n",
       "</table>\n",
       "</div>"
      ],
      "text/plain": [
       "   Unnamed: 0          author  \\\n",
       "0         117     Jathansapus   \n",
       "1         118  JacksProstrate   \n",
       "2         119   hotbakedgoods   \n",
       "3         120     LordMegamad   \n",
       "4         121     jimm_rustle   \n",
       "\n",
       "                                               title  \\\n",
       "0                Best Platform to Trade on for Noob?   \n",
       "1      Level 2 Stream: AMD, AMC, BB, GME, TSLA, PLTR   \n",
       "2  Would I single #GME call be worth it at the cu...   \n",
       "3  Mods should add a rule, banning anyone who sel...   \n",
       "4                                   $JAGX taking off   \n",
       "\n",
       "                                            selftext  created_utc  \\\n",
       "0  Not sure what platform to use to get started a...   1611586267   \n",
       "1  [https://www.youtube.com/watch?v=ng-tKf-D6os](...   1611586267   \n",
       "2  Would it be worth buying a single call at $200...   1611586253   \n",
       "3                 Let's ride this shit to pluto🚀🚀🚀🚀🚀   1611586245   \n",
       "4  SPAC merger announcement tomorrow, easy cash m...   1611586242   \n",
       "\n",
       "   num_comments  subreddit_subscribers  upvote_ratio             DateTime  \\\n",
       "0             0                2110204           1.0  2021-01-25 14:51:07   \n",
       "1             0                2110203           1.0  2021-01-25 14:51:07   \n",
       "2             0                2110182           1.0  2021-01-25 14:50:53   \n",
       "3             0                2110166           1.0  2021-01-25 14:50:45   \n",
       "4             0                2110162           1.0  2021-01-25 14:50:42   \n",
       "\n",
       "         Date   DateTime2  \n",
       "0  2021-01-25  2021-01-25  \n",
       "1  2021-01-25  2021-01-25  \n",
       "2  2021-01-25  2021-01-25  \n",
       "3  2021-01-25  2021-01-25  \n",
       "4  2021-01-25  2021-01-25  "
      ]
     },
     "execution_count": 4,
     "metadata": {},
     "output_type": "execute_result"
    }
   ],
   "source": [
    "main_posts_dates_reduced.head()"
   ]
  },
  {
   "cell_type": "code",
   "execution_count": 5,
   "metadata": {},
   "outputs": [],
   "source": [
    "main_posts_dates['DateTime2'] = pd.to_datetime(main_posts_dates['Date'], format='%Y-%m-%d')"
   ]
  },
  {
   "cell_type": "code",
   "execution_count": 10,
   "metadata": {},
   "outputs": [],
   "source": [
    "# datetime processing the created_utc column\n",
    "# since this is done and exported to csv, i commented it out so i wouldn't re-run it again\n",
    "\n",
    "# date = []\n",
    "# datetime = []\n",
    "# for i in range(len(main_posts)):\n",
    "#     datetime.append(pd.to_datetime(dt.fromtimestamp(main_posts.created_utc[i])))\n",
    "#     date.append(pd.to_datetime(dt.fromtimestamp(main_posts.created_utc[i])).strftime('%Y-%m-%d'))\n",
    "\n",
    "# main_posts['DateTime'] = datetime\n",
    "# main_posts['Date'] = date\n",
    "\n",
    "# main_posts.to_csv('../data/main_posts_dates.csv', index=False)"
   ]
  },
  {
   "cell_type": "markdown",
   "metadata": {},
   "source": [
    "reducing the posts to consider to between 1/22/2021 through the end of january since the full dataset was too big. but still this only reduced the number of posts from ~96500 to ~57600..."
   ]
  },
  {
   "cell_type": "code",
   "execution_count": 10,
   "metadata": {},
   "outputs": [],
   "source": [
    "indices = (main_posts_dates['Date'] < '2021-02-01') & (main_posts_dates['Date'] > '2021-01-22')\n",
    "main_posts_dates_reduced = main_posts_dates.loc[indices]"
   ]
  },
  {
   "cell_type": "code",
   "execution_count": 7,
   "metadata": {},
   "outputs": [],
   "source": [
    "# export this to csv so i can easily import next time\n",
    "main_posts_dates_reduced.to_csv('../data/main_posts_dates_reduced.csv')"
   ]
  },
  {
   "cell_type": "code",
   "execution_count": 160,
   "metadata": {},
   "outputs": [
    {
     "data": {
      "text/plain": [
       "57662"
      ]
     },
     "execution_count": 160,
     "metadata": {},
     "output_type": "execute_result"
    }
   ],
   "source": [
    "len(main_posts_dates_reduced)"
   ]
  },
  {
   "cell_type": "code",
   "execution_count": 13,
   "metadata": {},
   "outputs": [
    {
     "data": {
      "text/plain": [
       "author\n",
       "0toHeroInvesting    54\n",
       "WSBVoteBot          40\n",
       "ineedhelpdude11     38\n",
       "JasonColin          35\n",
       "Tereek7504          31\n",
       "phase-one1          26\n",
       "vitocorlene         24\n",
       "deltalake           24\n",
       "-paraZite           23\n",
       "thisshitisfiya      21\n",
       "Name: title, dtype: int64"
      ]
     },
     "execution_count": 13,
     "metadata": {},
     "output_type": "execute_result"
    }
   ],
   "source": [
    "top_10_posters = main_posts_dates.groupby('author')['title'].count().sort_values(ascending=False)[2:12]\n",
    "top_10_posters"
   ]
  },
  {
   "cell_type": "code",
   "execution_count": 14,
   "metadata": {},
   "outputs": [
    {
     "data": {
      "image/png": "[encoded data removed]",
      "text/plain": [
       "<Figure size 1080x720 with 1 Axes>"
      ]
     },
     "metadata": {},
     "output_type": "display_data"
    }
   ],
   "source": [
    "fig,ax = plt.subplots(figsize=(15,10))\n",
    "top_10_posters.plot(kind='bar')\n",
    "plt.xlabel('Post Author')\n",
    "plt.ylabel('Number of Posts')\n",
    "plt.title('Highest Contributors')\n",
    "plt.savefig('../images/highestcontributors.png', dpi=200);"
   ]
  },
  {
   "cell_type": "markdown",
   "metadata": {},
   "source": [
    "### looking at some specific date info, posts per day and whatnot"
   ]
  },
  {
   "cell_type": "code",
   "execution_count": 117,
   "metadata": {},
   "outputs": [
    {
     "data": {
      "text/plain": [
       "32"
      ]
     },
     "execution_count": 117,
     "metadata": {},
     "output_type": "execute_result"
    }
   ],
   "source": [
    "days = len(main_posts_dates.loc[main_posts_dates['Date'] <= ('2021-01-08')].groupby('Date'))\n",
    "days"
   ]
  },
  {
   "cell_type": "code",
   "execution_count": 118,
   "metadata": {},
   "outputs": [
    {
     "data": {
      "text/plain": [
       "7383"
      ]
     },
     "execution_count": 118,
     "metadata": {},
     "output_type": "execute_result"
    }
   ],
   "source": [
    "posts = main_posts_dates.loc[main_posts_dates['Date'] <= ('2021-01-08')]['selftext'].count()\n",
    "posts"
   ]
  },
  {
   "cell_type": "code",
   "execution_count": 28,
   "metadata": {},
   "outputs": [
    {
     "data": {
      "text/plain": [
       "269.84090909090907"
      ]
     },
     "execution_count": 28,
     "metadata": {},
     "output_type": "execute_result"
    }
   ],
   "source": [
    "average_daily = posts/days\n",
    "average_daily"
   ]
  },
  {
   "cell_type": "code",
   "execution_count": 32,
   "metadata": {},
   "outputs": [
    {
     "data": {
      "text/plain": [
       "361"
      ]
     },
     "execution_count": 32,
     "metadata": {},
     "output_type": "execute_result"
    }
   ],
   "source": [
    "main_posts_dates.loc[main_posts_dates['Date'] == ('2021-01-24')]['selftext'].count()"
   ]
  },
  {
   "cell_type": "code",
   "execution_count": 31,
   "metadata": {},
   "outputs": [
    {
     "data": {
      "text/plain": [
       "3866"
      ]
     },
     "execution_count": 31,
     "metadata": {},
     "output_type": "execute_result"
    }
   ],
   "source": [
    "main_posts_dates.loc[main_posts_dates['Date'] == ('2021-01-25')]['selftext'].count()"
   ]
  },
  {
   "cell_type": "code",
   "execution_count": 30,
   "metadata": {},
   "outputs": [
    {
     "data": {
      "text/plain": [
       "2127"
      ]
     },
     "execution_count": 30,
     "metadata": {},
     "output_type": "execute_result"
    }
   ],
   "source": [
    "main_posts_dates.loc[main_posts_dates['Date'] == ('2021-01-26')]['selftext'].count()"
   ]
  },
  {
   "cell_type": "code",
   "execution_count": 29,
   "metadata": {},
   "outputs": [
    {
     "data": {
      "text/plain": [
       "15087"
      ]
     },
     "execution_count": 29,
     "metadata": {},
     "output_type": "execute_result"
    }
   ],
   "source": [
    "main_posts_dates.loc[main_posts_dates['Date'] == ('2021-01-27')]['selftext'].count()"
   ]
  },
  {
   "cell_type": "code",
   "execution_count": 11,
   "metadata": {},
   "outputs": [
    {
     "data": {
      "text/plain": [
       "28119"
      ]
     },
     "execution_count": 11,
     "metadata": {},
     "output_type": "execute_result"
    }
   ],
   "source": [
    "main_posts_dates.loc[main_posts_dates['Date'] == ('2021-01-28')]['selftext'].count()"
   ]
  },
  {
   "cell_type": "code",
   "execution_count": 12,
   "metadata": {},
   "outputs": [
    {
     "data": {
      "text/plain": [
       "523"
      ]
     },
     "execution_count": 12,
     "metadata": {},
     "output_type": "execute_result"
    }
   ],
   "source": [
    "main_posts_dates.loc[main_posts_dates['Date'] == ('2021-01-21')]['selftext'].count()"
   ]
  },
  {
   "cell_type": "code",
   "execution_count": 13,
   "metadata": {},
   "outputs": [
    {
     "data": {
      "text/plain": [
       "583"
      ]
     },
     "execution_count": 13,
     "metadata": {},
     "output_type": "execute_result"
    }
   ],
   "source": [
    "main_posts_dates.loc[main_posts_dates['Date'] == ('2021-01-14')]['selftext'].count()"
   ]
  },
  {
   "cell_type": "code",
   "execution_count": 14,
   "metadata": {},
   "outputs": [
    {
     "data": {
      "text/plain": [
       "302"
      ]
     },
     "execution_count": 14,
     "metadata": {},
     "output_type": "execute_result"
    }
   ],
   "source": [
    "main_posts_dates.loc[main_posts_dates['Date'] == ('2021-01-07')]['selftext'].count()"
   ]
  },
  {
   "cell_type": "code",
   "execution_count": 15,
   "metadata": {},
   "outputs": [
    {
     "data": {
      "text/plain": [
       "168"
      ]
     },
     "execution_count": 15,
     "metadata": {},
     "output_type": "execute_result"
    }
   ],
   "source": [
    "main_posts_dates.loc[main_posts_dates['Date'] == ('2021-01-01')]['selftext'].count()"
   ]
  },
  {
   "cell_type": "code",
   "execution_count": 159,
   "metadata": {},
   "outputs": [
    {
     "name": "stdout",
     "output_type": "stream",
     "text": [
      "3190 total posts\n"
     ]
    },
    {
     "data": {
      "text/plain": [
       "[('🚀', 10897),\n",
       " ('💎', 597),\n",
       " ('🦍', 202),\n",
       " ('🙌', 180),\n",
       " ('🌙', 134),\n",
       " ('🌈', 103),\n",
       " ('🐻', 88),\n",
       " ('🌝', 74),\n",
       " ('🌚', 71),\n",
       " ('😂', 70)]"
      ]
     },
     "execution_count": 159,
     "metadata": {},
     "output_type": "execute_result"
    }
   ],
   "source": [
    "indices = (main_posts_dates['Date'] > '2020-12-14') & (main_posts_dates['Date'] > '2021-01-08')\n",
    "date = '2021-01-28'\n",
    "tot = 0\n",
    "em = []\n",
    "for post in main_posts_dates.loc[indices]['selftext']:\n",
    "    for word in post.split():\n",
    "        if word in emoji.UNICODE_EMOJI_ENGLISH:\n",
    "            tot += 1\n",
    "            break  \n",
    "\n",
    "    for word in post.split():\n",
    "        if word in emoji.UNICODE_EMOJI_ENGLISH:\n",
    "            em.append(word)\n",
    "            continue\n",
    "\n",
    "            \n",
    "print(str(tot) + ' total posts')\n",
    "Counter(em).most_common()[0:10]\n",
    "\n"
   ]
  },
  {
   "cell_type": "code",
   "execution_count": 67,
   "metadata": {},
   "outputs": [
    {
     "data": {
      "text/plain": [
       "':full_moon_face:'"
      ]
     },
     "execution_count": 67,
     "metadata": {},
     "output_type": "execute_result"
    }
   ],
   "source": [
    "emoji.UNICODE_EMOJI_ENGLISH['🌝']"
   ]
  },
  {
   "cell_type": "code",
   "execution_count": 56,
   "metadata": {},
   "outputs": [
    {
     "data": {
      "text/plain": [
       "3"
      ]
     },
     "execution_count": 56,
     "metadata": {},
     "output_type": "execute_result"
    }
   ],
   "source": [
    "sentence = 'this is a ssntence'\n",
    "s = 0\n",
    "\n",
    "for word in sentence.split():\n",
    "    for letter in word:\n",
    "        if letter == 's':\n",
    "            s += 1\n",
    "            break\n",
    "            \n",
    "s"
   ]
  },
  {
   "cell_type": "code",
   "execution_count": 42,
   "metadata": {},
   "outputs": [
    {
     "name": "stdout",
     "output_type": "stream",
     "text": [
      "5:30\n",
      "AM\n",
      "Woke\n",
      "up\n",
      "five\n",
      "minutes\n",
      "ago.\n",
      "Made\n",
      "some\n",
      "instant\n",
      "coffee\n",
      "because\n",
      "drip\n",
      "would\n",
      "take\n",
      "too\n",
      "long.\n",
      "Watching\n",
      "the\n",
      "e-mini\n",
      "tick\n",
      "because\n",
      "the\n",
      "1m\n",
      "is\n",
      "too\n",
      "slow.\n",
      "Heard\n",
      "in\n",
      "the\n",
      "background\n",
      "my\n",
      "girlfriend\n",
      "muttering\n",
      "something\n",
      "along\n",
      "the\n",
      "lines\n",
      "of\n",
      "\"grow\n",
      "up\"\n",
      "as\n",
      "she\n",
      "takes\n",
      "her\n",
      "suitcase\n",
      "and\n",
      "slam\n",
      "the\n",
      "door,\n",
      "but\n",
      "it\n",
      "barely\n",
      "registers.\n",
      "12/16\n",
      "SPYc\n",
      "is\n",
      "all\n",
      "I\n",
      "can\n",
      "think\n",
      "of\n",
      "at\n",
      "the\n",
      "moment.\n",
      "Normally\n",
      "I\n",
      "wouldn't\n",
      "be\n",
      "shaking,\n",
      "but\n",
      "after\n",
      "losing\n",
      "50%\n",
      "of\n",
      "my\n",
      "account\n",
      "in\n",
      "the\n",
      "past\n",
      "week\n",
      "I\n",
      "decided\n",
      "to\n",
      "go\n",
      "all-in\n",
      "to\n",
      "get\n",
      "back\n",
      "to\n",
      "even.\n",
      "Once\n",
      "I\n",
      "am\n",
      "back\n",
      "in\n",
      "the\n",
      "black\n",
      "things\n",
      "will\n",
      "be\n",
      "different.\n",
      "I\n",
      "won't\n",
      "do\n",
      "this\n",
      "again,\n",
      "I\n",
      "swear.\n",
      "It\n",
      "is\n",
      "just\n",
      "a\n",
      "one\n",
      "time\n",
      "thing.\n",
      "I\n",
      "promise\n",
      "the\n",
      "Gods\n",
      "that\n",
      "if\n",
      "I\n",
      "can\n",
      "expire\n",
      "ITM\n",
      "I\n",
      "will\n",
      "stick\n",
      "to\n",
      "strict\n",
      "bankroll\n",
      "management.\n",
      "Vertical\n",
      "spreads\n",
      "only,\n",
      "maximum\n",
      "5%\n",
      "per\n",
      "trade.\n",
      "Can't\n",
      "think\n",
      "about\n",
      "losing\n",
      "on\n",
      "this\n",
      "trade\n",
      "because\n",
      "it\n",
      "would\n",
      "be\n",
      "too\n",
      "painful.\n",
      "My\n",
      "brain\n",
      "is\n",
      "locked\n",
      "into\n",
      "pure\n",
      "optimism.\n",
      "No\n",
      "plans\n",
      "what\n",
      "I\n",
      "will\n",
      "do\n",
      "if\n",
      "I\n",
      "lose\n",
      "so\n",
      "why\n",
      "worry?\n",
      "Each\n",
      "downward\n",
      "tick\n",
      "brings\n",
      "a\n",
      "shock\n",
      "of\n",
      "pain\n",
      "to\n",
      "my\n",
      "entire\n",
      "body.\n",
      "Every\n",
      "sharp\n",
      "uptick\n",
      "brings\n",
      "relief.\n",
      "12/16.\n",
      "Please,\n",
      "Gods,\n",
      "give\n",
      "it\n",
      "to\n",
      "me\n",
      "one\n",
      "time.\n"
     ]
    }
   ],
   "source": [
    "for word in main_posts_dates['selftext'].iloc[0].split():\n",
    "    print(word)"
   ]
  },
  {
   "cell_type": "markdown",
   "metadata": {},
   "source": [
    "## still need to work on the x-axis formatting here, but that's not a priority right now"
   ]
  },
  {
   "cell_type": "code",
   "execution_count": 110,
   "metadata": {},
   "outputs": [
    {
     "data": {
      "text/plain": [
       "'2020-12-08'"
      ]
     },
     "execution_count": 110,
     "metadata": {},
     "output_type": "execute_result"
    }
   ],
   "source": [
    "min(main_posts_dates['DateTime2'])"
   ]
  },
  {
   "cell_type": "code",
   "execution_count": 111,
   "metadata": {},
   "outputs": [
    {
     "data": {
      "text/plain": [
       "'2021-02-04'"
      ]
     },
     "execution_count": 111,
     "metadata": {},
     "output_type": "execute_result"
    }
   ],
   "source": [
    "max(main_posts_dates['DateTime2'])"
   ]
  },
  {
   "cell_type": "code",
   "execution_count": 113,
   "metadata": {},
   "outputs": [
    {
     "data": {
      "text/plain": [
       "''"
      ]
     },
     "execution_count": 113,
     "metadata": {},
     "output_type": "execute_result"
    },
    {
     "data": {
      "image/png": "[encoded data removed]",
      "text/plain": [
       "<Figure size 1080x576 with 1 Axes>"
      ]
     },
     "metadata": {},
     "output_type": "display_data"
    }
   ],
   "source": [
    "fig, ax = plt.subplots(figsize = (15,8))\n",
    "\n",
    "indices = main_posts_dates['DateTime2'] >= ('2020-12-14')\n",
    "plt.plot(main_posts_dates.loc[indices].groupby('DateTime2')['selftext'].count())\n",
    "plt.title('Posts by Date')\n",
    "plt.xlabel('Date')\n",
    "plt.ylabel('Number of Posts')\n",
    "\n",
    "\n",
    "# ax.vlines(dt.strftime('2021-01-28', '%Y-%m-%d'), ymin=0, ymax=(30000))\n",
    "\n",
    "# d = timedelta(days=5)\n",
    "# min_date = min(main_posts_dates['DateTime2'])\n",
    "# max_date = max(main_posts_dates['DateTime2'])\n",
    "\n",
    "\n",
    "# base = min_date\n",
    "# plt.xticks(np.arange(min_date - d, max_date + d, timedelta(days=7)))\n",
    "\n",
    "\n",
    "# ax.xaxis.set_major_locator(mdates.DayLocator())\n",
    "# ax.xaxis.set_major_formatter(mdates.DateFormatter('%Y-%m-%d'))\n",
    "\n",
    "# ax.xaxis.set_major_formatter(mat.ticker.FormatStrFormatter('%d'))\n",
    "\n",
    "# locator = mdates.DayLocator()\n",
    "# fmt = mdates.DateFormatter('%d')\n",
    "# X = plt.gca().xaxis\n",
    "# X.set_major_locator(locator)\n",
    "# X.set_major_formatter(fmt)\n",
    "# plt.savefig('../images/GME_posts_plot')\n",
    ";"
   ]
  },
  {
   "cell_type": "code",
   "execution_count": 109,
   "metadata": {},
   "outputs": [
    {
     "data": {
      "text/plain": [
       "Timestamp('2020-12-14 00:00:00')"
      ]
     },
     "execution_count": 109,
     "metadata": {},
     "output_type": "execute_result"
    }
   ],
   "source": [
    "min(tickerDf['DateTime'])"
   ]
  },
  {
   "cell_type": "code",
   "execution_count": null,
   "metadata": {},
   "outputs": [],
   "source": [
    "max(tickerDf['DateTime'])"
   ]
  },
  {
   "cell_type": "code",
   "execution_count": 95,
   "metadata": {
    "scrolled": true
   },
   "outputs": [
    {
     "data": {
      "text/html": [
       "<div>\n",
       "<style scoped>\n",
       "    .dataframe tbody tr th:only-of-type {\n",
       "        vertical-align: middle;\n",
       "    }\n",
       "\n",
       "    .dataframe tbody tr th {\n",
       "        vertical-align: top;\n",
       "    }\n",
       "\n",
       "    .dataframe thead th {\n",
       "        text-align: right;\n",
       "    }\n",
       "</style>\n",
       "<table border=\"1\" class=\"dataframe\">\n",
       "  <thead>\n",
       "    <tr style=\"text-align: right;\">\n",
       "      <th></th>\n",
       "      <th>Open</th>\n",
       "      <th>High</th>\n",
       "      <th>Low</th>\n",
       "      <th>Close</th>\n",
       "      <th>Volume</th>\n",
       "      <th>Dividends</th>\n",
       "      <th>Stock Splits</th>\n",
       "    </tr>\n",
       "    <tr>\n",
       "      <th>Date</th>\n",
       "      <th></th>\n",
       "      <th></th>\n",
       "      <th></th>\n",
       "      <th></th>\n",
       "      <th></th>\n",
       "      <th></th>\n",
       "      <th></th>\n",
       "    </tr>\n",
       "  </thead>\n",
       "  <tbody>\n",
       "    <tr>\n",
       "      <th>2021-01-28</th>\n",
       "      <td>265.000000</td>\n",
       "      <td>483.000000</td>\n",
       "      <td>112.250000</td>\n",
       "      <td>193.600006</td>\n",
       "      <td>58815800</td>\n",
       "      <td>0</td>\n",
       "      <td>0</td>\n",
       "    </tr>\n",
       "    <tr>\n",
       "      <th>2021-01-29</th>\n",
       "      <td>379.709991</td>\n",
       "      <td>413.980011</td>\n",
       "      <td>250.000000</td>\n",
       "      <td>325.000000</td>\n",
       "      <td>50259200</td>\n",
       "      <td>0</td>\n",
       "      <td>0</td>\n",
       "    </tr>\n",
       "    <tr>\n",
       "      <th>2021-02-01</th>\n",
       "      <td>316.559998</td>\n",
       "      <td>322.000000</td>\n",
       "      <td>212.000000</td>\n",
       "      <td>225.000000</td>\n",
       "      <td>37382200</td>\n",
       "      <td>0</td>\n",
       "      <td>0</td>\n",
       "    </tr>\n",
       "    <tr>\n",
       "      <th>2021-02-02</th>\n",
       "      <td>140.759995</td>\n",
       "      <td>158.000000</td>\n",
       "      <td>74.220001</td>\n",
       "      <td>90.000000</td>\n",
       "      <td>78183100</td>\n",
       "      <td>0</td>\n",
       "      <td>0</td>\n",
       "    </tr>\n",
       "    <tr>\n",
       "      <th>2021-02-03</th>\n",
       "      <td>112.010002</td>\n",
       "      <td>113.400002</td>\n",
       "      <td>85.250000</td>\n",
       "      <td>92.410004</td>\n",
       "      <td>42698500</td>\n",
       "      <td>0</td>\n",
       "      <td>0</td>\n",
       "    </tr>\n",
       "  </tbody>\n",
       "</table>\n",
       "</div>"
      ],
      "text/plain": [
       "                  Open        High         Low       Close    Volume  \\\n",
       "Date                                                                   \n",
       "2021-01-28  265.000000  483.000000  112.250000  193.600006  58815800   \n",
       "2021-01-29  379.709991  413.980011  250.000000  325.000000  50259200   \n",
       "2021-02-01  316.559998  322.000000  212.000000  225.000000  37382200   \n",
       "2021-02-02  140.759995  158.000000   74.220001   90.000000  78183100   \n",
       "2021-02-03  112.010002  113.400002   85.250000   92.410004  42698500   \n",
       "\n",
       "            Dividends  Stock Splits  \n",
       "Date                                 \n",
       "2021-01-28          0             0  \n",
       "2021-01-29          0             0  \n",
       "2021-02-01          0             0  \n",
       "2021-02-02          0             0  \n",
       "2021-02-03          0             0  "
      ]
     },
     "execution_count": 95,
     "metadata": {},
     "output_type": "execute_result"
    }
   ],
   "source": [
    "#define the ticker symbol\n",
    "tickerSymbol = 'GME'\n",
    "\n",
    "#get data on this ticker\n",
    "tickerData = yf.Ticker(tickerSymbol)\n",
    "\n",
    "#get the historical prices for this ticker\n",
    "tickerDf = tickerData.history(period='1d', start='2020-12-14', end='2021-02-04')\n",
    "\n",
    "#see your data\n",
    "tickerDf.tail()"
   ]
  },
  {
   "cell_type": "code",
   "execution_count": 102,
   "metadata": {},
   "outputs": [],
   "source": [
    "tickerDf['DateTime'] = pd.to_datetime(tickerDf.index)"
   ]
  },
  {
   "cell_type": "code",
   "execution_count": null,
   "metadata": {},
   "outputs": [],
   "source": [
    "2020-12-19\n",
    "2020-12-20\n",
    "16.299999"
   ]
  },
  {
   "cell_type": "code",
   "execution_count": 103,
   "metadata": {
    "scrolled": false
   },
   "outputs": [
    {
     "data": {
      "text/html": [
       "<div>\n",
       "<style scoped>\n",
       "    .dataframe tbody tr th:only-of-type {\n",
       "        vertical-align: middle;\n",
       "    }\n",
       "\n",
       "    .dataframe tbody tr th {\n",
       "        vertical-align: top;\n",
       "    }\n",
       "\n",
       "    .dataframe thead th {\n",
       "        text-align: right;\n",
       "    }\n",
       "</style>\n",
       "<table border=\"1\" class=\"dataframe\">\n",
       "  <thead>\n",
       "    <tr style=\"text-align: right;\">\n",
       "      <th></th>\n",
       "      <th>Open</th>\n",
       "      <th>High</th>\n",
       "      <th>Low</th>\n",
       "      <th>Close</th>\n",
       "      <th>Volume</th>\n",
       "      <th>Dividends</th>\n",
       "      <th>Stock Splits</th>\n",
       "      <th>DateTime</th>\n",
       "    </tr>\n",
       "    <tr>\n",
       "      <th>Date</th>\n",
       "      <th></th>\n",
       "      <th></th>\n",
       "      <th></th>\n",
       "      <th></th>\n",
       "      <th></th>\n",
       "      <th></th>\n",
       "      <th></th>\n",
       "      <th></th>\n",
       "    </tr>\n",
       "  </thead>\n",
       "  <tbody>\n",
       "    <tr>\n",
       "      <th>2020-12-14</th>\n",
       "      <td>13.340000</td>\n",
       "      <td>13.430000</td>\n",
       "      <td>12.140000</td>\n",
       "      <td>12.720000</td>\n",
       "      <td>10007100</td>\n",
       "      <td>0</td>\n",
       "      <td>0</td>\n",
       "      <td>2020-12-14</td>\n",
       "    </tr>\n",
       "    <tr>\n",
       "      <th>2020-12-15</th>\n",
       "      <td>12.780000</td>\n",
       "      <td>14.020000</td>\n",
       "      <td>12.480000</td>\n",
       "      <td>13.850000</td>\n",
       "      <td>8192900</td>\n",
       "      <td>0</td>\n",
       "      <td>0</td>\n",
       "      <td>2020-12-15</td>\n",
       "    </tr>\n",
       "    <tr>\n",
       "      <th>2020-12-16</th>\n",
       "      <td>13.960000</td>\n",
       "      <td>14.310000</td>\n",
       "      <td>13.580000</td>\n",
       "      <td>13.850000</td>\n",
       "      <td>5865100</td>\n",
       "      <td>0</td>\n",
       "      <td>0</td>\n",
       "      <td>2020-12-16</td>\n",
       "    </tr>\n",
       "    <tr>\n",
       "      <th>2020-12-17</th>\n",
       "      <td>13.960000</td>\n",
       "      <td>14.980000</td>\n",
       "      <td>13.590000</td>\n",
       "      <td>14.830000</td>\n",
       "      <td>8194900</td>\n",
       "      <td>0</td>\n",
       "      <td>0</td>\n",
       "      <td>2020-12-17</td>\n",
       "    </tr>\n",
       "    <tr>\n",
       "      <th>2020-12-18</th>\n",
       "      <td>15.780000</td>\n",
       "      <td>16.299999</td>\n",
       "      <td>15.180000</td>\n",
       "      <td>15.630000</td>\n",
       "      <td>16618800</td>\n",
       "      <td>0</td>\n",
       "      <td>0</td>\n",
       "      <td>2020-12-18</td>\n",
       "    </tr>\n",
       "    <tr>\n",
       "      <th>2020-12-21</th>\n",
       "      <td>15.810000</td>\n",
       "      <td>16.350000</td>\n",
       "      <td>15.280000</td>\n",
       "      <td>15.530000</td>\n",
       "      <td>9876100</td>\n",
       "      <td>0</td>\n",
       "      <td>0</td>\n",
       "      <td>2020-12-21</td>\n",
       "    </tr>\n",
       "    <tr>\n",
       "      <th>2020-12-22</th>\n",
       "      <td>16.219999</td>\n",
       "      <td>20.040001</td>\n",
       "      <td>16.150000</td>\n",
       "      <td>19.459999</td>\n",
       "      <td>30652700</td>\n",
       "      <td>0</td>\n",
       "      <td>0</td>\n",
       "      <td>2020-12-22</td>\n",
       "    </tr>\n",
       "    <tr>\n",
       "      <th>2020-12-23</th>\n",
       "      <td>20.170000</td>\n",
       "      <td>22.350000</td>\n",
       "      <td>19.129999</td>\n",
       "      <td>20.570000</td>\n",
       "      <td>25830300</td>\n",
       "      <td>0</td>\n",
       "      <td>0</td>\n",
       "      <td>2020-12-23</td>\n",
       "    </tr>\n",
       "    <tr>\n",
       "      <th>2020-12-24</th>\n",
       "      <td>21.010000</td>\n",
       "      <td>21.480000</td>\n",
       "      <td>19.950001</td>\n",
       "      <td>20.150000</td>\n",
       "      <td>6262200</td>\n",
       "      <td>0</td>\n",
       "      <td>0</td>\n",
       "      <td>2020-12-24</td>\n",
       "    </tr>\n",
       "    <tr>\n",
       "      <th>2020-12-28</th>\n",
       "      <td>21.309999</td>\n",
       "      <td>21.969999</td>\n",
       "      <td>20.350000</td>\n",
       "      <td>20.990000</td>\n",
       "      <td>8965900</td>\n",
       "      <td>0</td>\n",
       "      <td>0</td>\n",
       "      <td>2020-12-28</td>\n",
       "    </tr>\n",
       "    <tr>\n",
       "      <th>2020-12-29</th>\n",
       "      <td>20.820000</td>\n",
       "      <td>21.070000</td>\n",
       "      <td>18.559999</td>\n",
       "      <td>19.379999</td>\n",
       "      <td>9241400</td>\n",
       "      <td>0</td>\n",
       "      <td>0</td>\n",
       "      <td>2020-12-29</td>\n",
       "    </tr>\n",
       "    <tr>\n",
       "      <th>2020-12-30</th>\n",
       "      <td>19.379999</td>\n",
       "      <td>20.000000</td>\n",
       "      <td>18.850000</td>\n",
       "      <td>19.260000</td>\n",
       "      <td>5934400</td>\n",
       "      <td>0</td>\n",
       "      <td>0</td>\n",
       "      <td>2020-12-30</td>\n",
       "    </tr>\n",
       "    <tr>\n",
       "      <th>2020-12-31</th>\n",
       "      <td>19.250000</td>\n",
       "      <td>19.799999</td>\n",
       "      <td>18.799999</td>\n",
       "      <td>18.840000</td>\n",
       "      <td>6922700</td>\n",
       "      <td>0</td>\n",
       "      <td>0</td>\n",
       "      <td>2020-12-31</td>\n",
       "    </tr>\n",
       "    <tr>\n",
       "      <th>2021-01-04</th>\n",
       "      <td>19.000000</td>\n",
       "      <td>19.100000</td>\n",
       "      <td>17.150000</td>\n",
       "      <td>17.250000</td>\n",
       "      <td>10022500</td>\n",
       "      <td>0</td>\n",
       "      <td>0</td>\n",
       "      <td>2021-01-04</td>\n",
       "    </tr>\n",
       "    <tr>\n",
       "      <th>2021-01-05</th>\n",
       "      <td>17.350000</td>\n",
       "      <td>18.080000</td>\n",
       "      <td>17.230000</td>\n",
       "      <td>17.370001</td>\n",
       "      <td>4961500</td>\n",
       "      <td>0</td>\n",
       "      <td>0</td>\n",
       "      <td>2021-01-05</td>\n",
       "    </tr>\n",
       "    <tr>\n",
       "      <th>2021-01-06</th>\n",
       "      <td>17.340000</td>\n",
       "      <td>18.980000</td>\n",
       "      <td>17.330000</td>\n",
       "      <td>18.360001</td>\n",
       "      <td>6056200</td>\n",
       "      <td>0</td>\n",
       "      <td>0</td>\n",
       "      <td>2021-01-06</td>\n",
       "    </tr>\n",
       "    <tr>\n",
       "      <th>2021-01-07</th>\n",
       "      <td>18.469999</td>\n",
       "      <td>19.450001</td>\n",
       "      <td>18.020000</td>\n",
       "      <td>18.080000</td>\n",
       "      <td>6129300</td>\n",
       "      <td>0</td>\n",
       "      <td>0</td>\n",
       "      <td>2021-01-07</td>\n",
       "    </tr>\n",
       "    <tr>\n",
       "      <th>2021-01-08</th>\n",
       "      <td>18.180000</td>\n",
       "      <td>18.299999</td>\n",
       "      <td>17.080000</td>\n",
       "      <td>17.690001</td>\n",
       "      <td>6482000</td>\n",
       "      <td>0</td>\n",
       "      <td>0</td>\n",
       "      <td>2021-01-08</td>\n",
       "    </tr>\n",
       "    <tr>\n",
       "      <th>2021-01-11</th>\n",
       "      <td>19.410000</td>\n",
       "      <td>20.650000</td>\n",
       "      <td>19.010000</td>\n",
       "      <td>19.940001</td>\n",
       "      <td>14927600</td>\n",
       "      <td>0</td>\n",
       "      <td>0</td>\n",
       "      <td>2021-01-11</td>\n",
       "    </tr>\n",
       "    <tr>\n",
       "      <th>2021-01-12</th>\n",
       "      <td>19.959999</td>\n",
       "      <td>20.400000</td>\n",
       "      <td>19.320000</td>\n",
       "      <td>19.950001</td>\n",
       "      <td>7060700</td>\n",
       "      <td>0</td>\n",
       "      <td>0</td>\n",
       "      <td>2021-01-12</td>\n",
       "    </tr>\n",
       "    <tr>\n",
       "      <th>2021-01-13</th>\n",
       "      <td>20.420000</td>\n",
       "      <td>38.650002</td>\n",
       "      <td>20.030001</td>\n",
       "      <td>31.400000</td>\n",
       "      <td>144501700</td>\n",
       "      <td>0</td>\n",
       "      <td>0</td>\n",
       "      <td>2021-01-13</td>\n",
       "    </tr>\n",
       "    <tr>\n",
       "      <th>2021-01-14</th>\n",
       "      <td>38.090000</td>\n",
       "      <td>43.060001</td>\n",
       "      <td>33.049999</td>\n",
       "      <td>39.910000</td>\n",
       "      <td>93717400</td>\n",
       "      <td>0</td>\n",
       "      <td>0</td>\n",
       "      <td>2021-01-14</td>\n",
       "    </tr>\n",
       "    <tr>\n",
       "      <th>2021-01-15</th>\n",
       "      <td>38.490002</td>\n",
       "      <td>40.750000</td>\n",
       "      <td>34.009998</td>\n",
       "      <td>35.500000</td>\n",
       "      <td>46866400</td>\n",
       "      <td>0</td>\n",
       "      <td>0</td>\n",
       "      <td>2021-01-15</td>\n",
       "    </tr>\n",
       "    <tr>\n",
       "      <th>2021-01-19</th>\n",
       "      <td>41.549999</td>\n",
       "      <td>45.520000</td>\n",
       "      <td>36.639999</td>\n",
       "      <td>39.360001</td>\n",
       "      <td>74721900</td>\n",
       "      <td>0</td>\n",
       "      <td>0</td>\n",
       "      <td>2021-01-19</td>\n",
       "    </tr>\n",
       "    <tr>\n",
       "      <th>2021-01-20</th>\n",
       "      <td>37.369999</td>\n",
       "      <td>41.189999</td>\n",
       "      <td>36.060001</td>\n",
       "      <td>39.119999</td>\n",
       "      <td>33471800</td>\n",
       "      <td>0</td>\n",
       "      <td>0</td>\n",
       "      <td>2021-01-20</td>\n",
       "    </tr>\n",
       "    <tr>\n",
       "      <th>2021-01-21</th>\n",
       "      <td>39.230000</td>\n",
       "      <td>44.750000</td>\n",
       "      <td>37.000000</td>\n",
       "      <td>43.029999</td>\n",
       "      <td>57079800</td>\n",
       "      <td>0</td>\n",
       "      <td>0</td>\n",
       "      <td>2021-01-21</td>\n",
       "    </tr>\n",
       "    <tr>\n",
       "      <th>2021-01-22</th>\n",
       "      <td>42.590000</td>\n",
       "      <td>76.760002</td>\n",
       "      <td>42.320000</td>\n",
       "      <td>65.010002</td>\n",
       "      <td>197157900</td>\n",
       "      <td>0</td>\n",
       "      <td>0</td>\n",
       "      <td>2021-01-22</td>\n",
       "    </tr>\n",
       "    <tr>\n",
       "      <th>2021-01-25</th>\n",
       "      <td>96.730003</td>\n",
       "      <td>159.179993</td>\n",
       "      <td>61.130001</td>\n",
       "      <td>76.790001</td>\n",
       "      <td>177874000</td>\n",
       "      <td>0</td>\n",
       "      <td>0</td>\n",
       "      <td>2021-01-25</td>\n",
       "    </tr>\n",
       "    <tr>\n",
       "      <th>2021-01-26</th>\n",
       "      <td>88.559998</td>\n",
       "      <td>150.000000</td>\n",
       "      <td>80.199997</td>\n",
       "      <td>147.979996</td>\n",
       "      <td>178588000</td>\n",
       "      <td>0</td>\n",
       "      <td>0</td>\n",
       "      <td>2021-01-26</td>\n",
       "    </tr>\n",
       "    <tr>\n",
       "      <th>2021-01-27</th>\n",
       "      <td>354.829987</td>\n",
       "      <td>380.000000</td>\n",
       "      <td>249.000000</td>\n",
       "      <td>347.510010</td>\n",
       "      <td>93396700</td>\n",
       "      <td>0</td>\n",
       "      <td>0</td>\n",
       "      <td>2021-01-27</td>\n",
       "    </tr>\n",
       "    <tr>\n",
       "      <th>2021-01-28</th>\n",
       "      <td>265.000000</td>\n",
       "      <td>483.000000</td>\n",
       "      <td>112.250000</td>\n",
       "      <td>193.600006</td>\n",
       "      <td>58815800</td>\n",
       "      <td>0</td>\n",
       "      <td>0</td>\n",
       "      <td>2021-01-28</td>\n",
       "    </tr>\n",
       "    <tr>\n",
       "      <th>2021-01-29</th>\n",
       "      <td>379.709991</td>\n",
       "      <td>413.980011</td>\n",
       "      <td>250.000000</td>\n",
       "      <td>325.000000</td>\n",
       "      <td>50259200</td>\n",
       "      <td>0</td>\n",
       "      <td>0</td>\n",
       "      <td>2021-01-29</td>\n",
       "    </tr>\n",
       "    <tr>\n",
       "      <th>2021-02-01</th>\n",
       "      <td>316.559998</td>\n",
       "      <td>322.000000</td>\n",
       "      <td>212.000000</td>\n",
       "      <td>225.000000</td>\n",
       "      <td>37382200</td>\n",
       "      <td>0</td>\n",
       "      <td>0</td>\n",
       "      <td>2021-02-01</td>\n",
       "    </tr>\n",
       "    <tr>\n",
       "      <th>2021-02-02</th>\n",
       "      <td>140.759995</td>\n",
       "      <td>158.000000</td>\n",
       "      <td>74.220001</td>\n",
       "      <td>90.000000</td>\n",
       "      <td>78183100</td>\n",
       "      <td>0</td>\n",
       "      <td>0</td>\n",
       "      <td>2021-02-02</td>\n",
       "    </tr>\n",
       "    <tr>\n",
       "      <th>2021-02-03</th>\n",
       "      <td>112.010002</td>\n",
       "      <td>113.400002</td>\n",
       "      <td>85.250000</td>\n",
       "      <td>92.410004</td>\n",
       "      <td>42698500</td>\n",
       "      <td>0</td>\n",
       "      <td>0</td>\n",
       "      <td>2021-02-03</td>\n",
       "    </tr>\n",
       "  </tbody>\n",
       "</table>\n",
       "</div>"
      ],
      "text/plain": [
       "                  Open        High         Low       Close     Volume  \\\n",
       "Date                                                                    \n",
       "2020-12-14   13.340000   13.430000   12.140000   12.720000   10007100   \n",
       "2020-12-15   12.780000   14.020000   12.480000   13.850000    8192900   \n",
       "2020-12-16   13.960000   14.310000   13.580000   13.850000    5865100   \n",
       "2020-12-17   13.960000   14.980000   13.590000   14.830000    8194900   \n",
       "2020-12-18   15.780000   16.299999   15.180000   15.630000   16618800   \n",
       "2020-12-21   15.810000   16.350000   15.280000   15.530000    9876100   \n",
       "2020-12-22   16.219999   20.040001   16.150000   19.459999   30652700   \n",
       "2020-12-23   20.170000   22.350000   19.129999   20.570000   25830300   \n",
       "2020-12-24   21.010000   21.480000   19.950001   20.150000    6262200   \n",
       "2020-12-28   21.309999   21.969999   20.350000   20.990000    8965900   \n",
       "2020-12-29   20.820000   21.070000   18.559999   19.379999    9241400   \n",
       "2020-12-30   19.379999   20.000000   18.850000   19.260000    5934400   \n",
       "2020-12-31   19.250000   19.799999   18.799999   18.840000    6922700   \n",
       "2021-01-04   19.000000   19.100000   17.150000   17.250000   10022500   \n",
       "2021-01-05   17.350000   18.080000   17.230000   17.370001    4961500   \n",
       "2021-01-06   17.340000   18.980000   17.330000   18.360001    6056200   \n",
       "2021-01-07   18.469999   19.450001   18.020000   18.080000    6129300   \n",
       "2021-01-08   18.180000   18.299999   17.080000   17.690001    6482000   \n",
       "2021-01-11   19.410000   20.650000   19.010000   19.940001   14927600   \n",
       "2021-01-12   19.959999   20.400000   19.320000   19.950001    7060700   \n",
       "2021-01-13   20.420000   38.650002   20.030001   31.400000  144501700   \n",
       "2021-01-14   38.090000   43.060001   33.049999   39.910000   93717400   \n",
       "2021-01-15   38.490002   40.750000   34.009998   35.500000   46866400   \n",
       "2021-01-19   41.549999   45.520000   36.639999   39.360001   74721900   \n",
       "2021-01-20   37.369999   41.189999   36.060001   39.119999   33471800   \n",
       "2021-01-21   39.230000   44.750000   37.000000   43.029999   57079800   \n",
       "2021-01-22   42.590000   76.760002   42.320000   65.010002  197157900   \n",
       "2021-01-25   96.730003  159.179993   61.130001   76.790001  177874000   \n",
       "2021-01-26   88.559998  150.000000   80.199997  147.979996  178588000   \n",
       "2021-01-27  354.829987  380.000000  249.000000  347.510010   93396700   \n",
       "2021-01-28  265.000000  483.000000  112.250000  193.600006   58815800   \n",
       "2021-01-29  379.709991  413.980011  250.000000  325.000000   50259200   \n",
       "2021-02-01  316.559998  322.000000  212.000000  225.000000   37382200   \n",
       "2021-02-02  140.759995  158.000000   74.220001   90.000000   78183100   \n",
       "2021-02-03  112.010002  113.400002   85.250000   92.410004   42698500   \n",
       "\n",
       "            Dividends  Stock Splits   DateTime  \n",
       "Date                                            \n",
       "2020-12-14          0             0 2020-12-14  \n",
       "2020-12-15          0             0 2020-12-15  \n",
       "2020-12-16          0             0 2020-12-16  \n",
       "2020-12-17          0             0 2020-12-17  \n",
       "2020-12-18          0             0 2020-12-18  \n",
       "2020-12-21          0             0 2020-12-21  \n",
       "2020-12-22          0             0 2020-12-22  \n",
       "2020-12-23          0             0 2020-12-23  \n",
       "2020-12-24          0             0 2020-12-24  \n",
       "2020-12-28          0             0 2020-12-28  \n",
       "2020-12-29          0             0 2020-12-29  \n",
       "2020-12-30          0             0 2020-12-30  \n",
       "2020-12-31          0             0 2020-12-31  \n",
       "2021-01-04          0             0 2021-01-04  \n",
       "2021-01-05          0             0 2021-01-05  \n",
       "2021-01-06          0             0 2021-01-06  \n",
       "2021-01-07          0             0 2021-01-07  \n",
       "2021-01-08          0             0 2021-01-08  \n",
       "2021-01-11          0             0 2021-01-11  \n",
       "2021-01-12          0             0 2021-01-12  \n",
       "2021-01-13          0             0 2021-01-13  \n",
       "2021-01-14          0             0 2021-01-14  \n",
       "2021-01-15          0             0 2021-01-15  \n",
       "2021-01-19          0             0 2021-01-19  \n",
       "2021-01-20          0             0 2021-01-20  \n",
       "2021-01-21          0             0 2021-01-21  \n",
       "2021-01-22          0             0 2021-01-22  \n",
       "2021-01-25          0             0 2021-01-25  \n",
       "2021-01-26          0             0 2021-01-26  \n",
       "2021-01-27          0             0 2021-01-27  \n",
       "2021-01-28          0             0 2021-01-28  \n",
       "2021-01-29          0             0 2021-01-29  \n",
       "2021-02-01          0             0 2021-02-01  \n",
       "2021-02-02          0             0 2021-02-02  \n",
       "2021-02-03          0             0 2021-02-03  "
      ]
     },
     "execution_count": 103,
     "metadata": {},
     "output_type": "execute_result"
    }
   ],
   "source": [
    "tickerDf"
   ]
  },
  {
   "cell_type": "code",
   "execution_count": 115,
   "metadata": {},
   "outputs": [
    {
     "data": {
      "text/plain": [
       "18.552999925613403"
      ]
     },
     "execution_count": 115,
     "metadata": {},
     "output_type": "execute_result"
    }
   ],
   "source": [
    "ind = tickerDf.DateTime <= '2021-01-12'\n",
    "np.mean(tickerDf.loc[ind]['High'])"
   ]
  },
  {
   "cell_type": "code",
   "execution_count": 116,
   "metadata": {},
   "outputs": [
    {
     "data": {
      "text/plain": [
       "483.0"
      ]
     },
     "execution_count": 116,
     "metadata": {},
     "output_type": "execute_result"
    }
   ],
   "source": [
    "max(tickerDf.High)"
   ]
  },
  {
   "cell_type": "code",
   "execution_count": 105,
   "metadata": {
    "scrolled": false
   },
   "outputs": [
    {
     "data": {
      "text/plain": [
       "Text(0, 0.5, 'Price, $')"
      ]
     },
     "execution_count": 105,
     "metadata": {},
     "output_type": "execute_result"
    },
    {
     "data": {
      "image/png": "[encoded data removed]",
      "text/plain": [
       "<Figure size 1080x576 with 1 Axes>"
      ]
     },
     "metadata": {},
     "output_type": "display_data"
    }
   ],
   "source": [
    "fig, ax = plt.subplots(figsize = (15,8))\n",
    "plt.plot(tickerDf['DateTime'], tickerDf['High'])\n",
    "plt.title('GME Daily Highs')\n",
    "plt.xlabel('Date')\n",
    "plt.ylabel('Price, $')\n",
    "# plt.savefig('../images/GME_prices_plot');"
   ]
  },
  {
   "cell_type": "code",
   "execution_count": 104,
   "metadata": {},
   "outputs": [
    {
     "data": {
      "text/plain": [
       "Text(0, 0.5, 'Price, $')"
      ]
     },
     "execution_count": 104,
     "metadata": {},
     "output_type": "execute_result"
    },
    {
     "ename": "ValueError",
     "evalue": "view limit minimum -36891.200000000004 is less than 1 and is an invalid Matplotlib date value. This often happens if you pass a non-datetime value to an axis that has datetime units",
     "output_type": "error",
     "traceback": [
      "\u001b[0;31m---------------------------------------------------------------------------\u001b[0m",
      "\u001b[0;31mValueError\u001b[0m                                Traceback (most recent call last)",
      "\u001b[0;32m~/opt/anaconda3/lib/python3.7/site-packages/IPython/core/formatters.py\u001b[0m in \u001b[0;36m__call__\u001b[0;34m(self, obj)\u001b[0m\n\u001b[1;32m    339\u001b[0m                 \u001b[0;32mpass\u001b[0m\u001b[0;34m\u001b[0m\u001b[0;34m\u001b[0m\u001b[0m\n\u001b[1;32m    340\u001b[0m             \u001b[0;32melse\u001b[0m\u001b[0;34m:\u001b[0m\u001b[0;34m\u001b[0m\u001b[0;34m\u001b[0m\u001b[0m\n\u001b[0;32m--> 341\u001b[0;31m                 \u001b[0;32mreturn\u001b[0m \u001b[0mprinter\u001b[0m\u001b[0;34m(\u001b[0m\u001b[0mobj\u001b[0m\u001b[0;34m)\u001b[0m\u001b[0;34m\u001b[0m\u001b[0;34m\u001b[0m\u001b[0m\n\u001b[0m\u001b[1;32m    342\u001b[0m             \u001b[0;31m# Finally look for special method names\u001b[0m\u001b[0;34m\u001b[0m\u001b[0;34m\u001b[0m\u001b[0;34m\u001b[0m\u001b[0m\n\u001b[1;32m    343\u001b[0m             \u001b[0mmethod\u001b[0m \u001b[0;34m=\u001b[0m \u001b[0mget_real_method\u001b[0m\u001b[0;34m(\u001b[0m\u001b[0mobj\u001b[0m\u001b[0;34m,\u001b[0m \u001b[0mself\u001b[0m\u001b[0;34m.\u001b[0m\u001b[0mprint_method\u001b[0m\u001b[0;34m)\u001b[0m\u001b[0;34m\u001b[0m\u001b[0;34m\u001b[0m\u001b[0m\n",
      "\u001b[0;32m~/opt/anaconda3/lib/python3.7/site-packages/IPython/core/pylabtools.py\u001b[0m in \u001b[0;36m<lambda>\u001b[0;34m(fig)\u001b[0m\n\u001b[1;32m    246\u001b[0m \u001b[0;34m\u001b[0m\u001b[0m\n\u001b[1;32m    247\u001b[0m     \u001b[0;32mif\u001b[0m \u001b[0;34m'png'\u001b[0m \u001b[0;32min\u001b[0m \u001b[0mformats\u001b[0m\u001b[0;34m:\u001b[0m\u001b[0;34m\u001b[0m\u001b[0;34m\u001b[0m\u001b[0m\n\u001b[0;32m--> 248\u001b[0;31m         \u001b[0mpng_formatter\u001b[0m\u001b[0;34m.\u001b[0m\u001b[0mfor_type\u001b[0m\u001b[0;34m(\u001b[0m\u001b[0mFigure\u001b[0m\u001b[0;34m,\u001b[0m \u001b[0;32mlambda\u001b[0m \u001b[0mfig\u001b[0m\u001b[0;34m:\u001b[0m \u001b[0mprint_figure\u001b[0m\u001b[0;34m(\u001b[0m\u001b[0mfig\u001b[0m\u001b[0;34m,\u001b[0m \u001b[0;34m'png'\u001b[0m\u001b[0;34m,\u001b[0m \u001b[0;34m**\u001b[0m\u001b[0mkwargs\u001b[0m\u001b[0;34m)\u001b[0m\u001b[0;34m)\u001b[0m\u001b[0;34m\u001b[0m\u001b[0;34m\u001b[0m\u001b[0m\n\u001b[0m\u001b[1;32m    249\u001b[0m     \u001b[0;32mif\u001b[0m \u001b[0;34m'retina'\u001b[0m \u001b[0;32min\u001b[0m \u001b[0mformats\u001b[0m \u001b[0;32mor\u001b[0m \u001b[0;34m'png2x'\u001b[0m \u001b[0;32min\u001b[0m \u001b[0mformats\u001b[0m\u001b[0;34m:\u001b[0m\u001b[0;34m\u001b[0m\u001b[0;34m\u001b[0m\u001b[0m\n\u001b[1;32m    250\u001b[0m         \u001b[0mpng_formatter\u001b[0m\u001b[0;34m.\u001b[0m\u001b[0mfor_type\u001b[0m\u001b[0;34m(\u001b[0m\u001b[0mFigure\u001b[0m\u001b[0;34m,\u001b[0m \u001b[0;32mlambda\u001b[0m \u001b[0mfig\u001b[0m\u001b[0;34m:\u001b[0m \u001b[0mretina_figure\u001b[0m\u001b[0;34m(\u001b[0m\u001b[0mfig\u001b[0m\u001b[0;34m,\u001b[0m \u001b[0;34m**\u001b[0m\u001b[0mkwargs\u001b[0m\u001b[0;34m)\u001b[0m\u001b[0;34m)\u001b[0m\u001b[0;34m\u001b[0m\u001b[0;34m\u001b[0m\u001b[0m\n",
      "\u001b[0;32m~/opt/anaconda3/lib/python3.7/site-packages/IPython/core/pylabtools.py\u001b[0m in \u001b[0;36mprint_figure\u001b[0;34m(fig, fmt, bbox_inches, **kwargs)\u001b[0m\n\u001b[1;32m    130\u001b[0m         \u001b[0mFigureCanvasBase\u001b[0m\u001b[0;34m(\u001b[0m\u001b[0mfig\u001b[0m\u001b[0;34m)\u001b[0m\u001b[0;34m\u001b[0m\u001b[0;34m\u001b[0m\u001b[0m\n\u001b[1;32m    131\u001b[0m \u001b[0;34m\u001b[0m\u001b[0m\n\u001b[0;32m--> 132\u001b[0;31m     \u001b[0mfig\u001b[0m\u001b[0;34m.\u001b[0m\u001b[0mcanvas\u001b[0m\u001b[0;34m.\u001b[0m\u001b[0mprint_figure\u001b[0m\u001b[0;34m(\u001b[0m\u001b[0mbytes_io\u001b[0m\u001b[0;34m,\u001b[0m \u001b[0;34m**\u001b[0m\u001b[0mkw\u001b[0m\u001b[0;34m)\u001b[0m\u001b[0;34m\u001b[0m\u001b[0;34m\u001b[0m\u001b[0m\n\u001b[0m\u001b[1;32m    133\u001b[0m     \u001b[0mdata\u001b[0m \u001b[0;34m=\u001b[0m \u001b[0mbytes_io\u001b[0m\u001b[0;34m.\u001b[0m\u001b[0mgetvalue\u001b[0m\u001b[0;34m(\u001b[0m\u001b[0;34m)\u001b[0m\u001b[0;34m\u001b[0m\u001b[0;34m\u001b[0m\u001b[0m\n\u001b[1;32m    134\u001b[0m     \u001b[0;32mif\u001b[0m \u001b[0mfmt\u001b[0m \u001b[0;34m==\u001b[0m \u001b[0;34m'svg'\u001b[0m\u001b[0;34m:\u001b[0m\u001b[0;34m\u001b[0m\u001b[0;34m\u001b[0m\u001b[0m\n",
      "\u001b[0;32m~/opt/anaconda3/lib/python3.7/site-packages/matplotlib/backend_bases.py\u001b[0m in \u001b[0;36mprint_figure\u001b[0;34m(self, filename, dpi, facecolor, edgecolor, orientation, format, bbox_inches, **kwargs)\u001b[0m\n\u001b[1;32m   2098\u001b[0m                            else suppress())\n\u001b[1;32m   2099\u001b[0m                     \u001b[0;32mwith\u001b[0m \u001b[0mctx\u001b[0m\u001b[0;34m:\u001b[0m\u001b[0;34m\u001b[0m\u001b[0;34m\u001b[0m\u001b[0m\n\u001b[0;32m-> 2100\u001b[0;31m                         \u001b[0mself\u001b[0m\u001b[0;34m.\u001b[0m\u001b[0mfigure\u001b[0m\u001b[0;34m.\u001b[0m\u001b[0mdraw\u001b[0m\u001b[0;34m(\u001b[0m\u001b[0mrenderer\u001b[0m\u001b[0;34m)\u001b[0m\u001b[0;34m\u001b[0m\u001b[0;34m\u001b[0m\u001b[0m\n\u001b[0m\u001b[1;32m   2101\u001b[0m                     \u001b[0mbbox_artists\u001b[0m \u001b[0;34m=\u001b[0m \u001b[0mkwargs\u001b[0m\u001b[0;34m.\u001b[0m\u001b[0mpop\u001b[0m\u001b[0;34m(\u001b[0m\u001b[0;34m\"bbox_extra_artists\"\u001b[0m\u001b[0;34m,\u001b[0m \u001b[0;32mNone\u001b[0m\u001b[0;34m)\u001b[0m\u001b[0;34m\u001b[0m\u001b[0;34m\u001b[0m\u001b[0m\n\u001b[1;32m   2102\u001b[0m                     bbox_inches = self.figure.get_tightbbox(renderer,\n",
      "\u001b[0;32m~/opt/anaconda3/lib/python3.7/site-packages/matplotlib/artist.py\u001b[0m in \u001b[0;36mdraw_wrapper\u001b[0;34m(artist, renderer, *args, **kwargs)\u001b[0m\n\u001b[1;32m     36\u001b[0m                 \u001b[0mrenderer\u001b[0m\u001b[0;34m.\u001b[0m\u001b[0mstart_filter\u001b[0m\u001b[0;34m(\u001b[0m\u001b[0;34m)\u001b[0m\u001b[0;34m\u001b[0m\u001b[0;34m\u001b[0m\u001b[0m\n\u001b[1;32m     37\u001b[0m \u001b[0;34m\u001b[0m\u001b[0m\n\u001b[0;32m---> 38\u001b[0;31m             \u001b[0;32mreturn\u001b[0m \u001b[0mdraw\u001b[0m\u001b[0;34m(\u001b[0m\u001b[0martist\u001b[0m\u001b[0;34m,\u001b[0m \u001b[0mrenderer\u001b[0m\u001b[0;34m,\u001b[0m \u001b[0;34m*\u001b[0m\u001b[0margs\u001b[0m\u001b[0;34m,\u001b[0m \u001b[0;34m**\u001b[0m\u001b[0mkwargs\u001b[0m\u001b[0;34m)\u001b[0m\u001b[0;34m\u001b[0m\u001b[0;34m\u001b[0m\u001b[0m\n\u001b[0m\u001b[1;32m     39\u001b[0m         \u001b[0;32mfinally\u001b[0m\u001b[0;34m:\u001b[0m\u001b[0;34m\u001b[0m\u001b[0;34m\u001b[0m\u001b[0m\n\u001b[1;32m     40\u001b[0m             \u001b[0;32mif\u001b[0m \u001b[0martist\u001b[0m\u001b[0;34m.\u001b[0m\u001b[0mget_agg_filter\u001b[0m\u001b[0;34m(\u001b[0m\u001b[0;34m)\u001b[0m \u001b[0;32mis\u001b[0m \u001b[0;32mnot\u001b[0m \u001b[0;32mNone\u001b[0m\u001b[0;34m:\u001b[0m\u001b[0;34m\u001b[0m\u001b[0;34m\u001b[0m\u001b[0m\n",
      "\u001b[0;32m~/opt/anaconda3/lib/python3.7/site-packages/matplotlib/figure.py\u001b[0m in \u001b[0;36mdraw\u001b[0;34m(self, renderer)\u001b[0m\n\u001b[1;32m   1734\u001b[0m             \u001b[0mself\u001b[0m\u001b[0;34m.\u001b[0m\u001b[0mpatch\u001b[0m\u001b[0;34m.\u001b[0m\u001b[0mdraw\u001b[0m\u001b[0;34m(\u001b[0m\u001b[0mrenderer\u001b[0m\u001b[0;34m)\u001b[0m\u001b[0;34m\u001b[0m\u001b[0;34m\u001b[0m\u001b[0m\n\u001b[1;32m   1735\u001b[0m             mimage._draw_list_compositing_images(\n\u001b[0;32m-> 1736\u001b[0;31m                 renderer, self, artists, self.suppressComposite)\n\u001b[0m\u001b[1;32m   1737\u001b[0m \u001b[0;34m\u001b[0m\u001b[0m\n\u001b[1;32m   1738\u001b[0m             \u001b[0mrenderer\u001b[0m\u001b[0;34m.\u001b[0m\u001b[0mclose_group\u001b[0m\u001b[0;34m(\u001b[0m\u001b[0;34m'figure'\u001b[0m\u001b[0;34m)\u001b[0m\u001b[0;34m\u001b[0m\u001b[0;34m\u001b[0m\u001b[0m\n",
      "\u001b[0;32m~/opt/anaconda3/lib/python3.7/site-packages/matplotlib/image.py\u001b[0m in \u001b[0;36m_draw_list_compositing_images\u001b[0;34m(renderer, parent, artists, suppress_composite)\u001b[0m\n\u001b[1;32m    135\u001b[0m     \u001b[0;32mif\u001b[0m \u001b[0mnot_composite\u001b[0m \u001b[0;32mor\u001b[0m \u001b[0;32mnot\u001b[0m \u001b[0mhas_images\u001b[0m\u001b[0;34m:\u001b[0m\u001b[0;34m\u001b[0m\u001b[0;34m\u001b[0m\u001b[0m\n\u001b[1;32m    136\u001b[0m         \u001b[0;32mfor\u001b[0m \u001b[0ma\u001b[0m \u001b[0;32min\u001b[0m \u001b[0martists\u001b[0m\u001b[0;34m:\u001b[0m\u001b[0;34m\u001b[0m\u001b[0;34m\u001b[0m\u001b[0m\n\u001b[0;32m--> 137\u001b[0;31m             \u001b[0ma\u001b[0m\u001b[0;34m.\u001b[0m\u001b[0mdraw\u001b[0m\u001b[0;34m(\u001b[0m\u001b[0mrenderer\u001b[0m\u001b[0;34m)\u001b[0m\u001b[0;34m\u001b[0m\u001b[0;34m\u001b[0m\u001b[0m\n\u001b[0m\u001b[1;32m    138\u001b[0m     \u001b[0;32melse\u001b[0m\u001b[0;34m:\u001b[0m\u001b[0;34m\u001b[0m\u001b[0;34m\u001b[0m\u001b[0m\n\u001b[1;32m    139\u001b[0m         \u001b[0;31m# Composite any adjacent images together\u001b[0m\u001b[0;34m\u001b[0m\u001b[0;34m\u001b[0m\u001b[0;34m\u001b[0m\u001b[0m\n",
      "\u001b[0;32m~/opt/anaconda3/lib/python3.7/site-packages/matplotlib/artist.py\u001b[0m in \u001b[0;36mdraw_wrapper\u001b[0;34m(artist, renderer, *args, **kwargs)\u001b[0m\n\u001b[1;32m     36\u001b[0m                 \u001b[0mrenderer\u001b[0m\u001b[0;34m.\u001b[0m\u001b[0mstart_filter\u001b[0m\u001b[0;34m(\u001b[0m\u001b[0;34m)\u001b[0m\u001b[0;34m\u001b[0m\u001b[0;34m\u001b[0m\u001b[0m\n\u001b[1;32m     37\u001b[0m \u001b[0;34m\u001b[0m\u001b[0m\n\u001b[0;32m---> 38\u001b[0;31m             \u001b[0;32mreturn\u001b[0m \u001b[0mdraw\u001b[0m\u001b[0;34m(\u001b[0m\u001b[0martist\u001b[0m\u001b[0;34m,\u001b[0m \u001b[0mrenderer\u001b[0m\u001b[0;34m,\u001b[0m \u001b[0;34m*\u001b[0m\u001b[0margs\u001b[0m\u001b[0;34m,\u001b[0m \u001b[0;34m**\u001b[0m\u001b[0mkwargs\u001b[0m\u001b[0;34m)\u001b[0m\u001b[0;34m\u001b[0m\u001b[0;34m\u001b[0m\u001b[0m\n\u001b[0m\u001b[1;32m     39\u001b[0m         \u001b[0;32mfinally\u001b[0m\u001b[0;34m:\u001b[0m\u001b[0;34m\u001b[0m\u001b[0;34m\u001b[0m\u001b[0m\n\u001b[1;32m     40\u001b[0m             \u001b[0;32mif\u001b[0m \u001b[0martist\u001b[0m\u001b[0;34m.\u001b[0m\u001b[0mget_agg_filter\u001b[0m\u001b[0;34m(\u001b[0m\u001b[0;34m)\u001b[0m \u001b[0;32mis\u001b[0m \u001b[0;32mnot\u001b[0m \u001b[0;32mNone\u001b[0m\u001b[0;34m:\u001b[0m\u001b[0;34m\u001b[0m\u001b[0;34m\u001b[0m\u001b[0m\n",
      "\u001b[0;32m~/opt/anaconda3/lib/python3.7/site-packages/matplotlib/axes/_base.py\u001b[0m in \u001b[0;36mdraw\u001b[0;34m(self, renderer, inframe)\u001b[0m\n\u001b[1;32m   2628\u001b[0m             \u001b[0mrenderer\u001b[0m\u001b[0;34m.\u001b[0m\u001b[0mstop_rasterizing\u001b[0m\u001b[0;34m(\u001b[0m\u001b[0;34m)\u001b[0m\u001b[0;34m\u001b[0m\u001b[0;34m\u001b[0m\u001b[0m\n\u001b[1;32m   2629\u001b[0m \u001b[0;34m\u001b[0m\u001b[0m\n\u001b[0;32m-> 2630\u001b[0;31m         \u001b[0mmimage\u001b[0m\u001b[0;34m.\u001b[0m\u001b[0m_draw_list_compositing_images\u001b[0m\u001b[0;34m(\u001b[0m\u001b[0mrenderer\u001b[0m\u001b[0;34m,\u001b[0m \u001b[0mself\u001b[0m\u001b[0;34m,\u001b[0m \u001b[0martists\u001b[0m\u001b[0;34m)\u001b[0m\u001b[0;34m\u001b[0m\u001b[0;34m\u001b[0m\u001b[0m\n\u001b[0m\u001b[1;32m   2631\u001b[0m \u001b[0;34m\u001b[0m\u001b[0m\n\u001b[1;32m   2632\u001b[0m         \u001b[0mrenderer\u001b[0m\u001b[0;34m.\u001b[0m\u001b[0mclose_group\u001b[0m\u001b[0;34m(\u001b[0m\u001b[0;34m'axes'\u001b[0m\u001b[0;34m)\u001b[0m\u001b[0;34m\u001b[0m\u001b[0;34m\u001b[0m\u001b[0m\n",
      "\u001b[0;32m~/opt/anaconda3/lib/python3.7/site-packages/matplotlib/image.py\u001b[0m in \u001b[0;36m_draw_list_compositing_images\u001b[0;34m(renderer, parent, artists, suppress_composite)\u001b[0m\n\u001b[1;32m    135\u001b[0m     \u001b[0;32mif\u001b[0m \u001b[0mnot_composite\u001b[0m \u001b[0;32mor\u001b[0m \u001b[0;32mnot\u001b[0m \u001b[0mhas_images\u001b[0m\u001b[0;34m:\u001b[0m\u001b[0;34m\u001b[0m\u001b[0;34m\u001b[0m\u001b[0m\n\u001b[1;32m    136\u001b[0m         \u001b[0;32mfor\u001b[0m \u001b[0ma\u001b[0m \u001b[0;32min\u001b[0m \u001b[0martists\u001b[0m\u001b[0;34m:\u001b[0m\u001b[0;34m\u001b[0m\u001b[0;34m\u001b[0m\u001b[0m\n\u001b[0;32m--> 137\u001b[0;31m             \u001b[0ma\u001b[0m\u001b[0;34m.\u001b[0m\u001b[0mdraw\u001b[0m\u001b[0;34m(\u001b[0m\u001b[0mrenderer\u001b[0m\u001b[0;34m)\u001b[0m\u001b[0;34m\u001b[0m\u001b[0;34m\u001b[0m\u001b[0m\n\u001b[0m\u001b[1;32m    138\u001b[0m     \u001b[0;32melse\u001b[0m\u001b[0;34m:\u001b[0m\u001b[0;34m\u001b[0m\u001b[0;34m\u001b[0m\u001b[0m\n\u001b[1;32m    139\u001b[0m         \u001b[0;31m# Composite any adjacent images together\u001b[0m\u001b[0;34m\u001b[0m\u001b[0;34m\u001b[0m\u001b[0;34m\u001b[0m\u001b[0m\n",
      "\u001b[0;32m~/opt/anaconda3/lib/python3.7/site-packages/matplotlib/artist.py\u001b[0m in \u001b[0;36mdraw_wrapper\u001b[0;34m(artist, renderer, *args, **kwargs)\u001b[0m\n\u001b[1;32m     36\u001b[0m                 \u001b[0mrenderer\u001b[0m\u001b[0;34m.\u001b[0m\u001b[0mstart_filter\u001b[0m\u001b[0;34m(\u001b[0m\u001b[0;34m)\u001b[0m\u001b[0;34m\u001b[0m\u001b[0;34m\u001b[0m\u001b[0m\n\u001b[1;32m     37\u001b[0m \u001b[0;34m\u001b[0m\u001b[0m\n\u001b[0;32m---> 38\u001b[0;31m             \u001b[0;32mreturn\u001b[0m \u001b[0mdraw\u001b[0m\u001b[0;34m(\u001b[0m\u001b[0martist\u001b[0m\u001b[0;34m,\u001b[0m \u001b[0mrenderer\u001b[0m\u001b[0;34m,\u001b[0m \u001b[0;34m*\u001b[0m\u001b[0margs\u001b[0m\u001b[0;34m,\u001b[0m \u001b[0;34m**\u001b[0m\u001b[0mkwargs\u001b[0m\u001b[0;34m)\u001b[0m\u001b[0;34m\u001b[0m\u001b[0;34m\u001b[0m\u001b[0m\n\u001b[0m\u001b[1;32m     39\u001b[0m         \u001b[0;32mfinally\u001b[0m\u001b[0;34m:\u001b[0m\u001b[0;34m\u001b[0m\u001b[0;34m\u001b[0m\u001b[0m\n\u001b[1;32m     40\u001b[0m             \u001b[0;32mif\u001b[0m \u001b[0martist\u001b[0m\u001b[0;34m.\u001b[0m\u001b[0mget_agg_filter\u001b[0m\u001b[0;34m(\u001b[0m\u001b[0;34m)\u001b[0m \u001b[0;32mis\u001b[0m \u001b[0;32mnot\u001b[0m \u001b[0;32mNone\u001b[0m\u001b[0;34m:\u001b[0m\u001b[0;34m\u001b[0m\u001b[0;34m\u001b[0m\u001b[0m\n",
      "\u001b[0;32m~/opt/anaconda3/lib/python3.7/site-packages/matplotlib/axis.py\u001b[0m in \u001b[0;36mdraw\u001b[0;34m(self, renderer, *args, **kwargs)\u001b[0m\n\u001b[1;32m   1225\u001b[0m         \u001b[0mrenderer\u001b[0m\u001b[0;34m.\u001b[0m\u001b[0mopen_group\u001b[0m\u001b[0;34m(\u001b[0m\u001b[0m__name__\u001b[0m\u001b[0;34m,\u001b[0m \u001b[0mgid\u001b[0m\u001b[0;34m=\u001b[0m\u001b[0mself\u001b[0m\u001b[0;34m.\u001b[0m\u001b[0mget_gid\u001b[0m\u001b[0;34m(\u001b[0m\u001b[0;34m)\u001b[0m\u001b[0;34m)\u001b[0m\u001b[0;34m\u001b[0m\u001b[0;34m\u001b[0m\u001b[0m\n\u001b[1;32m   1226\u001b[0m \u001b[0;34m\u001b[0m\u001b[0m\n\u001b[0;32m-> 1227\u001b[0;31m         \u001b[0mticks_to_draw\u001b[0m \u001b[0;34m=\u001b[0m \u001b[0mself\u001b[0m\u001b[0;34m.\u001b[0m\u001b[0m_update_ticks\u001b[0m\u001b[0;34m(\u001b[0m\u001b[0;34m)\u001b[0m\u001b[0;34m\u001b[0m\u001b[0;34m\u001b[0m\u001b[0m\n\u001b[0m\u001b[1;32m   1228\u001b[0m         ticklabelBoxes, ticklabelBoxes2 = self._get_tick_bboxes(ticks_to_draw,\n\u001b[1;32m   1229\u001b[0m                                                                 renderer)\n",
      "\u001b[0;32m~/opt/anaconda3/lib/python3.7/site-packages/matplotlib/axis.py\u001b[0m in \u001b[0;36m_update_ticks\u001b[0;34m(self)\u001b[0m\n\u001b[1;32m   1101\u001b[0m         \u001b[0mthe\u001b[0m \u001b[0maxes\u001b[0m\u001b[0;34m.\u001b[0m  \u001b[0mReturn\u001b[0m \u001b[0mthe\u001b[0m \u001b[0mlist\u001b[0m \u001b[0mof\u001b[0m \u001b[0mticks\u001b[0m \u001b[0mthat\u001b[0m \u001b[0mwill\u001b[0m \u001b[0mbe\u001b[0m \u001b[0mdrawn\u001b[0m\u001b[0;34m.\u001b[0m\u001b[0;34m\u001b[0m\u001b[0;34m\u001b[0m\u001b[0m\n\u001b[1;32m   1102\u001b[0m         \"\"\"\n\u001b[0;32m-> 1103\u001b[0;31m         \u001b[0mmajor_locs\u001b[0m \u001b[0;34m=\u001b[0m \u001b[0mself\u001b[0m\u001b[0;34m.\u001b[0m\u001b[0mget_majorticklocs\u001b[0m\u001b[0;34m(\u001b[0m\u001b[0;34m)\u001b[0m\u001b[0;34m\u001b[0m\u001b[0;34m\u001b[0m\u001b[0m\n\u001b[0m\u001b[1;32m   1104\u001b[0m         \u001b[0mmajor_labels\u001b[0m \u001b[0;34m=\u001b[0m \u001b[0mself\u001b[0m\u001b[0;34m.\u001b[0m\u001b[0mmajor\u001b[0m\u001b[0;34m.\u001b[0m\u001b[0mformatter\u001b[0m\u001b[0;34m.\u001b[0m\u001b[0mformat_ticks\u001b[0m\u001b[0;34m(\u001b[0m\u001b[0mmajor_locs\u001b[0m\u001b[0;34m)\u001b[0m\u001b[0;34m\u001b[0m\u001b[0;34m\u001b[0m\u001b[0m\n\u001b[1;32m   1105\u001b[0m         \u001b[0mmajor_ticks\u001b[0m \u001b[0;34m=\u001b[0m \u001b[0mself\u001b[0m\u001b[0;34m.\u001b[0m\u001b[0mget_major_ticks\u001b[0m\u001b[0;34m(\u001b[0m\u001b[0mlen\u001b[0m\u001b[0;34m(\u001b[0m\u001b[0mmajor_locs\u001b[0m\u001b[0;34m)\u001b[0m\u001b[0;34m)\u001b[0m\u001b[0;34m\u001b[0m\u001b[0;34m\u001b[0m\u001b[0m\n",
      "\u001b[0;32m~/opt/anaconda3/lib/python3.7/site-packages/matplotlib/axis.py\u001b[0m in \u001b[0;36mget_majorticklocs\u001b[0;34m(self)\u001b[0m\n\u001b[1;32m   1346\u001b[0m     \u001b[0;32mdef\u001b[0m \u001b[0mget_majorticklocs\u001b[0m\u001b[0;34m(\u001b[0m\u001b[0mself\u001b[0m\u001b[0;34m)\u001b[0m\u001b[0;34m:\u001b[0m\u001b[0;34m\u001b[0m\u001b[0;34m\u001b[0m\u001b[0m\n\u001b[1;32m   1347\u001b[0m         \u001b[0;34m\"\"\"Get the array of major tick locations in data coordinates.\"\"\"\u001b[0m\u001b[0;34m\u001b[0m\u001b[0;34m\u001b[0m\u001b[0m\n\u001b[0;32m-> 1348\u001b[0;31m         \u001b[0;32mreturn\u001b[0m \u001b[0mself\u001b[0m\u001b[0;34m.\u001b[0m\u001b[0mmajor\u001b[0m\u001b[0;34m.\u001b[0m\u001b[0mlocator\u001b[0m\u001b[0;34m(\u001b[0m\u001b[0;34m)\u001b[0m\u001b[0;34m\u001b[0m\u001b[0;34m\u001b[0m\u001b[0m\n\u001b[0m\u001b[1;32m   1349\u001b[0m \u001b[0;34m\u001b[0m\u001b[0m\n\u001b[1;32m   1350\u001b[0m     \u001b[0;32mdef\u001b[0m \u001b[0mget_minorticklocs\u001b[0m\u001b[0;34m(\u001b[0m\u001b[0mself\u001b[0m\u001b[0;34m)\u001b[0m\u001b[0;34m:\u001b[0m\u001b[0;34m\u001b[0m\u001b[0;34m\u001b[0m\u001b[0m\n",
      "\u001b[0;32m~/opt/anaconda3/lib/python3.7/site-packages/matplotlib/dates.py\u001b[0m in \u001b[0;36m__call__\u001b[0;34m(self)\u001b[0m\n\u001b[1;32m   1336\u001b[0m     \u001b[0;32mdef\u001b[0m \u001b[0m__call__\u001b[0m\u001b[0;34m(\u001b[0m\u001b[0mself\u001b[0m\u001b[0;34m)\u001b[0m\u001b[0;34m:\u001b[0m\u001b[0;34m\u001b[0m\u001b[0;34m\u001b[0m\u001b[0m\n\u001b[1;32m   1337\u001b[0m         \u001b[0;34m'Return the locations of the ticks'\u001b[0m\u001b[0;34m\u001b[0m\u001b[0;34m\u001b[0m\u001b[0m\n\u001b[0;32m-> 1338\u001b[0;31m         \u001b[0mself\u001b[0m\u001b[0;34m.\u001b[0m\u001b[0mrefresh\u001b[0m\u001b[0;34m(\u001b[0m\u001b[0;34m)\u001b[0m\u001b[0;34m\u001b[0m\u001b[0;34m\u001b[0m\u001b[0m\n\u001b[0m\u001b[1;32m   1339\u001b[0m         \u001b[0;32mreturn\u001b[0m \u001b[0mself\u001b[0m\u001b[0;34m.\u001b[0m\u001b[0m_locator\u001b[0m\u001b[0;34m(\u001b[0m\u001b[0;34m)\u001b[0m\u001b[0;34m\u001b[0m\u001b[0;34m\u001b[0m\u001b[0m\n\u001b[1;32m   1340\u001b[0m \u001b[0;34m\u001b[0m\u001b[0m\n",
      "\u001b[0;32m~/opt/anaconda3/lib/python3.7/site-packages/matplotlib/dates.py\u001b[0m in \u001b[0;36mrefresh\u001b[0;34m(self)\u001b[0m\n\u001b[1;32m   1362\u001b[0m     \u001b[0;32mdef\u001b[0m \u001b[0mrefresh\u001b[0m\u001b[0;34m(\u001b[0m\u001b[0mself\u001b[0m\u001b[0;34m)\u001b[0m\u001b[0;34m:\u001b[0m\u001b[0;34m\u001b[0m\u001b[0;34m\u001b[0m\u001b[0m\n\u001b[1;32m   1363\u001b[0m         \u001b[0;31m# docstring inherited\u001b[0m\u001b[0;34m\u001b[0m\u001b[0;34m\u001b[0m\u001b[0;34m\u001b[0m\u001b[0m\n\u001b[0;32m-> 1364\u001b[0;31m         \u001b[0mdmin\u001b[0m\u001b[0;34m,\u001b[0m \u001b[0mdmax\u001b[0m \u001b[0;34m=\u001b[0m \u001b[0mself\u001b[0m\u001b[0;34m.\u001b[0m\u001b[0mviewlim_to_dt\u001b[0m\u001b[0;34m(\u001b[0m\u001b[0;34m)\u001b[0m\u001b[0;34m\u001b[0m\u001b[0;34m\u001b[0m\u001b[0m\n\u001b[0m\u001b[1;32m   1365\u001b[0m         \u001b[0mself\u001b[0m\u001b[0;34m.\u001b[0m\u001b[0m_locator\u001b[0m \u001b[0;34m=\u001b[0m \u001b[0mself\u001b[0m\u001b[0;34m.\u001b[0m\u001b[0mget_locator\u001b[0m\u001b[0;34m(\u001b[0m\u001b[0mdmin\u001b[0m\u001b[0;34m,\u001b[0m \u001b[0mdmax\u001b[0m\u001b[0;34m)\u001b[0m\u001b[0;34m\u001b[0m\u001b[0;34m\u001b[0m\u001b[0m\n\u001b[1;32m   1366\u001b[0m \u001b[0;34m\u001b[0m\u001b[0m\n",
      "\u001b[0;32m~/opt/anaconda3/lib/python3.7/site-packages/matplotlib/dates.py\u001b[0m in \u001b[0;36mviewlim_to_dt\u001b[0;34m(self)\u001b[0m\n\u001b[1;32m   1096\u001b[0m                              \u001b[0;34m'often happens if you pass a non-datetime '\u001b[0m\u001b[0;34m\u001b[0m\u001b[0;34m\u001b[0m\u001b[0m\n\u001b[1;32m   1097\u001b[0m                              \u001b[0;34m'value to an axis that has datetime units'\u001b[0m\u001b[0;34m\u001b[0m\u001b[0;34m\u001b[0m\u001b[0m\n\u001b[0;32m-> 1098\u001b[0;31m                              .format(vmin))\n\u001b[0m\u001b[1;32m   1099\u001b[0m         \u001b[0;32mreturn\u001b[0m \u001b[0mnum2date\u001b[0m\u001b[0;34m(\u001b[0m\u001b[0mvmin\u001b[0m\u001b[0;34m,\u001b[0m \u001b[0mself\u001b[0m\u001b[0;34m.\u001b[0m\u001b[0mtz\u001b[0m\u001b[0;34m)\u001b[0m\u001b[0;34m,\u001b[0m \u001b[0mnum2date\u001b[0m\u001b[0;34m(\u001b[0m\u001b[0mvmax\u001b[0m\u001b[0;34m,\u001b[0m \u001b[0mself\u001b[0m\u001b[0;34m.\u001b[0m\u001b[0mtz\u001b[0m\u001b[0;34m)\u001b[0m\u001b[0;34m\u001b[0m\u001b[0;34m\u001b[0m\u001b[0m\n\u001b[1;32m   1100\u001b[0m \u001b[0;34m\u001b[0m\u001b[0m\n",
      "\u001b[0;31mValueError\u001b[0m: view limit minimum -36891.200000000004 is less than 1 and is an invalid Matplotlib date value. This often happens if you pass a non-datetime value to an axis that has datetime units"
     ]
    },
    {
     "data": {
      "text/plain": [
       "<Figure size 1080x576 with 1 Axes>"
      ]
     },
     "metadata": {},
     "output_type": "display_data"
    }
   ],
   "source": [
    "fig, ax = plt.subplots(figsize = (15,8))\n",
    "\n",
    "indices = main_posts_dates['DateTime2'] >= ('2020-12-14')\n",
    "plt.plot(main_posts_dates.loc[indices].groupby('DateTime2')['selftext'].count())\n",
    "plt.title('Posts by Date')\n",
    "plt.xlabel('Date')\n",
    "plt.ylabel('Number of Posts')\n",
    "\n",
    "plt.plot(tickerDf['DateTime'], tickerDf['High'])\n",
    "plt.title('GME Daily Highs')\n",
    "plt.xlabel('Date')\n",
    "plt.ylabel('Price, $')\n",
    "# plt.savefig('../images/GME_prices_plot');"
   ]
  },
  {
   "cell_type": "code",
   "execution_count": 31,
   "metadata": {},
   "outputs": [
    {
     "data": {
      "text/plain": [
       "''"
      ]
     },
     "execution_count": 31,
     "metadata": {},
     "output_type": "execute_result"
    },
    {
     "data": {
      "image/png": "[encoded data removed]",
      "text/plain": [
       "<Figure size 1080x720 with 1 Axes>"
      ]
     },
     "metadata": {},
     "output_type": "display_data"
    }
   ],
   "source": [
    "wordcloud = WordCloud(\n",
    "    collocations = False,\n",
    "    width = 1600, height = 800,\n",
    "    background_color = 'white',\n",
    "    stopwords = stop_words,\n",
    "    max_words = 150).generate(' '.join(tfidf_corpus))\n",
    "\n",
    "plt.figure(figsize=(15,10))\n",
    "fig=plt.figure(1)\n",
    "plt.imshow(wordcloud)\n",
    "plt.axis('off')\n",
    "plt.savefig('../images/wordcloud.png', dpi=200)\n",
    ";"
   ]
  },
  {
   "cell_type": "markdown",
   "metadata": {},
   "source": [
    "### test out some emoji handling"
   ]
  },
  {
   "cell_type": "code",
   "execution_count": 36,
   "metadata": {
    "scrolled": true
   },
   "outputs": [
    {
     "data": {
      "text/plain": [
       "{'🥇': ':1st_place_medal:',\n",
       " '🥈': ':2nd_place_medal:',\n",
       " '🥉': ':3rd_place_medal:',\n",
       " '🆎': ':AB_button_(blood_type):',\n",
       " '🏧': ':ATM_sign:',\n",
       " '🅰': ':A_button_(blood_type):',\n",
       " '🇦🇫': ':Afghanistan:',\n",
       " '🇦🇱': ':Albania:',\n",
       " '🇩🇿': ':Algeria:',\n",
       " '🇦🇸': ':American_Samoa:',\n",
       " '🇦🇩': ':Andorra:',\n",
       " '🇦🇴': ':Angola:',\n",
       " '🇦🇮': ':Anguilla:',\n",
       " '🇦🇶': ':Antarctica:',\n",
       " '🇦🇬': ':Antigua_&_Barbuda:',\n",
       " '♒': ':Aquarius:',\n",
       " '🇦🇷': ':Argentina:',\n",
       " '♈': ':Aries:',\n",
       " '🇦🇲': ':Armenia:',\n",
       " '🇦🇼': ':Aruba:',\n",
       " '🇦🇨': ':Ascension_Island:',\n",
       " '🇦🇺': ':Australia:',\n",
       " '🇦🇹': ':Austria:',\n",
       " '🇦🇿': ':Azerbaijan:',\n",
       " '🔙': ':BACK_arrow:',\n",
       " '🅱': ':B_button_(blood_type):',\n",
       " '🇧🇸': ':Bahamas:',\n",
       " '🇧🇭': ':Bahrain:',\n",
       " '🇧🇩': ':Bangladesh:',\n",
       " '🇧🇧': ':Barbados:',\n",
       " '🇧🇾': ':Belarus:',\n",
       " '🇧🇪': ':Belgium:',\n",
       " '🇧🇿': ':Belize:',\n",
       " '🇧🇯': ':Benin:',\n",
       " '🇧🇲': ':Bermuda:',\n",
       " '🇧🇹': ':Bhutan:',\n",
       " '🇧🇴': ':Bolivia:',\n",
       " '🇧🇦': ':Bosnia_&_Herzegovina:',\n",
       " '🇧🇼': ':Botswana:',\n",
       " '🇧🇻': ':Bouvet_Island:',\n",
       " '🇧🇷': ':Brazil:',\n",
       " '🇮🇴': ':British_Indian_Ocean_Territory:',\n",
       " '🇻🇬': ':British_Virgin_Islands:',\n",
       " '🇧🇳': ':Brunei:',\n",
       " '🇧🇬': ':Bulgaria:',\n",
       " '🇧🇫': ':Burkina_Faso:',\n",
       " '🇧🇮': ':Burundi:',\n",
       " '🆑': ':CL_button:',\n",
       " '🆒': ':COOL_button:',\n",
       " '🇰🇭': ':Cambodia:',\n",
       " '🇨🇲': ':Cameroon:',\n",
       " '🇨🇦': ':Canada:',\n",
       " '🇮🇨': ':Canary_Islands:',\n",
       " '♋': ':Cancer:',\n",
       " '🇨🇻': ':Cape_Verde:',\n",
       " '♑': ':Capricorn:',\n",
       " '🇧🇶': ':Caribbean_Netherlands:',\n",
       " '🇰🇾': ':Cayman_Islands:',\n",
       " '🇨🇫': ':Central_African_Republic:',\n",
       " '🇪🇦': ':Ceuta_&_Melilla:',\n",
       " '🇹🇩': ':Chad:',\n",
       " '🇨🇱': ':Chile:',\n",
       " '🇨🇳': ':China:',\n",
       " '🇨🇽': ':Christmas_Island:',\n",
       " '🎄': ':Christmas_tree:',\n",
       " '🇨🇵': ':Clipperton_Island:',\n",
       " '🇨🇨': ':Cocos_(Keeling)_Islands:',\n",
       " '🇨🇴': ':Colombia:',\n",
       " '🇰🇲': ':Comoros:',\n",
       " '🇨🇬': ':Congo_-_Brazzaville:',\n",
       " '🇨🇩': ':Congo_-_Kinshasa:',\n",
       " '🇨🇰': ':Cook_Islands:',\n",
       " '🇨🇷': ':Costa_Rica:',\n",
       " '🇭🇷': ':Croatia:',\n",
       " '🇨🇺': ':Cuba:',\n",
       " '🇨🇼': ':Curaçao:',\n",
       " '🇨🇾': ':Cyprus:',\n",
       " '🇨🇿': ':Czechia:',\n",
       " '🇨🇮': ':Côte_d’Ivoire:',\n",
       " '🇩🇰': ':Denmark:',\n",
       " '🇩🇬': ':Diego_Garcia:',\n",
       " '🇩🇯': ':Djibouti:',\n",
       " '🇩🇲': ':Dominica:',\n",
       " '🇩🇴': ':Dominican_Republic:',\n",
       " '🔚': ':END_arrow:',\n",
       " '🇪🇨': ':Ecuador:',\n",
       " '🇪🇬': ':Egypt:',\n",
       " '🇸🇻': ':El_Salvador:',\n",
       " '🏴\\U000e0067\\U000e0062\\U000e0065\\U000e006e\\U000e0067\\U000e007f': ':England:',\n",
       " '🇬🇶': ':Equatorial_Guinea:',\n",
       " '🇪🇷': ':Eritrea:',\n",
       " '🇪🇪': ':Estonia:',\n",
       " '🇸🇿': ':Eswatini:',\n",
       " '🇪🇹': ':Ethiopia:',\n",
       " '🇪🇺': ':European_Union:',\n",
       " '🆓': ':FREE_button:',\n",
       " '🇫🇰': ':Falkland_Islands:',\n",
       " '🇫🇴': ':Faroe_Islands:',\n",
       " '🇫🇯': ':Fiji:',\n",
       " '🇫🇮': ':Finland:',\n",
       " '🇫🇷': ':France:',\n",
       " '🇬🇫': ':French_Guiana:',\n",
       " '🇵🇫': ':French_Polynesia:',\n",
       " '🇹🇫': ':French_Southern_Territories:',\n",
       " '🇬🇦': ':Gabon:',\n",
       " '🇬🇲': ':Gambia:',\n",
       " '♊': ':Gemini:',\n",
       " '🇬🇪': ':Georgia:',\n",
       " '🇩🇪': ':Germany:',\n",
       " '🇬🇭': ':Ghana:',\n",
       " '🇬🇮': ':Gibraltar:',\n",
       " '🇬🇷': ':Greece:',\n",
       " '🇬🇱': ':Greenland:',\n",
       " '🇬🇩': ':Grenada:',\n",
       " '🇬🇵': ':Guadeloupe:',\n",
       " '🇬🇺': ':Guam:',\n",
       " '🇬🇹': ':Guatemala:',\n",
       " '🇬🇬': ':Guernsey:',\n",
       " '🇬🇳': ':Guinea:',\n",
       " '🇬🇼': ':Guinea-Bissau:',\n",
       " '🇬🇾': ':Guyana:',\n",
       " '🇭🇹': ':Haiti:',\n",
       " '🇭🇲': ':Heard_&_McDonald_Islands:',\n",
       " '🇭🇳': ':Honduras:',\n",
       " '🇭🇰': ':Hong_Kong_SAR_China:',\n",
       " '🇭🇺': ':Hungary:',\n",
       " '🆔': ':ID_button:',\n",
       " '🇮🇸': ':Iceland:',\n",
       " '🇮🇳': ':India:',\n",
       " '🇮🇩': ':Indonesia:',\n",
       " '🇮🇷': ':Iran:',\n",
       " '🇮🇶': ':Iraq:',\n",
       " '🇮🇪': ':Ireland:',\n",
       " '🇮🇲': ':Isle_of_Man:',\n",
       " '🇮🇱': ':Israel:',\n",
       " '🇮🇹': ':Italy:',\n",
       " '🇯🇲': ':Jamaica:',\n",
       " '🇯🇵': ':Japan:',\n",
       " '🉑': ':Japanese_acceptable_button:',\n",
       " '🈸': ':Japanese_application_button:',\n",
       " '🉐': ':Japanese_bargain_button:',\n",
       " '🏯': ':Japanese_castle:',\n",
       " '㊗': ':Japanese_congratulations_button:',\n",
       " '🈹': ':Japanese_discount_button:',\n",
       " '🎎': ':Japanese_dolls:',\n",
       " '🈚': ':Japanese_free_of_charge_button:',\n",
       " '🈁': ':Japanese_here_button:',\n",
       " '🈷': ':Japanese_monthly_amount_button:',\n",
       " '🈵': ':Japanese_no_vacancy_button:',\n",
       " '🈶': ':Japanese_not_free_of_charge_button:',\n",
       " '🈺': ':Japanese_open_for_business_button:',\n",
       " '🈴': ':Japanese_passing_grade_button:',\n",
       " '🏣': ':Japanese_post_office:',\n",
       " '🈲': ':Japanese_prohibited_button:',\n",
       " '🈯': ':Japanese_reserved_button:',\n",
       " '㊙': ':Japanese_secret_button:',\n",
       " '🈂': ':Japanese_service_charge_button:',\n",
       " '🔰': ':Japanese_symbol_for_beginner:',\n",
       " '🈳': ':Japanese_vacancy_button:',\n",
       " '🇯🇪': ':Jersey:',\n",
       " '🇯🇴': ':Jordan:',\n",
       " '🇰🇿': ':Kazakhstan:',\n",
       " '🇰🇪': ':Kenya:',\n",
       " '🇰🇮': ':Kiribati:',\n",
       " '🇽🇰': ':Kosovo:',\n",
       " '🇰🇼': ':Kuwait:',\n",
       " '🇰🇬': ':Kyrgyzstan:',\n",
       " '🇱🇦': ':Laos:',\n",
       " '🇱🇻': ':Latvia:',\n",
       " '🇱🇧': ':Lebanon:',\n",
       " '♌': ':Leo:',\n",
       " '🇱🇸': ':Lesotho:',\n",
       " '🇱🇷': ':Liberia:',\n",
       " '♎': ':Libra:',\n",
       " '🇱🇾': ':Libya:',\n",
       " '🇱🇮': ':Liechtenstein:',\n",
       " '🇱🇹': ':Lithuania:',\n",
       " '🇱🇺': ':Luxembourg:',\n",
       " '🇲🇴': ':Macao_SAR_China:',\n",
       " '🇲🇬': ':Madagascar:',\n",
       " '🇲🇼': ':Malawi:',\n",
       " '🇲🇾': ':Malaysia:',\n",
       " '🇲🇻': ':Maldives:',\n",
       " '🇲🇱': ':Mali:',\n",
       " '🇲🇹': ':Malta:',\n",
       " '🇲🇭': ':Marshall_Islands:',\n",
       " '🇲🇶': ':Martinique:',\n",
       " '🇲🇷': ':Mauritania:',\n",
       " '🇲🇺': ':Mauritius:',\n",
       " '🇾🇹': ':Mayotte:',\n",
       " '🇲🇽': ':Mexico:',\n",
       " '🇫🇲': ':Micronesia:',\n",
       " '🇲🇩': ':Moldova:',\n",
       " '🇲🇨': ':Monaco:',\n",
       " '🇲🇳': ':Mongolia:',\n",
       " '🇲🇪': ':Montenegro:',\n",
       " '🇲🇸': ':Montserrat:',\n",
       " '🇲🇦': ':Morocco:',\n",
       " '🇲🇿': ':Mozambique:',\n",
       " '🤶': ':Mrs._Claus:',\n",
       " '🤶🏿': ':Mrs._Claus_dark_skin_tone:',\n",
       " '🤶🏻': ':Mrs._Claus_light_skin_tone:',\n",
       " '🤶🏾': ':Mrs._Claus_medium-dark_skin_tone:',\n",
       " '🤶🏼': ':Mrs._Claus_medium-light_skin_tone:',\n",
       " '🤶🏽': ':Mrs._Claus_medium_skin_tone:',\n",
       " '🇲🇲': ':Myanmar_(Burma):',\n",
       " '🆕': ':NEW_button:',\n",
       " '🆖': ':NG_button:',\n",
       " '🇳🇦': ':Namibia:',\n",
       " '🇳🇷': ':Nauru:',\n",
       " '🇳🇵': ':Nepal:',\n",
       " '🇳🇱': ':Netherlands:',\n",
       " '🇳🇨': ':New_Caledonia:',\n",
       " '🇳🇿': ':New_Zealand:',\n",
       " '🇳🇮': ':Nicaragua:',\n",
       " '🇳🇪': ':Niger:',\n",
       " '🇳🇬': ':Nigeria:',\n",
       " '🇳🇺': ':Niue:',\n",
       " '🇳🇫': ':Norfolk_Island:',\n",
       " '🇰🇵': ':North_Korea:',\n",
       " '🇲🇰': ':North_Macedonia:',\n",
       " '🇲🇵': ':Northern_Mariana_Islands:',\n",
       " '🇳🇴': ':Norway:',\n",
       " '🆗': ':OK_button:',\n",
       " '👌': ':OK_hand:',\n",
       " '👌🏿': ':OK_hand_dark_skin_tone:',\n",
       " '👌🏻': ':OK_hand_light_skin_tone:',\n",
       " '👌🏾': ':OK_hand_medium-dark_skin_tone:',\n",
       " '👌🏼': ':OK_hand_medium-light_skin_tone:',\n",
       " '👌🏽': ':OK_hand_medium_skin_tone:',\n",
       " '🔛': ':ON!_arrow:',\n",
       " '🅾': ':O_button_(blood_type):',\n",
       " '🇴🇲': ':Oman:',\n",
       " '⛎': ':Ophiuchus:',\n",
       " '🅿': ':P_button:',\n",
       " '🇵🇰': ':Pakistan:',\n",
       " '🇵🇼': ':Palau:',\n",
       " '🇵🇸': ':Palestinian_Territories:',\n",
       " '🇵🇦': ':Panama:',\n",
       " '🇵🇬': ':Papua_New_Guinea:',\n",
       " '🇵🇾': ':Paraguay:',\n",
       " '🇵🇪': ':Peru:',\n",
       " '🇵🇭': ':Philippines:',\n",
       " '♓': ':Pisces:',\n",
       " '🇵🇳': ':Pitcairn_Islands:',\n",
       " '🇵🇱': ':Poland:',\n",
       " '🇵🇹': ':Portugal:',\n",
       " '🇵🇷': ':Puerto_Rico:',\n",
       " '🇶🇦': ':Qatar:',\n",
       " '🇷🇴': ':Romania:',\n",
       " '🇷🇺': ':Russia:',\n",
       " '🇷🇼': ':Rwanda:',\n",
       " '🇷🇪': ':Réunion:',\n",
       " '🔜': ':SOON_arrow:',\n",
       " '🆘': ':SOS_button:',\n",
       " '♐': ':Sagittarius:',\n",
       " '🇼🇸': ':Samoa:',\n",
       " '🇸🇲': ':San_Marino:',\n",
       " '🎅': ':Santa_Claus:',\n",
       " '🎅🏿': ':Santa_Claus_dark_skin_tone:',\n",
       " '🎅🏻': ':Santa_Claus_light_skin_tone:',\n",
       " '🎅🏾': ':Santa_Claus_medium-dark_skin_tone:',\n",
       " '🎅🏼': ':Santa_Claus_medium-light_skin_tone:',\n",
       " '🎅🏽': ':Santa_Claus_medium_skin_tone:',\n",
       " '🇸🇦': ':Saudi_Arabia:',\n",
       " '♏': ':Scorpio:',\n",
       " '🏴\\U000e0067\\U000e0062\\U000e0073\\U000e0063\\U000e0074\\U000e007f': ':Scotland:',\n",
       " '🇸🇳': ':Senegal:',\n",
       " '🇷🇸': ':Serbia:',\n",
       " '🇸🇨': ':Seychelles:',\n",
       " '🇸🇱': ':Sierra_Leone:',\n",
       " '🇸🇬': ':Singapore:',\n",
       " '🇸🇽': ':Sint_Maarten:',\n",
       " '🇸🇰': ':Slovakia:',\n",
       " '🇸🇮': ':Slovenia:',\n",
       " '🇸🇧': ':Solomon_Islands:',\n",
       " '🇸🇴': ':Somalia:',\n",
       " '🇿🇦': ':South_Africa:',\n",
       " '🇬🇸': ':South_Georgia_&_South_Sandwich_Islands:',\n",
       " '🇰🇷': ':South_Korea:',\n",
       " '🇸🇸': ':South_Sudan:',\n",
       " '🇪🇸': ':Spain:',\n",
       " '🇱🇰': ':Sri_Lanka:',\n",
       " '🇧🇱': ':St._Barthélemy:',\n",
       " '🇸🇭': ':St._Helena:',\n",
       " '🇰🇳': ':St._Kitts_&_Nevis:',\n",
       " '🇱🇨': ':St._Lucia:',\n",
       " '🇲🇫': ':St._Martin:',\n",
       " '🇵🇲': ':St._Pierre_&_Miquelon:',\n",
       " '🇻🇨': ':St._Vincent_&_Grenadines:',\n",
       " '🗽': ':Statue_of_Liberty:',\n",
       " '🇸🇩': ':Sudan:',\n",
       " '🇸🇷': ':Suriname:',\n",
       " '🇸🇯': ':Svalbard_&_Jan_Mayen:',\n",
       " '🇸🇪': ':Sweden:',\n",
       " '🇨🇭': ':Switzerland:',\n",
       " '🇸🇾': ':Syria:',\n",
       " '🇸🇹': ':São_Tomé_&_Príncipe:',\n",
       " '🦖': ':T-Rex:',\n",
       " '🔝': ':TOP_arrow:',\n",
       " '🇹🇼': ':Taiwan:',\n",
       " '🇹🇯': ':Tajikistan:',\n",
       " '🇹🇿': ':Tanzania:',\n",
       " '♉': ':Taurus:',\n",
       " '🇹🇭': ':Thailand:',\n",
       " '🇹🇱': ':Timor-Leste:',\n",
       " '🇹🇬': ':Togo:',\n",
       " '🇹🇰': ':Tokelau:',\n",
       " '🗼': ':Tokyo_tower:',\n",
       " '🇹🇴': ':Tonga:',\n",
       " '🇹🇹': ':Trinidad_&_Tobago:',\n",
       " '🇹🇦': ':Tristan_da_Cunha:',\n",
       " '🇹🇳': ':Tunisia:',\n",
       " '🇹🇷': ':Turkey:',\n",
       " '🇹🇲': ':Turkmenistan:',\n",
       " '🇹🇨': ':Turks_&_Caicos_Islands:',\n",
       " '🇹🇻': ':Tuvalu:',\n",
       " '🇺🇲': ':U.S._Outlying_Islands:',\n",
       " '🇻🇮': ':U.S._Virgin_Islands:',\n",
       " '🆙': ':UP!_button:',\n",
       " '🇺🇬': ':Uganda:',\n",
       " '🇺🇦': ':Ukraine:',\n",
       " '🇦🇪': ':United_Arab_Emirates:',\n",
       " '🇬🇧': ':United_Kingdom:',\n",
       " '🇺🇳': ':United_Nations:',\n",
       " '🇺🇸': ':United_States:',\n",
       " '🇺🇾': ':Uruguay:',\n",
       " '🇺🇿': ':Uzbekistan:',\n",
       " '🆚': ':VS_button:',\n",
       " '🇻🇺': ':Vanuatu:',\n",
       " '🇻🇦': ':Vatican_City:',\n",
       " '🇻🇪': ':Venezuela:',\n",
       " '🇻🇳': ':Vietnam:',\n",
       " '♍': ':Virgo:',\n",
       " '🏴\\U000e0067\\U000e0062\\U000e0077\\U000e006c\\U000e0073\\U000e007f': ':Wales:',\n",
       " '🇼🇫': ':Wallis_&_Futuna:',\n",
       " '🇪🇭': ':Western_Sahara:',\n",
       " '🇾🇪': ':Yemen:',\n",
       " '🇿🇲': ':Zambia:',\n",
       " '🇿🇼': ':Zimbabwe:',\n",
       " '🧮': ':abacus:',\n",
       " '\\U0001fa97': ':accordion:',\n",
       " '\\U0001fa79': ':adhesive_bandage:',\n",
       " '🎟': ':admission_tickets:',\n",
       " '🚡': ':aerial_tramway:',\n",
       " '✈': ':airplane:',\n",
       " '🛬': ':airplane_arrival:',\n",
       " '🛫': ':airplane_departure:',\n",
       " '⏰': ':alarm_clock:',\n",
       " '⚗': ':alembic:',\n",
       " '👽': ':alien:',\n",
       " '👾': ':alien_monster:',\n",
       " '🚑': ':ambulance:',\n",
       " '🏈': ':american_football:',\n",
       " '🏺': ':amphora:',\n",
       " '\\U0001fac0': ':anatomical_heart:',\n",
       " '⚓': ':anchor:',\n",
       " '💢': ':anger_symbol:',\n",
       " '😠': ':angry_face:',\n",
       " '👿': ':angry_face_with_horns:',\n",
       " '😧': ':anguished_face:',\n",
       " '🐜': ':ant:',\n",
       " '📶': ':antenna_bars:',\n",
       " '😰': ':anxious_face_with_sweat:',\n",
       " '🚛': ':articulated_lorry:',\n",
       " '🧑\\u200d🎨': ':artist:',\n",
       " '🧑🏿\\u200d🎨': ':artist_dark_skin_tone:',\n",
       " '🧑🏻\\u200d🎨': ':artist_light_skin_tone:',\n",
       " '🧑🏾\\u200d🎨': ':artist_medium-dark_skin_tone:',\n",
       " '🧑🏼\\u200d🎨': ':artist_medium-light_skin_tone:',\n",
       " '🧑🏽\\u200d🎨': ':artist_medium_skin_tone:',\n",
       " '🎨': ':artist_palette:',\n",
       " '😲': ':astonished_face:',\n",
       " '🧑\\u200d🚀': ':astronaut:',\n",
       " '🧑🏿\\u200d🚀': ':astronaut_dark_skin_tone:',\n",
       " '🧑🏻\\u200d🚀': ':astronaut_light_skin_tone:',\n",
       " '🧑🏾\\u200d🚀': ':astronaut_medium-dark_skin_tone:',\n",
       " '🧑🏼\\u200d🚀': ':astronaut_medium-light_skin_tone:',\n",
       " '🧑🏽\\u200d🚀': ':astronaut_medium_skin_tone:',\n",
       " '⚛': ':atom_symbol:',\n",
       " '\\U0001f6fa': ':auto_rickshaw:',\n",
       " '🚗': ':automobile:',\n",
       " '🥑': ':avocado:',\n",
       " '\\U0001fa93': ':axe:',\n",
       " '👶': ':baby:',\n",
       " '👼': ':baby_angel:',\n",
       " '👼🏿': ':baby_angel_dark_skin_tone:',\n",
       " '👼🏻': ':baby_angel_light_skin_tone:',\n",
       " '👼🏾': ':baby_angel_medium-dark_skin_tone:',\n",
       " '👼🏼': ':baby_angel_medium-light_skin_tone:',\n",
       " '👼🏽': ':baby_angel_medium_skin_tone:',\n",
       " '🍼': ':baby_bottle:',\n",
       " '🐤': ':baby_chick:',\n",
       " '👶🏿': ':baby_dark_skin_tone:',\n",
       " '👶🏻': ':baby_light_skin_tone:',\n",
       " '👶🏾': ':baby_medium-dark_skin_tone:',\n",
       " '👶🏼': ':baby_medium-light_skin_tone:',\n",
       " '👶🏽': ':baby_medium_skin_tone:',\n",
       " '🚼': ':baby_symbol:',\n",
       " '👇': ':backhand_index_pointing_down:',\n",
       " '👇🏿': ':backhand_index_pointing_down_dark_skin_tone:',\n",
       " '👇🏻': ':backhand_index_pointing_down_light_skin_tone:',\n",
       " '👇🏾': ':backhand_index_pointing_down_medium-dark_skin_tone:',\n",
       " '👇🏼': ':backhand_index_pointing_down_medium-light_skin_tone:',\n",
       " '👇🏽': ':backhand_index_pointing_down_medium_skin_tone:',\n",
       " '👈': ':backhand_index_pointing_left:',\n",
       " '👈🏿': ':backhand_index_pointing_left_dark_skin_tone:',\n",
       " '👈🏻': ':backhand_index_pointing_left_light_skin_tone:',\n",
       " '👈🏾': ':backhand_index_pointing_left_medium-dark_skin_tone:',\n",
       " '👈🏼': ':backhand_index_pointing_left_medium-light_skin_tone:',\n",
       " '👈🏽': ':backhand_index_pointing_left_medium_skin_tone:',\n",
       " '👉': ':backhand_index_pointing_right:',\n",
       " '👉🏿': ':backhand_index_pointing_right_dark_skin_tone:',\n",
       " '👉🏻': ':backhand_index_pointing_right_light_skin_tone:',\n",
       " '👉🏾': ':backhand_index_pointing_right_medium-dark_skin_tone:',\n",
       " '👉🏼': ':backhand_index_pointing_right_medium-light_skin_tone:',\n",
       " '👉🏽': ':backhand_index_pointing_right_medium_skin_tone:',\n",
       " '👆': ':backhand_index_pointing_up:',\n",
       " '👆🏿': ':backhand_index_pointing_up_dark_skin_tone:',\n",
       " '👆🏻': ':backhand_index_pointing_up_light_skin_tone:',\n",
       " '👆🏾': ':backhand_index_pointing_up_medium-dark_skin_tone:',\n",
       " '👆🏼': ':backhand_index_pointing_up_medium-light_skin_tone:',\n",
       " '👆🏽': ':backhand_index_pointing_up_medium_skin_tone:',\n",
       " '🎒': ':backpack:',\n",
       " '🥓': ':bacon:',\n",
       " '🦡': ':badger:',\n",
       " '🏸': ':badminton:',\n",
       " '🥯': ':bagel:',\n",
       " '🛄': ':baggage_claim:',\n",
       " '🥖': ':baguette_bread:',\n",
       " '⚖': ':balance_scale:',\n",
       " '🦲': ':bald:',\n",
       " '\\U0001fa70': ':ballet_shoes:',\n",
       " '🎈': ':balloon:',\n",
       " '🗳': ':ballot_box_with_ballot:',\n",
       " '🍌': ':banana:',\n",
       " '\\U0001fa95': ':banjo:',\n",
       " '🏦': ':bank:',\n",
       " '📊': ':bar_chart:',\n",
       " '💈': ':barber_pole:',\n",
       " '⚾': ':baseball:',\n",
       " '🧺': ':basket:',\n",
       " '🏀': ':basketball:',\n",
       " '🦇': ':bat:',\n",
       " '🛁': ':bathtub:',\n",
       " '🔋': ':battery:',\n",
       " '🏖': ':beach_with_umbrella:',\n",
       " '😁': ':beaming_face_with_smiling_eyes:',\n",
       " '🐻': ':bear:',\n",
       " '💓': ':beating_heart:',\n",
       " '\\U0001f9ab': ':beaver:',\n",
       " '🛏': ':bed:',\n",
       " '🍺': ':beer_mug:',\n",
       " '\\U0001fab2': ':beetle:',\n",
       " '🔔': ':bell:',\n",
       " '\\U0001fad1': ':bell_pepper:',\n",
       " '🔕': ':bell_with_slash:',\n",
       " '🛎': ':bellhop_bell:',\n",
       " '🍱': ':bento_box:',\n",
       " '\\U0001f9c3': ':beverage_box:',\n",
       " '🚲': ':bicycle:',\n",
       " '👙': ':bikini:',\n",
       " '🧢': ':billed_cap:',\n",
       " '☣': ':biohazard:',\n",
       " '🐦': ':bird:',\n",
       " '🎂': ':birthday_cake:',\n",
       " '\\U0001f9ac': ':bison:',\n",
       " '🐈\\u200d⬛': ':black_cat:',\n",
       " '⚫': ':black_circle:',\n",
       " '🏴': ':black_flag:',\n",
       " '🖤': ':black_heart:',\n",
       " '⬛': ':black_large_square:',\n",
       " '◾': ':black_medium-small_square:',\n",
       " '◼': ':black_medium_square:',\n",
       " '✒': ':black_nib:',\n",
       " '▪': ':black_small_square:',\n",
       " '🔲': ':black_square_button:',\n",
       " '🌼': ':blossom:',\n",
       " '🐡': ':blowfish:',\n",
       " '📘': ':blue_book:',\n",
       " '🔵': ':blue_circle:',\n",
       " '💙': ':blue_heart:',\n",
       " '\\U0001f7e6': ':blue_square:',\n",
       " '\\U0001fad0': ':blueberries:',\n",
       " '🐗': ':boar:',\n",
       " '💣': ':bomb:',\n",
       " '🦴': ':bone:',\n",
       " '🔖': ':bookmark:',\n",
       " '📑': ':bookmark_tabs:',\n",
       " '📚': ':books:',\n",
       " '\\U0001fa83': ':boomerang:',\n",
       " '🍾': ':bottle_with_popping_cork:',\n",
       " '💐': ':bouquet:',\n",
       " '🏹': ':bow_and_arrow:',\n",
       " '🥣': ':bowl_with_spoon:',\n",
       " '🎳': ':bowling:',\n",
       " '🥊': ':boxing_glove:',\n",
       " '👦': ':boy:',\n",
       " '👦🏿': ':boy_dark_skin_tone:',\n",
       " '👦🏻': ':boy_light_skin_tone:',\n",
       " '👦🏾': ':boy_medium-dark_skin_tone:',\n",
       " '👦🏼': ':boy_medium-light_skin_tone:',\n",
       " '👦🏽': ':boy_medium_skin_tone:',\n",
       " '🧠': ':brain:',\n",
       " '🍞': ':bread:',\n",
       " '🤱': ':breast-feeding:',\n",
       " '🤱🏿': ':breast-feeding_dark_skin_tone:',\n",
       " '🤱🏻': ':breast-feeding_light_skin_tone:',\n",
       " '🤱🏾': ':breast-feeding_medium-dark_skin_tone:',\n",
       " '🤱🏼': ':breast-feeding_medium-light_skin_tone:',\n",
       " '🤱🏽': ':breast-feeding_medium_skin_tone:',\n",
       " '🧱': ':brick:',\n",
       " '🌉': ':bridge_at_night:',\n",
       " '💼': ':briefcase:',\n",
       " '\\U0001fa72': ':briefs:',\n",
       " '🔆': ':bright_button:',\n",
       " '🥦': ':broccoli:',\n",
       " '💔': ':broken_heart:',\n",
       " '🧹': ':broom:',\n",
       " '\\U0001f7e4': ':brown_circle:',\n",
       " '\\U0001f90e': ':brown_heart:',\n",
       " '\\U0001f7eb': ':brown_square:',\n",
       " '\\U0001f9cb': ':bubble_tea:',\n",
       " '\\U0001faa3': ':bucket:',\n",
       " '🐛': ':bug:',\n",
       " '🏗': ':building_construction:',\n",
       " '🚅': ':bullet_train:',\n",
       " '🎯': ':bullseye:',\n",
       " '🌯': ':burrito:',\n",
       " '🚌': ':bus:',\n",
       " '🚏': ':bus_stop:',\n",
       " '👤': ':bust_in_silhouette:',\n",
       " '👥': ':busts_in_silhouette:',\n",
       " '\\U0001f9c8': ':butter:',\n",
       " '🦋': ':butterfly:',\n",
       " '🌵': ':cactus:',\n",
       " '📅': ':calendar:',\n",
       " '🤙': ':call_me_hand:',\n",
       " '🤙🏿': ':call_me_hand_dark_skin_tone:',\n",
       " '🤙🏻': ':call_me_hand_light_skin_tone:',\n",
       " '🤙🏾': ':call_me_hand_medium-dark_skin_tone:',\n",
       " '🤙🏼': ':call_me_hand_medium-light_skin_tone:',\n",
       " '🤙🏽': ':call_me_hand_medium_skin_tone:',\n",
       " '🐪': ':camel:',\n",
       " '📷': ':camera:',\n",
       " '📸': ':camera_with_flash:',\n",
       " '🏕': ':camping:',\n",
       " '🕯': ':candle:',\n",
       " '🍬': ':candy:',\n",
       " '🥫': ':canned_food:',\n",
       " '🛶': ':canoe:',\n",
       " '🗃': ':card_file_box:',\n",
       " '📇': ':card_index:',\n",
       " '🗂': ':card_index_dividers:',\n",
       " '🎠': ':carousel_horse:',\n",
       " '🎏': ':carp_streamer:',\n",
       " '\\U0001fa9a': ':carpentry_saw:',\n",
       " '🥕': ':carrot:',\n",
       " '🏰': ':castle:',\n",
       " '🐈': ':cat:',\n",
       " '🐱': ':cat_face:',\n",
       " '😹': ':cat_with_tears_of_joy:',\n",
       " '😼': ':cat_with_wry_smile:',\n",
       " '⛓': ':chains:',\n",
       " '\\U0001fa91': ':chair:',\n",
       " '📉': ':chart_decreasing:',\n",
       " '📈': ':chart_increasing:',\n",
       " '💹': ':chart_increasing_with_yen:',\n",
       " '☑': ':check_box_with_check:',\n",
       " '✔': ':check_mark:',\n",
       " '✅': ':check_mark_button:',\n",
       " '🧀': ':cheese_wedge:',\n",
       " '🏁': ':chequered_flag:',\n",
       " '🍒': ':cherries:',\n",
       " '🌸': ':cherry_blossom:',\n",
       " '♟': ':chess_pawn:',\n",
       " '🌰': ':chestnut:',\n",
       " '🐔': ':chicken:',\n",
       " '🧒': ':child:',\n",
       " '🧒🏿': ':child_dark_skin_tone:',\n",
       " '🧒🏻': ':child_light_skin_tone:',\n",
       " '🧒🏾': ':child_medium-dark_skin_tone:',\n",
       " '🧒🏼': ':child_medium-light_skin_tone:',\n",
       " '🧒🏽': ':child_medium_skin_tone:',\n",
       " '🚸': ':children_crossing:',\n",
       " '🐿': ':chipmunk:',\n",
       " '🍫': ':chocolate_bar:',\n",
       " '🥢': ':chopsticks:',\n",
       " '⛪': ':church:',\n",
       " '🚬': ':cigarette:',\n",
       " '🎦': ':cinema:',\n",
       " 'Ⓜ': ':circled_M:',\n",
       " '🎪': ':circus_tent:',\n",
       " '🏙': ':cityscape:',\n",
       " '🌆': ':cityscape_at_dusk:',\n",
       " '🗜': ':clamp:',\n",
       " '🎬': ':clapper_board:',\n",
       " '👏': ':clapping_hands:',\n",
       " '👏🏿': ':clapping_hands_dark_skin_tone:',\n",
       " '👏🏻': ':clapping_hands_light_skin_tone:',\n",
       " '👏🏾': ':clapping_hands_medium-dark_skin_tone:',\n",
       " '👏🏼': ':clapping_hands_medium-light_skin_tone:',\n",
       " '👏🏽': ':clapping_hands_medium_skin_tone:',\n",
       " '🏛': ':classical_building:',\n",
       " '🍻': ':clinking_beer_mugs:',\n",
       " '🥂': ':clinking_glasses:',\n",
       " '📋': ':clipboard:',\n",
       " '🔃': ':clockwise_vertical_arrows:',\n",
       " '📕': ':closed_book:',\n",
       " '📪': ':closed_mailbox_with_lowered_flag:',\n",
       " '📫': ':closed_mailbox_with_raised_flag:',\n",
       " '🌂': ':closed_umbrella:',\n",
       " '☁': ':cloud:',\n",
       " '🌩': ':cloud_with_lightning:',\n",
       " '⛈': ':cloud_with_lightning_and_rain:',\n",
       " '🌧': ':cloud_with_rain:',\n",
       " '🌨': ':cloud_with_snow:',\n",
       " '🤡': ':clown_face:',\n",
       " '♣': ':club_suit:',\n",
       " '👝': ':clutch_bag:',\n",
       " '🧥': ':coat:',\n",
       " '\\U0001fab3': ':cockroach:',\n",
       " '🍸': ':cocktail_glass:',\n",
       " '🥥': ':coconut:',\n",
       " '⚰': ':coffin:',\n",
       " '\\U0001fa99': ':coin:',\n",
       " '🥶': ':cold_face:',\n",
       " '💥': ':collision:',\n",
       " '☄': ':comet:',\n",
       " '🧭': ':compass:',\n",
       " '💽': ':computer_disk:',\n",
       " '🖱': ':computer_mouse:',\n",
       " '🎊': ':confetti_ball:',\n",
       " '😖': ':confounded_face:',\n",
       " '😕': ':confused_face:',\n",
       " '🚧': ':construction:',\n",
       " '👷': ':construction_worker:',\n",
       " '👷🏿': ':construction_worker_dark_skin_tone:',\n",
       " '👷🏻': ':construction_worker_light_skin_tone:',\n",
       " '👷🏾': ':construction_worker_medium-dark_skin_tone:',\n",
       " '👷🏼': ':construction_worker_medium-light_skin_tone:',\n",
       " '👷🏽': ':construction_worker_medium_skin_tone:',\n",
       " '🎛': ':control_knobs:',\n",
       " '🏪': ':convenience_store:',\n",
       " '🧑\\u200d🍳': ':cook:',\n",
       " '🧑🏿\\u200d🍳': ':cook_dark_skin_tone:',\n",
       " '🧑🏻\\u200d🍳': ':cook_light_skin_tone:',\n",
       " '🧑🏾\\u200d🍳': ':cook_medium-dark_skin_tone:',\n",
       " '🧑🏼\\u200d🍳': ':cook_medium-light_skin_tone:',\n",
       " '🧑🏽\\u200d🍳': ':cook_medium_skin_tone:',\n",
       " '🍚': ':cooked_rice:',\n",
       " '🍪': ':cookie:',\n",
       " '🍳': ':cooking:',\n",
       " '©': ':copyright:',\n",
       " '🛋': ':couch_and_lamp:',\n",
       " '🔄': ':counterclockwise_arrows_button:',\n",
       " '💑': ':couple_with_heart:',\n",
       " '💑🏿': ':couple_with_heart_dark_skin_tone:',\n",
       " '💑🏻': ':couple_with_heart_light_skin_tone:',\n",
       " '👨\\u200d❤️\\u200d👨': ':couple_with_heart_man_man:',\n",
       " '👨🏿\\u200d❤️\\u200d👨🏿': ':couple_with_heart_man_man_dark_skin_tone:',\n",
       " '👨🏿\\u200d❤️\\u200d👨🏻': ':couple_with_heart_man_man_dark_skin_tone_light_skin_tone:',\n",
       " '👨🏿\\u200d❤️\\u200d👨🏾': ':couple_with_heart_man_man_dark_skin_tone_medium-dark_skin_tone:',\n",
       " '👨🏿\\u200d❤️\\u200d👨🏼': ':couple_with_heart_man_man_dark_skin_tone_medium-light_skin_tone:',\n",
       " '👨🏿\\u200d❤️\\u200d👨🏽': ':couple_with_heart_man_man_dark_skin_tone_medium_skin_tone:',\n",
       " '👨🏻\\u200d❤️\\u200d👨🏻': ':couple_with_heart_man_man_light_skin_tone:',\n",
       " '👨🏻\\u200d❤️\\u200d👨🏿': ':couple_with_heart_man_man_light_skin_tone_dark_skin_tone:',\n",
       " '👨🏻\\u200d❤️\\u200d👨🏾': ':couple_with_heart_man_man_light_skin_tone_medium-dark_skin_tone:',\n",
       " '👨🏻\\u200d❤️\\u200d👨🏼': ':couple_with_heart_man_man_light_skin_tone_medium-light_skin_tone:',\n",
       " '👨🏻\\u200d❤️\\u200d👨🏽': ':couple_with_heart_man_man_light_skin_tone_medium_skin_tone:',\n",
       " '👨🏾\\u200d❤️\\u200d👨🏾': ':couple_with_heart_man_man_medium-dark_skin_tone:',\n",
       " '👨🏾\\u200d❤️\\u200d👨🏿': ':couple_with_heart_man_man_medium-dark_skin_tone_dark_skin_tone:',\n",
       " '👨🏾\\u200d❤️\\u200d👨🏻': ':couple_with_heart_man_man_medium-dark_skin_tone_light_skin_tone:',\n",
       " '👨🏾\\u200d❤️\\u200d👨🏼': ':couple_with_heart_man_man_medium-dark_skin_tone_medium-light_skin_tone:',\n",
       " '👨🏾\\u200d❤️\\u200d👨🏽': ':couple_with_heart_man_man_medium-dark_skin_tone_medium_skin_tone:',\n",
       " '👨🏼\\u200d❤️\\u200d👨🏼': ':couple_with_heart_man_man_medium-light_skin_tone:',\n",
       " '👨🏼\\u200d❤️\\u200d👨🏿': ':couple_with_heart_man_man_medium-light_skin_tone_dark_skin_tone:',\n",
       " '👨🏼\\u200d❤️\\u200d👨🏻': ':couple_with_heart_man_man_medium-light_skin_tone_light_skin_tone:',\n",
       " '👨🏼\\u200d❤️\\u200d👨🏾': ':couple_with_heart_man_man_medium-light_skin_tone_medium-dark_skin_tone:',\n",
       " '👨🏼\\u200d❤️\\u200d👨🏽': ':couple_with_heart_man_man_medium-light_skin_tone_medium_skin_tone:',\n",
       " '👨🏽\\u200d❤️\\u200d👨🏽': ':couple_with_heart_man_man_medium_skin_tone:',\n",
       " '👨🏽\\u200d❤️\\u200d👨🏿': ':couple_with_heart_man_man_medium_skin_tone_dark_skin_tone:',\n",
       " '👨🏽\\u200d❤️\\u200d👨🏻': ':couple_with_heart_man_man_medium_skin_tone_light_skin_tone:',\n",
       " '👨🏽\\u200d❤️\\u200d👨🏾': ':couple_with_heart_man_man_medium_skin_tone_medium-dark_skin_tone:',\n",
       " '👨🏽\\u200d❤️\\u200d👨🏼': ':couple_with_heart_man_man_medium_skin_tone_medium-light_skin_tone:',\n",
       " '💑🏾': ':couple_with_heart_medium-dark_skin_tone:',\n",
       " '💑🏼': ':couple_with_heart_medium-light_skin_tone:',\n",
       " '💑🏽': ':couple_with_heart_medium_skin_tone:',\n",
       " '🧑🏿\\u200d❤️\\u200d🧑🏻': ':couple_with_heart_person_person_dark_skin_tone_light_skin_tone:',\n",
       " '🧑🏿\\u200d❤️\\u200d🧑🏾': ':couple_with_heart_person_person_dark_skin_tone_medium-dark_skin_tone:',\n",
       " '🧑🏿\\u200d❤️\\u200d🧑🏼': ':couple_with_heart_person_person_dark_skin_tone_medium-light_skin_tone:',\n",
       " '🧑🏿\\u200d❤️\\u200d🧑🏽': ':couple_with_heart_person_person_dark_skin_tone_medium_skin_tone:',\n",
       " '🧑🏻\\u200d❤️\\u200d🧑🏿': ':couple_with_heart_person_person_light_skin_tone_dark_skin_tone:',\n",
       " '🧑🏻\\u200d❤️\\u200d🧑🏾': ':couple_with_heart_person_person_light_skin_tone_medium-dark_skin_tone:',\n",
       " '🧑🏻\\u200d❤️\\u200d🧑🏼': ':couple_with_heart_person_person_light_skin_tone_medium-light_skin_tone:',\n",
       " '🧑🏻\\u200d❤️\\u200d🧑🏽': ':couple_with_heart_person_person_light_skin_tone_medium_skin_tone:',\n",
       " '🧑🏾\\u200d❤️\\u200d🧑🏿': ':couple_with_heart_person_person_medium-dark_skin_tone_dark_skin_tone:',\n",
       " '🧑🏾\\u200d❤️\\u200d🧑🏻': ':couple_with_heart_person_person_medium-dark_skin_tone_light_skin_tone:',\n",
       " '🧑🏾\\u200d❤️\\u200d🧑🏼': ':couple_with_heart_person_person_medium-dark_skin_tone_medium-light_skin_tone:',\n",
       " '🧑🏾\\u200d❤️\\u200d🧑🏽': ':couple_with_heart_person_person_medium-dark_skin_tone_medium_skin_tone:',\n",
       " '🧑🏼\\u200d❤️\\u200d🧑🏿': ':couple_with_heart_person_person_medium-light_skin_tone_dark_skin_tone:',\n",
       " '🧑🏼\\u200d❤️\\u200d🧑🏻': ':couple_with_heart_person_person_medium-light_skin_tone_light_skin_tone:',\n",
       " '🧑🏼\\u200d❤️\\u200d🧑🏾': ':couple_with_heart_person_person_medium-light_skin_tone_medium-dark_skin_tone:',\n",
       " '🧑🏼\\u200d❤️\\u200d🧑🏽': ':couple_with_heart_person_person_medium-light_skin_tone_medium_skin_tone:',\n",
       " '🧑🏽\\u200d❤️\\u200d🧑🏿': ':couple_with_heart_person_person_medium_skin_tone_dark_skin_tone:',\n",
       " '🧑🏽\\u200d❤️\\u200d🧑🏻': ':couple_with_heart_person_person_medium_skin_tone_light_skin_tone:',\n",
       " '🧑🏽\\u200d❤️\\u200d🧑🏾': ':couple_with_heart_person_person_medium_skin_tone_medium-dark_skin_tone:',\n",
       " '🧑🏽\\u200d❤️\\u200d🧑🏼': ':couple_with_heart_person_person_medium_skin_tone_medium-light_skin_tone:',\n",
       " '👩\\u200d❤️\\u200d👨': ':couple_with_heart_woman_man:',\n",
       " '👩🏿\\u200d❤️\\u200d👨🏿': ':couple_with_heart_woman_man_dark_skin_tone:',\n",
       " '👩🏿\\u200d❤️\\u200d👨🏻': ':couple_with_heart_woman_man_dark_skin_tone_light_skin_tone:',\n",
       " '👩🏿\\u200d❤️\\u200d👨🏾': ':couple_with_heart_woman_man_dark_skin_tone_medium-dark_skin_tone:',\n",
       " '👩🏿\\u200d❤️\\u200d👨🏼': ':couple_with_heart_woman_man_dark_skin_tone_medium-light_skin_tone:',\n",
       " '👩🏿\\u200d❤️\\u200d👨🏽': ':couple_with_heart_woman_man_dark_skin_tone_medium_skin_tone:',\n",
       " '👩🏻\\u200d❤️\\u200d👨🏻': ':couple_with_heart_woman_man_light_skin_tone:',\n",
       " '👩🏻\\u200d❤️\\u200d👨🏿': ':couple_with_heart_woman_man_light_skin_tone_dark_skin_tone:',\n",
       " '👩🏻\\u200d❤️\\u200d👨🏾': ':couple_with_heart_woman_man_light_skin_tone_medium-dark_skin_tone:',\n",
       " '👩🏻\\u200d❤️\\u200d👨🏼': ':couple_with_heart_woman_man_light_skin_tone_medium-light_skin_tone:',\n",
       " '👩🏻\\u200d❤️\\u200d👨🏽': ':couple_with_heart_woman_man_light_skin_tone_medium_skin_tone:',\n",
       " '👩🏾\\u200d❤️\\u200d👨🏾': ':couple_with_heart_woman_man_medium-dark_skin_tone:',\n",
       " '👩🏾\\u200d❤️\\u200d👨🏿': ':couple_with_heart_woman_man_medium-dark_skin_tone_dark_skin_tone:',\n",
       " '👩🏾\\u200d❤️\\u200d👨🏻': ':couple_with_heart_woman_man_medium-dark_skin_tone_light_skin_tone:',\n",
       " '👩🏾\\u200d❤️\\u200d👨🏼': ':couple_with_heart_woman_man_medium-dark_skin_tone_medium-light_skin_tone:',\n",
       " '👩🏾\\u200d❤️\\u200d👨🏽': ':couple_with_heart_woman_man_medium-dark_skin_tone_medium_skin_tone:',\n",
       " '👩🏼\\u200d❤️\\u200d👨🏼': ':couple_with_heart_woman_man_medium-light_skin_tone:',\n",
       " '👩🏼\\u200d❤️\\u200d👨🏿': ':couple_with_heart_woman_man_medium-light_skin_tone_dark_skin_tone:',\n",
       " '👩🏼\\u200d❤️\\u200d👨🏻': ':couple_with_heart_woman_man_medium-light_skin_tone_light_skin_tone:',\n",
       " '👩🏼\\u200d❤️\\u200d👨🏾': ':couple_with_heart_woman_man_medium-light_skin_tone_medium-dark_skin_tone:',\n",
       " '👩🏼\\u200d❤️\\u200d👨🏽': ':couple_with_heart_woman_man_medium-light_skin_tone_medium_skin_tone:',\n",
       " '👩🏽\\u200d❤️\\u200d👨🏽': ':couple_with_heart_woman_man_medium_skin_tone:',\n",
       " '👩🏽\\u200d❤️\\u200d👨🏿': ':couple_with_heart_woman_man_medium_skin_tone_dark_skin_tone:',\n",
       " '👩🏽\\u200d❤️\\u200d👨🏻': ':couple_with_heart_woman_man_medium_skin_tone_light_skin_tone:',\n",
       " '👩🏽\\u200d❤️\\u200d👨🏾': ':couple_with_heart_woman_man_medium_skin_tone_medium-dark_skin_tone:',\n",
       " '👩🏽\\u200d❤️\\u200d👨🏼': ':couple_with_heart_woman_man_medium_skin_tone_medium-light_skin_tone:',\n",
       " '👩\\u200d❤️\\u200d👩': ':couple_with_heart_woman_woman:',\n",
       " '👩🏿\\u200d❤️\\u200d👩🏿': ':couple_with_heart_woman_woman_dark_skin_tone:',\n",
       " '👩🏿\\u200d❤️\\u200d👩🏻': ':couple_with_heart_woman_woman_dark_skin_tone_light_skin_tone:',\n",
       " '👩🏿\\u200d❤️\\u200d👩🏾': ':couple_with_heart_woman_woman_dark_skin_tone_medium-dark_skin_tone:',\n",
       " '👩🏿\\u200d❤️\\u200d👩🏼': ':couple_with_heart_woman_woman_dark_skin_tone_medium-light_skin_tone:',\n",
       " '👩🏿\\u200d❤️\\u200d👩🏽': ':couple_with_heart_woman_woman_dark_skin_tone_medium_skin_tone:',\n",
       " '👩🏻\\u200d❤️\\u200d👩🏻': ':couple_with_heart_woman_woman_light_skin_tone:',\n",
       " '👩🏻\\u200d❤️\\u200d👩🏿': ':couple_with_heart_woman_woman_light_skin_tone_dark_skin_tone:',\n",
       " '👩🏻\\u200d❤️\\u200d👩🏾': ':couple_with_heart_woman_woman_light_skin_tone_medium-dark_skin_tone:',\n",
       " '👩🏻\\u200d❤️\\u200d👩🏼': ':couple_with_heart_woman_woman_light_skin_tone_medium-light_skin_tone:',\n",
       " '👩🏻\\u200d❤️\\u200d👩🏽': ':couple_with_heart_woman_woman_light_skin_tone_medium_skin_tone:',\n",
       " '👩🏾\\u200d❤️\\u200d👩🏾': ':couple_with_heart_woman_woman_medium-dark_skin_tone:',\n",
       " '👩🏾\\u200d❤️\\u200d👩🏿': ':couple_with_heart_woman_woman_medium-dark_skin_tone_dark_skin_tone:',\n",
       " '👩🏾\\u200d❤️\\u200d👩🏻': ':couple_with_heart_woman_woman_medium-dark_skin_tone_light_skin_tone:',\n",
       " '👩🏾\\u200d❤️\\u200d👩🏼': ':couple_with_heart_woman_woman_medium-dark_skin_tone_medium-light_skin_tone:',\n",
       " '👩🏾\\u200d❤️\\u200d👩🏽': ':couple_with_heart_woman_woman_medium-dark_skin_tone_medium_skin_tone:',\n",
       " '👩🏼\\u200d❤️\\u200d👩🏼': ':couple_with_heart_woman_woman_medium-light_skin_tone:',\n",
       " '👩🏼\\u200d❤️\\u200d👩🏿': ':couple_with_heart_woman_woman_medium-light_skin_tone_dark_skin_tone:',\n",
       " '👩🏼\\u200d❤️\\u200d👩🏻': ':couple_with_heart_woman_woman_medium-light_skin_tone_light_skin_tone:',\n",
       " '👩🏼\\u200d❤️\\u200d👩🏾': ':couple_with_heart_woman_woman_medium-light_skin_tone_medium-dark_skin_tone:',\n",
       " '👩🏼\\u200d❤️\\u200d👩🏽': ':couple_with_heart_woman_woman_medium-light_skin_tone_medium_skin_tone:',\n",
       " '👩🏽\\u200d❤️\\u200d👩🏽': ':couple_with_heart_woman_woman_medium_skin_tone:',\n",
       " '👩🏽\\u200d❤️\\u200d👩🏿': ':couple_with_heart_woman_woman_medium_skin_tone_dark_skin_tone:',\n",
       " '👩🏽\\u200d❤️\\u200d👩🏻': ':couple_with_heart_woman_woman_medium_skin_tone_light_skin_tone:',\n",
       " '👩🏽\\u200d❤️\\u200d👩🏾': ':couple_with_heart_woman_woman_medium_skin_tone_medium-dark_skin_tone:',\n",
       " '👩🏽\\u200d❤️\\u200d👩🏼': ':couple_with_heart_woman_woman_medium_skin_tone_medium-light_skin_tone:',\n",
       " '🐄': ':cow:',\n",
       " '🐮': ':cow_face:',\n",
       " '🤠': ':cowboy_hat_face:',\n",
       " '🦀': ':crab:',\n",
       " '🖍': ':crayon:',\n",
       " '💳': ':credit_card:',\n",
       " '🌙': ':crescent_moon:',\n",
       " '🦗': ':cricket:',\n",
       " '🏏': ':cricket_game:',\n",
       " '🐊': ':crocodile:',\n",
       " '🥐': ':croissant:',\n",
       " '❌': ':cross_mark:',\n",
       " '❎': ':cross_mark_button:',\n",
       " '🤞': ':crossed_fingers:',\n",
       " '🤞🏿': ':crossed_fingers_dark_skin_tone:',\n",
       " '🤞🏻': ':crossed_fingers_light_skin_tone:',\n",
       " '🤞🏾': ':crossed_fingers_medium-dark_skin_tone:',\n",
       " '🤞🏼': ':crossed_fingers_medium-light_skin_tone:',\n",
       " '🤞🏽': ':crossed_fingers_medium_skin_tone:',\n",
       " '🎌': ':crossed_flags:',\n",
       " '⚔': ':crossed_swords:',\n",
       " '👑': ':crown:',\n",
       " '😿': ':crying_cat:',\n",
       " '😢': ':crying_face:',\n",
       " '🔮': ':crystal_ball:',\n",
       " '🥒': ':cucumber:',\n",
       " '🥤': ':cup_with_straw:',\n",
       " '🧁': ':cupcake:',\n",
       " '🥌': ':curling_stone:',\n",
       " '🦱': ':curly_hair:',\n",
       " '➰': ':curly_loop:',\n",
       " '💱': ':currency_exchange:',\n",
       " '🍛': ':curry_rice:',\n",
       " '🍮': ':custard:',\n",
       " '🛃': ':customs:',\n",
       " '🥩': ':cut_of_meat:',\n",
       " '🌀': ':cyclone:',\n",
       " '🗡': ':dagger:',\n",
       " '🍡': ':dango:',\n",
       " '🏿': ':dark_skin_tone:',\n",
       " '💨': ':dashing_away:',\n",
       " '\\U0001f9cf\\u200d♂️': ':deaf_man:',\n",
       " '\\U0001f9cf🏿\\u200d♂️': ':deaf_man_dark_skin_tone:',\n",
       " '\\U0001f9cf🏻\\u200d♂️': ':deaf_man_light_skin_tone:',\n",
       " '\\U0001f9cf🏾\\u200d♂️': ':deaf_man_medium-dark_skin_tone:',\n",
       " '\\U0001f9cf🏼\\u200d♂️': ':deaf_man_medium-light_skin_tone:',\n",
       " '\\U0001f9cf🏽\\u200d♂️': ':deaf_man_medium_skin_tone:',\n",
       " '\\U0001f9cf': ':deaf_person:',\n",
       " '\\U0001f9cf🏿': ':deaf_person_dark_skin_tone:',\n",
       " '\\U0001f9cf🏻': ':deaf_person_light_skin_tone:',\n",
       " '\\U0001f9cf🏾': ':deaf_person_medium-dark_skin_tone:',\n",
       " '\\U0001f9cf🏼': ':deaf_person_medium-light_skin_tone:',\n",
       " '\\U0001f9cf🏽': ':deaf_person_medium_skin_tone:',\n",
       " '\\U0001f9cf\\u200d♀️': ':deaf_woman:',\n",
       " '\\U0001f9cf🏿\\u200d♀️': ':deaf_woman_dark_skin_tone:',\n",
       " '\\U0001f9cf🏻\\u200d♀️': ':deaf_woman_light_skin_tone:',\n",
       " '\\U0001f9cf🏾\\u200d♀️': ':deaf_woman_medium-dark_skin_tone:',\n",
       " '\\U0001f9cf🏼\\u200d♀️': ':deaf_woman_medium-light_skin_tone:',\n",
       " '\\U0001f9cf🏽\\u200d♀️': ':deaf_woman_medium_skin_tone:',\n",
       " '🌳': ':deciduous_tree:',\n",
       " '🦌': ':deer:',\n",
       " '🚚': ':delivery_truck:',\n",
       " '🏬': ':department_store:',\n",
       " '🏚': ':derelict_house:',\n",
       " '🏜': ':desert:',\n",
       " '🏝': ':desert_island:',\n",
       " '🖥': ':desktop_computer:',\n",
       " '🕵': ':detective:',\n",
       " '🕵🏿': ':detective_dark_skin_tone:',\n",
       " '🕵🏻': ':detective_light_skin_tone:',\n",
       " '🕵🏾': ':detective_medium-dark_skin_tone:',\n",
       " '🕵🏼': ':detective_medium-light_skin_tone:',\n",
       " '🕵🏽': ':detective_medium_skin_tone:',\n",
       " '♦': ':diamond_suit:',\n",
       " '💠': ':diamond_with_a_dot:',\n",
       " '🔅': ':dim_button:',\n",
       " '😞': ':disappointed_face:',\n",
       " '\\U0001f978': ':disguised_face:',\n",
       " '➗': ':divide:',\n",
       " '\\U0001f93f': ':diving_mask:',\n",
       " '\\U0001fa94': ':diya_lamp:',\n",
       " '💫': ':dizzy:',\n",
       " '🧬': ':dna:',\n",
       " '\\U0001f9a4': ':dodo:',\n",
       " '🐕': ':dog:',\n",
       " '🐶': ':dog_face:',\n",
       " '💵': ':dollar_banknote:',\n",
       " '🐬': ':dolphin:',\n",
       " '🚪': ':door:',\n",
       " '🔯': ':dotted_six-pointed_star:',\n",
       " '➿': ':double_curly_loop:',\n",
       " '‼': ':double_exclamation_mark:',\n",
       " '🍩': ':doughnut:',\n",
       " '🕊': ':dove:',\n",
       " '↙': ':down-left_arrow:',\n",
       " '↘': ':down-right_arrow:',\n",
       " '⬇': ':down_arrow:',\n",
       " '😓': ':downcast_face_with_sweat:',\n",
       " '🔽': ':downwards_button:',\n",
       " '🐉': ':dragon:',\n",
       " '🐲': ':dragon_face:',\n",
       " '👗': ':dress:',\n",
       " '🤤': ':drooling_face:',\n",
       " '\\U0001fa78': ':drop_of_blood:',\n",
       " '💧': ':droplet:',\n",
       " '🥁': ':drum:',\n",
       " '🦆': ':duck:',\n",
       " '🥟': ':dumpling:',\n",
       " '📀': ':dvd:',\n",
       " '📧': ':e-mail:',\n",
       " '🦅': ':eagle:',\n",
       " '👂': ':ear:',\n",
       " '👂🏿': ':ear_dark_skin_tone:',\n",
       " '👂🏻': ':ear_light_skin_tone:',\n",
       " '👂🏾': ':ear_medium-dark_skin_tone:',\n",
       " '👂🏼': ':ear_medium-light_skin_tone:',\n",
       " '👂🏽': ':ear_medium_skin_tone:',\n",
       " '🌽': ':ear_of_corn:',\n",
       " '\\U0001f9bb': ':ear_with_hearing_aid:',\n",
       " '\\U0001f9bb🏿': ':ear_with_hearing_aid_dark_skin_tone:',\n",
       " '\\U0001f9bb🏻': ':ear_with_hearing_aid_light_skin_tone:',\n",
       " '\\U0001f9bb🏾': ':ear_with_hearing_aid_medium-dark_skin_tone:',\n",
       " '\\U0001f9bb🏼': ':ear_with_hearing_aid_medium-light_skin_tone:',\n",
       " '\\U0001f9bb🏽': ':ear_with_hearing_aid_medium_skin_tone:',\n",
       " '🥚': ':egg:',\n",
       " '🍆': ':eggplant:',\n",
       " '✴': ':eight-pointed_star:',\n",
       " '✳': ':eight-spoked_asterisk:',\n",
       " '🕣': ':eight-thirty:',\n",
       " '🕗': ':eight_o’clock:',\n",
       " '⏏': ':eject_button:',\n",
       " '🔌': ':electric_plug:',\n",
       " '🐘': ':elephant:',\n",
       " '\\U0001f6d7': ':elevator:',\n",
       " '🕦': ':eleven-thirty:',\n",
       " '🕚': ':eleven_o’clock:',\n",
       " '🧝': ':elf:',\n",
       " '🧝🏿': ':elf_dark_skin_tone:',\n",
       " '🧝🏻': ':elf_light_skin_tone:',\n",
       " '🧝🏾': ':elf_medium-dark_skin_tone:',\n",
       " '🧝🏼': ':elf_medium-light_skin_tone:',\n",
       " '🧝🏽': ':elf_medium_skin_tone:',\n",
       " '✉': ':envelope:',\n",
       " '📩': ':envelope_with_arrow:',\n",
       " '💶': ':euro_banknote:',\n",
       " '🌲': ':evergreen_tree:',\n",
       " '🐑': ':ewe:',\n",
       " '⁉': ':exclamation_question_mark:',\n",
       " '🤯': ':exploding_head:',\n",
       " '😑': ':expressionless_face:',\n",
       " '👁': ':eye:',\n",
       " '👁️\\u200d🗨️': ':eye_in_speech_bubble:',\n",
       " '👀': ':eyes:',\n",
       " '😘': ':face_blowing_a_kiss:',\n",
       " '😮\\u200d💨': ':face_exhaling:',\n",
       " '😶\\u200d🌫️': ':face_in_clouds:',\n",
       " '😋': ':face_savoring_food:',\n",
       " '😱': ':face_screaming_in_fear:',\n",
       " '🤮': ':face_vomiting:',\n",
       " '🤭': ':face_with_hand_over_mouth:',\n",
       " '🤕': ':face_with_head-bandage:',\n",
       " '😷': ':face_with_medical_mask:',\n",
       " '🧐': ':face_with_monocle:',\n",
       " '😮': ':face_with_open_mouth:',\n",
       " '🤨': ':face_with_raised_eyebrow:',\n",
       " '🙄': ':face_with_rolling_eyes:',\n",
       " '😵\\u200d💫': ':face_with_spiral_eyes:',\n",
       " '😤': ':face_with_steam_from_nose:',\n",
       " '🤬': ':face_with_symbols_on_mouth:',\n",
       " '😂': ':face_with_tears_of_joy:',\n",
       " '🤒': ':face_with_thermometer:',\n",
       " '😛': ':face_with_tongue:',\n",
       " '😶': ':face_without_mouth:',\n",
       " '🏭': ':factory:',\n",
       " '🧑\\u200d🏭': ':factory_worker:',\n",
       " '🧑🏿\\u200d🏭': ':factory_worker_dark_skin_tone:',\n",
       " '🧑🏻\\u200d🏭': ':factory_worker_light_skin_tone:',\n",
       " '🧑🏾\\u200d🏭': ':factory_worker_medium-dark_skin_tone:',\n",
       " '🧑🏼\\u200d🏭': ':factory_worker_medium-light_skin_tone:',\n",
       " '🧑🏽\\u200d🏭': ':factory_worker_medium_skin_tone:',\n",
       " '🧚': ':fairy:',\n",
       " '🧚🏿': ':fairy_dark_skin_tone:',\n",
       " '🧚🏻': ':fairy_light_skin_tone:',\n",
       " '🧚🏾': ':fairy_medium-dark_skin_tone:',\n",
       " '🧚🏼': ':fairy_medium-light_skin_tone:',\n",
       " '🧚🏽': ':fairy_medium_skin_tone:',\n",
       " '\\U0001f9c6': ':falafel:',\n",
       " '🍂': ':fallen_leaf:',\n",
       " '👪': ':family:',\n",
       " '👨\\u200d👦': ':family_man_boy:',\n",
       " '👨\\u200d👦\\u200d👦': ':family_man_boy_boy:',\n",
       " '👨\\u200d👧': ':family_man_girl:',\n",
       " '👨\\u200d👧\\u200d👦': ':family_man_girl_boy:',\n",
       " '👨\\u200d👧\\u200d👧': ':family_man_girl_girl:',\n",
       " '👨\\u200d👨\\u200d👦': ':family_man_man_boy:',\n",
       " '👨\\u200d👨\\u200d👦\\u200d👦': ':family_man_man_boy_boy:',\n",
       " '👨\\u200d👨\\u200d👧': ':family_man_man_girl:',\n",
       " '👨\\u200d👨\\u200d👧\\u200d👦': ':family_man_man_girl_boy:',\n",
       " '👨\\u200d👨\\u200d👧\\u200d👧': ':family_man_man_girl_girl:',\n",
       " '👨\\u200d👩\\u200d👦': ':family_man_woman_boy:',\n",
       " '👨\\u200d👩\\u200d👦\\u200d👦': ':family_man_woman_boy_boy:',\n",
       " '👨\\u200d👩\\u200d👧': ':family_man_woman_girl:',\n",
       " '👨\\u200d👩\\u200d👧\\u200d👦': ':family_man_woman_girl_boy:',\n",
       " '👨\\u200d👩\\u200d👧\\u200d👧': ':family_man_woman_girl_girl:',\n",
       " '👩\\u200d👦': ':family_woman_boy:',\n",
       " '👩\\u200d👦\\u200d👦': ':family_woman_boy_boy:',\n",
       " '👩\\u200d👧': ':family_woman_girl:',\n",
       " '👩\\u200d👧\\u200d👦': ':family_woman_girl_boy:',\n",
       " '👩\\u200d👧\\u200d👧': ':family_woman_girl_girl:',\n",
       " '👩\\u200d👩\\u200d👦': ':family_woman_woman_boy:',\n",
       " '👩\\u200d👩\\u200d👦\\u200d👦': ':family_woman_woman_boy_boy:',\n",
       " '👩\\u200d👩\\u200d👧': ':family_woman_woman_girl:',\n",
       " '👩\\u200d👩\\u200d👧\\u200d👦': ':family_woman_woman_girl_boy:',\n",
       " '👩\\u200d👩\\u200d👧\\u200d👧': ':family_woman_woman_girl_girl:',\n",
       " '🧑\\u200d🌾': ':farmer:',\n",
       " '🧑🏿\\u200d🌾': ':farmer_dark_skin_tone:',\n",
       " '🧑🏻\\u200d🌾': ':farmer_light_skin_tone:',\n",
       " '🧑🏾\\u200d🌾': ':farmer_medium-dark_skin_tone:',\n",
       " '🧑🏼\\u200d🌾': ':farmer_medium-light_skin_tone:',\n",
       " '🧑🏽\\u200d🌾': ':farmer_medium_skin_tone:',\n",
       " '⏩': ':fast-forward_button:',\n",
       " '⏬': ':fast_down_button:',\n",
       " '⏪': ':fast_reverse_button:',\n",
       " '⏫': ':fast_up_button:',\n",
       " '📠': ':fax_machine:',\n",
       " '😨': ':fearful_face:',\n",
       " '\\U0001fab6': ':feather:',\n",
       " '♀': ':female_sign:',\n",
       " '🎡': ':ferris_wheel:',\n",
       " '⛴': ':ferry:',\n",
       " '🏑': ':field_hockey:',\n",
       " '🗄': ':file_cabinet:',\n",
       " '📁': ':file_folder:',\n",
       " '🎞': ':film_frames:',\n",
       " '📽': ':film_projector:',\n",
       " '🔥': ':fire:',\n",
       " '🚒': ':fire_engine:',\n",
       " '🧯': ':fire_extinguisher:',\n",
       " '🧨': ':firecracker:',\n",
       " '🧑\\u200d🚒': ':firefighter:',\n",
       " ...}"
      ]
     },
     "execution_count": 36,
     "metadata": {},
     "output_type": "execute_result"
    }
   ],
   "source": [
    "# these are all the currently used emojis in the unicode emoji library\n",
    "\n",
    "emoji.UNICODE_EMOJI_ENGLISH"
   ]
  },
  {
   "cell_type": "code",
   "execution_count": 13,
   "metadata": {},
   "outputs": [
    {
     "name": "stdout",
     "output_type": "stream",
     "text": [
      "GME 🚀🚀🚀🚀🚀🚀 = gold?\n",
      "Was it a dream??!😴 😴 GME opens on Monday up 100%\n"
     ]
    }
   ],
   "source": [
    "# test strings for processing with emojis\n",
    "\n",
    "test1 = main_posts_dates.title[96479]\n",
    "test2 = main_posts_dates.title[96480]\n",
    "print(test1)\n",
    "print(test2)"
   ]
  },
  {
   "cell_type": "code",
   "execution_count": 14,
   "metadata": {},
   "outputs": [
    {
     "data": {
      "text/plain": [
       "\"GME 🚀🚀🚀🚀🚀🚀 = gold?\\\\n this is g'onna be *&% good https://yourmom\""
      ]
     },
     "execution_count": 14,
     "metadata": {},
     "output_type": "execute_result"
    }
   ],
   "source": [
    "test3 = test1 + \"\\\\n this is g'onna be *&% good https://yourmom\"\n",
    "test3"
   ]
  },
  {
   "cell_type": "code",
   "execution_count": 15,
   "metadata": {},
   "outputs": [
    {
     "data": {
      "text/plain": [
       "['🚀', '🚀', '🚀', '🚀', '🚀', '🚀']"
      ]
     },
     "execution_count": 15,
     "metadata": {},
     "output_type": "execute_result"
    }
   ],
   "source": [
    "# emoji extraction with regex\n",
    "\n",
    "re.findall(r'[^\\w\\s\\n?=,]', test1)"
   ]
  },
  {
   "cell_type": "code",
   "execution_count": 16,
   "metadata": {},
   "outputs": [
    {
     "data": {
      "text/plain": [
       "':rocket:'"
      ]
     },
     "execution_count": 16,
     "metadata": {},
     "output_type": "execute_result"
    }
   ],
   "source": [
    "# this is the output from the emoji dictionary, not totally digging the format with the colons bookending the word\n",
    "\n",
    "emoji.UNICODE_EMOJI_ENGLISH['🚀']"
   ]
  },
  {
   "cell_type": "code",
   "execution_count": 17,
   "metadata": {},
   "outputs": [],
   "source": [
    "# function translates emojis from\n",
    "\n",
    "def translate_emoji(sentence):\n",
    "    translated = []\n",
    "    for word in sentence.split():\n",
    "        if word in emoji.UNICODE_EMOJI_ENGLISH:\n",
    "            translated.append(emoji.UNICODE_EMOJI_ENGLISH[word])\n",
    "        else:\n",
    "            translated.append(word)\n",
    "    return translated"
   ]
  },
  {
   "cell_type": "code",
   "execution_count": 24,
   "metadata": {},
   "outputs": [
    {
     "data": {
      "text/plain": [
       "['GME', '🚀🚀🚀🚀🚀🚀', '=', 'gold?']"
      ]
     },
     "execution_count": 24,
     "metadata": {},
     "output_type": "execute_result"
    }
   ],
   "source": [
    "translate_emoji(test1)"
   ]
  },
  {
   "cell_type": "code",
   "execution_count": 26,
   "metadata": {
    "scrolled": true
   },
   "outputs": [
    {
     "data": {
      "text/plain": [
       "['GME',\n",
       " 'emojirocket',\n",
       " 'emojirocket',\n",
       " 'emojirocket',\n",
       " 'emojirocket',\n",
       " 'emojirocket',\n",
       " 'emojirocket',\n",
       " 'gold']"
      ]
     },
     "execution_count": 26,
     "metadata": {},
     "output_type": "execute_result"
    }
   ],
   "source": [
    "# the toked function modifies the translate emoji output so that the word 'emoji' is included at the front, \n",
    "# and the rest of the toked function has parts for removing special characters\n",
    "\n",
    "translate_emoji(toked(test1))"
   ]
  },
  {
   "cell_type": "code",
   "execution_count": 27,
   "metadata": {
    "scrolled": false
   },
   "outputs": [
    {
     "data": {
      "text/plain": [
       "['Was',\n",
       " 'it',\n",
       " 'a',\n",
       " 'dream',\n",
       " 'emojisleepingface',\n",
       " 'emojisleepingface',\n",
       " 'GME',\n",
       " 'opens',\n",
       " 'on',\n",
       " 'Monday',\n",
       " 'up']"
      ]
     },
     "execution_count": 27,
     "metadata": {},
     "output_type": "execute_result"
    }
   ],
   "source": [
    "translate_emoji(toked(test2))"
   ]
  },
  {
   "cell_type": "markdown",
   "metadata": {},
   "source": [
    "# main functions for processing the text of each post"
   ]
  },
  {
   "cell_type": "code",
   "execution_count": 4,
   "metadata": {},
   "outputs": [],
   "source": [
    "# several of the processing functions were copied from the NLP lecture\n",
    "\n",
    "\n",
    "# the toked function:\n",
    "# removes newline characters\n",
    "# removes apostrophes, easier to just remove apostrophes and leave naked contractions rather than expand them\n",
    "    # there's only like what a handful of common contractions, they can be words for this as far as i'm concerned\n",
    "# removes links that have the format 'https://etc'\n",
    "# removes special characters\n",
    "# replaces any number in the string with num\n",
    "# returns this split stripped and joined back together to remove multiple blanks\n",
    "# runs this through the nltk RegexTokenizer modified to handle emojis, which splits individual emojis\n",
    "    # so that three rocketships is 3 occurrences of one rocketship, etc. instead of its own separate character\n",
    "# finally translates emojis from their emoji symbol to a word representation of it so that ngrams captures these\n",
    "tokenizer = RegexpTokenizer(r'\\w+|[^\\w\\s]')\n",
    "link_regex = re.compile(r'(https://)[a-z./0-9?=&;-]*')\n",
    "numbers = re.compile(r'([0-9],?)+')\n",
    "apostrophe = re.compile(r\"\\'|’\") # heads up for both versions of the apostrophe!! dammit ' and ’\n",
    "newline = re.compile(r'(\\\\n)')\n",
    "specials = re.compile(r'[-+~`:;@=\\'’\"”#“$|,%/&^•·)(\\]\\[\\*\\\\?!\\._]')\n",
    "def toked(doc):\n",
    "    modified = newline.sub(' ', doc)\n",
    "    modified = apostrophe.sub('', modified)\n",
    "    modified = link_regex.sub('', modified)\n",
    "    modified = specials.sub('', modified)\n",
    "    modified = numbers.sub('', modified)\n",
    "    modified = ' '.join(modified.split()).strip()\n",
    "    modified = tokenizer.tokenize(modified)\n",
    "    \n",
    "    translated = []\n",
    "    for word in modified:\n",
    "        if word in emoji.UNICODE_EMOJI_ENGLISH:\n",
    "            translated.append('emoji_' + emoji.UNICODE_EMOJI_ENGLISH[word])\n",
    "        else:\n",
    "            translated.append(word)\n",
    "    \n",
    "    translated = ' '.join(translated)\n",
    "    modified = ' '.join(specials.sub('', translated).split()).strip()\n",
    "            \n",
    "    return modified\n",
    "\n",
    "\n",
    "# lemmatize\n",
    "def lemmatize(doc):\n",
    "    # get the words in the document\n",
    "    words = re.findall(\"\\w+|[^\\w\\s]\", doc)\n",
    "    # get the parts of speech\n",
    "    pos_tokens = nltk.pos_tag(words)\n",
    "    \n",
    "    # process_word(*token) uses star args to supply both word and part of speech to process_word\n",
    "    # for token in pos_tokens - we want to do this for every token in the document\n",
    "    \n",
    "    return ' '.join([process_word(*token) for token in pos_tokens])\n",
    "\n",
    "\n",
    "def process_word(word, pos):\n",
    "    lemmatizer = WordNetLemmatizer()\n",
    "    pos_dict = {'J':'a', 'V':'v', 'N':'n', 'R': 'r'}\n",
    "    if pos[0] in pos_dict:\n",
    "        return lemmatizer.lemmatize(word.lower(), pos_dict[pos[0]])\n",
    "    else:\n",
    "        return lemmatizer.lemmatize(word.lower())\n",
    "    \n",
    "\n",
    "# extract n-grams\n",
    "def get_ngrams(doc):\n",
    "    # build vectorizer and analyzer\n",
    "    vectorizer = CountVectorizer(ngram_range=(2, 2), preprocessor=None, tokenizer=None).build_analyzer()\n",
    "    # return the n-grams of size 2 and 3 without stop words in this case\n",
    "    return vectorizer(doc, stop_words=stopwords.words('english'))\n",
    "\n",
    "\n",
    "# remove stopwords\n",
    "my_additional_stop_words =  ('im', '', 'ud', 'u', 'pc', 'ampxb', 'unum', 'numc', 'unuma', 'unumd', 'num', 'numm', 'numk', 'xnumb', 'amp', 'im', 'ampxnumb', 'numlt', 'numnd', \"ampxnumb\")\n",
    "stop_words = text.ENGLISH_STOP_WORDS.union(my_additional_stop_words)\n",
    "real_words = ''\n",
    "def remove_stop_words(words):\n",
    "#     words_split = words.split()\n",
    "#     for word in words.split\n",
    "    return [word for word in words.split() if word not in stop_words]"
   ]
  },
  {
   "cell_type": "markdown",
   "metadata": {},
   "source": [
    "## function for doing all the text processing at once"
   ]
  },
  {
   "cell_type": "code",
   "execution_count": 5,
   "metadata": {},
   "outputs": [],
   "source": [
    "# full processing workflow, removing stop words before generating ngrams\n",
    "def processing(doc):\n",
    "    tokens = toked(str(doc)) # returns a string\n",
    "    words = lemmatize(tokens) # returns a string\n",
    "    words = remove_stop_words(words) # returns a list\n",
    "#     ngrams = get_ngrams(' '.join(words)) # returns a list\n",
    "    return words #+ ngrams # returns a list of lists of words and ngrams\n",
    "\n",
    "def tfidf_processing(doc):\n",
    "    tokens = toked(str(doc)) # returns a string\n",
    "    words = lemmatize(tokens) # returns a string\n",
    "    words = remove_stop_words(words) # returns a list\n",
    "    return ' '.join(words) # returns a list of strings, no ngrams\n",
    "\n",
    "# full processing workflow, ngrams generated before removing stop words\n",
    "# def full_processing(doc):\n",
    "#     tokens = toked(str(doc)) # returns a string\n",
    "#     ngrams = get_ngrams(tokens) # returns a list\n",
    "#     words = lemmatize(tokens) # returns a string\n",
    "#     words = remove_stop_words(words) # returns a list\n",
    "    \n",
    "#     return words + ngrams"
   ]
  },
  {
   "cell_type": "markdown",
   "metadata": {},
   "source": [
    "# build corpus for processing "
   ]
  },
  {
   "cell_type": "code",
   "execution_count": 152,
   "metadata": {},
   "outputs": [],
   "source": [
    "# full corpus\n",
    "corpus = []\n",
    "for i in range(len(main_posts_dates)):\n",
    "    corpus.append([main_posts_dates.selftext.iloc[i]])"
   ]
  },
  {
   "cell_type": "code",
   "execution_count": 11,
   "metadata": {},
   "outputs": [],
   "source": [
    "# pickling acitivites, this cell pickles the corpus just generated\n",
    "# import code is at the top of this notebook right after package imports\n",
    "\n",
    "filename = 'corpus'\n",
    "outfile = open(filename, 'wb')\n",
    "pickle.dump(corpus, outfile)\n",
    "outfile.close()"
   ]
  },
  {
   "cell_type": "code",
   "execution_count": 150,
   "metadata": {},
   "outputs": [],
   "source": [
    "# reduced corpus between jan 22 and jan 31\n",
    "corpus_reduced = []\n",
    "for i in range(len(main_posts_dates_reduced)):\n",
    "    corpus_reduced.append([main_posts_dates_reduced.selftext.iloc[i]])"
   ]
  },
  {
   "cell_type": "code",
   "execution_count": 32,
   "metadata": {},
   "outputs": [],
   "source": [
    "# pickling acitivites, this cell pickles the corpus_reduced just generated\n",
    "# import code is at the top of this notebook right after package imports\n",
    "\n",
    "filename = 'corpus_reduced'\n",
    "outfile = open(filename, 'wb')\n",
    "pickle.dump(corpus_reduced, outfile)\n",
    "outfile.close()"
   ]
  },
  {
   "cell_type": "markdown",
   "metadata": {},
   "source": [
    "### testing out several of the sub functions..."
   ]
  },
  {
   "cell_type": "code",
   "execution_count": 20,
   "metadata": {},
   "outputs": [
    {
     "data": {
      "text/plain": [
       "\"GME 🚀🚀🚀🚀🚀🚀 = gold?\\\\n this is g'onna be *&% good https://yourmom\""
      ]
     },
     "execution_count": 20,
     "metadata": {},
     "output_type": "execute_result"
    }
   ],
   "source": [
    "test3"
   ]
  },
  {
   "cell_type": "code",
   "execution_count": 21,
   "metadata": {},
   "outputs": [
    {
     "data": {
      "text/plain": [
       "'GME emojirocket emojirocket emojirocket emojirocket emojirocket emojirocket gold this is gonna be good'"
      ]
     },
     "execution_count": 21,
     "metadata": {},
     "output_type": "execute_result"
    }
   ],
   "source": [
    "toked(test3)"
   ]
  },
  {
   "cell_type": "code",
   "execution_count": 22,
   "metadata": {
    "scrolled": false
   },
   "outputs": [
    {
     "data": {
      "text/plain": [
       "['gme emojirocket',\n",
       " 'emojirocket emojirocket',\n",
       " 'emojirocket emojirocket',\n",
       " 'emojirocket emojirocket',\n",
       " 'emojirocket emojirocket',\n",
       " 'emojirocket emojirocket',\n",
       " 'emojirocket gold',\n",
       " 'gold gonna',\n",
       " 'gonna good',\n",
       " 'gme emojirocket emojirocket',\n",
       " 'emojirocket emojirocket emojirocket',\n",
       " 'emojirocket emojirocket emojirocket',\n",
       " 'emojirocket emojirocket emojirocket',\n",
       " 'emojirocket emojirocket emojirocket',\n",
       " 'emojirocket emojirocket gold',\n",
       " 'emojirocket gold gonna',\n",
       " 'gold gonna good']"
      ]
     },
     "execution_count": 22,
     "metadata": {},
     "output_type": "execute_result"
    }
   ],
   "source": [
    "get_ngrams(toked(test3))"
   ]
  },
  {
   "cell_type": "code",
   "execution_count": 26,
   "metadata": {
    "scrolled": true
   },
   "outputs": [
    {
     "data": {
      "text/plain": [
       "['gme',\n",
       " 'emojirocket',\n",
       " 'emojirocket',\n",
       " 'emojirocket',\n",
       " 'emojirocket',\n",
       " 'emojirocket',\n",
       " 'emojirocket',\n",
       " 'gold',\n",
       " 'gonna',\n",
       " 'good',\n",
       " 'gme emojirocket',\n",
       " 'emojirocket emojirocket',\n",
       " 'emojirocket emojirocket',\n",
       " 'emojirocket emojirocket',\n",
       " 'emojirocket emojirocket',\n",
       " 'emojirocket emojirocket',\n",
       " 'emojirocket gold',\n",
       " 'gold gonna',\n",
       " 'gonna good',\n",
       " 'gme emojirocket emojirocket',\n",
       " 'emojirocket emojirocket emojirocket',\n",
       " 'emojirocket emojirocket emojirocket',\n",
       " 'emojirocket emojirocket emojirocket',\n",
       " 'emojirocket emojirocket emojirocket',\n",
       " 'emojirocket emojirocket gold',\n",
       " 'emojirocket gold gonna',\n",
       " 'gold gonna good']"
      ]
     },
     "execution_count": 26,
     "metadata": {},
     "output_type": "execute_result"
    }
   ],
   "source": [
    "processing(test3)"
   ]
  },
  {
   "cell_type": "markdown",
   "metadata": {},
   "source": [
    "## Processing and LDA modeling"
   ]
  },
  {
   "cell_type": "markdown",
   "metadata": {},
   "source": [
    "###  some extra stuff to address:\n",
    "\n",
    "stop words can only be applied inside of the count vectorizer IF \"analyzer == 'word'\", but since i'm trying a new thing with the analyzer=lambda function, i need to remove the stopwords in the full_processing function\n",
    "\n",
    "\n",
    "~need to keep tweaking the special characters and stop words, which are somehow leaking into the processed corpus still.~\n",
    "\n",
    "remove links, specials, apostrophes, before ngrams, then do stop words removal.\n",
    "\n",
    "    ok, i've got ngrams generated in full_processing function\n",
    "    i've got stop words removed in full_processing function\n",
    "    i've got all specials addressed in full processing function"
   ]
  },
  {
   "cell_type": "code",
   "execution_count": 61,
   "metadata": {
    "scrolled": false
   },
   "outputs": [
    {
     "name": "stdout",
     "output_type": "stream",
     "text": [
      "time elapsed for corpus processing: 02:28\n",
      "\n",
      "time elapsed for count vectorizer: 00:00\n",
      "\n",
      "(7, 2000)\n",
      "0 ['emojirocket', 'emojigemstone', 'emojiraisinghands', 'moon', '️', 'emojigorilla', 'emojiopenhands', 'emojilightskintone', 'gme', 'emojifullmoon']\n",
      "1 ['company', 'market', 'year', 'big', 'nokia', 'business', 'new', 'million', 'use', 'make']\n",
      "2 ['delete', 'amc', 'pump', 'img', 'processing', 'sndl', 'expr', 'movie', 'aal', 'spce']\n",
      "3 ['make', 'like', 'just', 'money', 'people', 'know', 'fuck', 'dont', 'stock', 'want']\n",
      "4 ['short', 'share', 'price', 'stock', 'squeeze', 'gme', 'position', 'sell', 'high', 'option']\n",
      "5 ['buy', 'hold', 'gme', 'let', 'amc', 'nok', 'sell', 'bb', 'moon', 'dont']\n",
      "6 ['robinhood', 'fund', 'hedge', 'buy', 'stock', 'market', 'trade', 'fuck', 'gme', 'trading']\n",
      "\n",
      "time elapsed for LDA model: 01:25\n",
      "\n",
      "CPU times: user 3min 21s, sys: 14.3 s, total: 3min 35s\n",
      "Wall time: 3min 54s\n"
     ]
    }
   ],
   "source": [
    "%%time\n",
    "t0 = time.time()\n",
    "\n",
    "# running this again with a different output from full processing, a list of tokens rather than\n",
    "# the tokens rejoined into a string\n",
    "processed_reduced = []\n",
    "for doc in corpus_reduced:\n",
    "    processed_reduced.append(processing(doc))\n",
    "\n",
    "    \n",
    "t1 = time.time()\n",
    "print('time elapsed for corpus processing: ' + str(time.strftime('%M:%S', time.localtime(t1 - t0))) + '\\n')\n",
    "\n",
    "\n",
    "vectorizer = CountVectorizer(stop_words=None, \n",
    "                             max_df=0.65, \n",
    "                             min_df=3, \n",
    "                             max_features=2000,\n",
    "                             tokenizer=None,\n",
    "                             lowercase=False, \n",
    "                             preprocessor=None,\n",
    "                             analyzer=lambda x: x)\n",
    "#                              ngram_range=(1,3))\n",
    "\n",
    "X = vectorizer.fit_transform(processed_reduced)\n",
    "features = vectorizer.get_feature_names()\n",
    "\n",
    "\n",
    "t2 = time.time()\n",
    "print('time elapsed for count vectorizer: ' + str(time.strftime('%M:%S', time.localtime(t2 - t1))) + '\\n')\n",
    "\n",
    "\n",
    "lda = LatentDirichletAllocation(n_components=7, random_state=42, learning_method='online', n_jobs=-1)\n",
    "lda.fit(X)\n",
    "print(lda.components_.shape)\n",
    "top_components = lda.components_.argsort()[:,-1:-11:-1]\n",
    "\n",
    "# top_components.shape\n",
    "for i, v in enumerate(top_components):\n",
    "    print(i, [features[i] for i in v])\n",
    "    \n",
    "    \n",
    "t3 = time.time()\n",
    "print('\\n' + 'time elapsed for LDA model: ' + str(time.strftime('%M:%S', time.localtime(t3 - t2))) + '\\n')"
   ]
  },
  {
   "cell_type": "code",
   "execution_count": 59,
   "metadata": {},
   "outputs": [
    {
     "name": "stdout",
     "output_type": "stream",
     "text": [
      "👐 open_hands\n",
      "🙌 raising_hands\n",
      "💎 gem_stone\n",
      "🚀 rocket\n",
      "🦍 gorilla\n"
     ]
    }
   ],
   "source": [
    "print(list(emoji.UNICODE_EMOJI_ENGLISH.keys())[list(emoji.UNICODE_EMOJI_ENGLISH.values()).index(':open_hands:')] + ' open_hands')\n",
    "print(list(emoji.UNICODE_EMOJI_ENGLISH.keys())[list(emoji.UNICODE_EMOJI_ENGLISH.values()).index(':raising_hands:')] + ' raising_hands')\n",
    "print(list(emoji.UNICODE_EMOJI_ENGLISH.keys())[list(emoji.UNICODE_EMOJI_ENGLISH.values()).index(':gem_stone:')] + ' gem_stone')\n",
    "print(list(emoji.UNICODE_EMOJI_ENGLISH.keys())[list(emoji.UNICODE_EMOJI_ENGLISH.values()).index(':rocket:')] + ' rocket')\n",
    "print(list(emoji.UNICODE_EMOJI_ENGLISH.keys())[list(emoji.UNICODE_EMOJI_ENGLISH.values()).index(':gorilla:')] + ' gorilla')"
   ]
  },
  {
   "cell_type": "code",
   "execution_count": null,
   "metadata": {},
   "outputs": [],
   "source": []
  },
  {
   "cell_type": "code",
   "execution_count": 62,
   "metadata": {},
   "outputs": [],
   "source": [
    "bag = []\n",
    "for doc in processed_reduced:\n",
    "    for word in doc:\n",
    "        bag.append(word)"
   ]
  },
  {
   "cell_type": "code",
   "execution_count": 63,
   "metadata": {},
   "outputs": [
    {
     "data": {
      "text/plain": [
       "[('emojirocket', 60058),\n",
       " ('gme', 18439),\n",
       " ('buy', 17288),\n",
       " ('stock', 14179),\n",
       " ('short', 11067),\n",
       " ('share', 10615),\n",
       " ('just', 10512),\n",
       " ('delete', 10059),\n",
       " ('hold', 9995),\n",
       " ('make', 8917),\n",
       " ('like', 8736),\n",
       " ('market', 8573),\n",
       " ('sell', 8377),\n",
       " ('amc', 8239),\n",
       " ('fuck', 8166),\n",
       " ('dont', 8104),\n",
       " ('let', 7903),\n",
       " ('robinhood', 7049),\n",
       " ('money', 6860),\n",
       " ('know', 6697),\n",
       " ('people', 6615),\n",
       " ('price', 6158),\n",
       " ('time', 5616),\n",
       " ('want', 5412),\n",
       " ('think', 5239),\n",
       " ('fund', 5004),\n",
       " ('emojigemstone', 4814),\n",
       " ('say', 4743),\n",
       " ('company', 4695),\n",
       " ('bb', 4624),\n",
       " ('try', 4381),\n",
       " ('nok', 4281),\n",
       " ('position', 4268),\n",
       " ('moon', 4253),\n",
       " ('day', 4251),\n",
       " ('trade', 4132),\n",
       " ('need', 4099),\n",
       " ('new', 4041),\n",
       " ('guy', 4022),\n",
       " ('hedge', 3975),\n",
       " ('squeeze', 3956),\n",
       " ('good', 3914),\n",
       " ('big', 3830),\n",
       " ('use', 3771),\n",
       " ('retard', 3722),\n",
       " ('look', 3635),\n",
       " ('right', 3522),\n",
       " ('today', 3496),\n",
       " ('trading', 3317),\n",
       " ('way', 3271),\n",
       " ('post', 3211),\n",
       " ('year', 3208),\n",
       " ('happen', 3186),\n",
       " ('come', 3156),\n",
       " ('start', 3079),\n",
       " ('account', 3020),\n",
       " ('shit', 2909),\n",
       " ('lose', 2887),\n",
       " ('stop', 2813),\n",
       " ('financial', 2757),\n",
       " ('week', 2746),\n",
       " ('high', 2695),\n",
       " ('long', 2672),\n",
       " ('option', 2653),\n",
       " ('thing', 2625),\n",
       " ('fucking', 2601),\n",
       " ('help', 2563),\n",
       " ('order', 2510),\n",
       " ('investor', 2504),\n",
       " ('work', 2493),\n",
       " ('gamestop', 2429),\n",
       " ('ive', 2408),\n",
       " ('wsb', 2364),\n",
       " ('lot', 2312),\n",
       " ('k', 2264),\n",
       " ('hand', 2245),\n",
       " ('broker', 2204),\n",
       " ('invest', 2203),\n",
       " ('retail', 2174),\n",
       " ('open', 2124),\n",
       " ('really', 2065),\n",
       " ('thats', 2065),\n",
       " ('play', 2054),\n",
       " ('million', 2045),\n",
       " ('pay', 2002),\n",
       " ('wall', 1992),\n",
       " ('melvin', 1983),\n",
       " ('close', 1930),\n",
       " ('mean', 1920),\n",
       " ('game', 1893),\n",
       " ('rh', 1845),\n",
       " ('allow', 1841),\n",
       " ('street', 1821),\n",
       " ('platform', 1787),\n",
       " ('line', 1772),\n",
       " ('cover', 1772),\n",
       " ('theyre', 1766),\n",
       " ('tell', 1760),\n",
       " ('gain', 1755),\n",
       " ('advice', 1735),\n",
       " ('dip', 1719),\n",
       " ('point', 1678),\n",
       " ('end', 1648),\n",
       " ('app', 1647),\n",
       " ('win', 1601),\n",
       " ('youre', 1565),\n",
       " ('change', 1557),\n",
       " ('love', 1535),\n",
       " ('little', 1534),\n",
       " ('low', 1517),\n",
       " ('emojiraisinghands', 1512),\n",
       " ('cash', 1491),\n",
       " ('great', 1487),\n",
       " ('sure', 1477),\n",
       " ('wont', 1476),\n",
       " ('nokia', 1452),\n",
       " ('power', 1450),\n",
       " ('best', 1441),\n",
       " ('manipulation', 1436),\n",
       " ('free', 1434),\n",
       " ('profit', 1430),\n",
       " ('whats', 1426),\n",
       " ('loss', 1425),\n",
       " ('world', 1399),\n",
       " ('life', 1390),\n",
       " ('strong', 1380),\n",
       " ('capital', 1377),\n",
       " ('value', 1370),\n",
       " ('cause', 1369),\n",
       " ('sub', 1367),\n",
       " ('billion', 1367),\n",
       " ('pump', 1352),\n",
       " ('able', 1340),\n",
       " ('isnt', 1336),\n",
       " ('support', 1312),\n",
       " ('leave', 1290),\n",
       " ('believe', 1290),\n",
       " ('hit', 1289),\n",
       " ('purchase', 1287),\n",
       " ('place', 1287),\n",
       " ('read', 1285),\n",
       " ('brokerage', 1272),\n",
       " ('buying', 1263),\n",
       " ('actually', 1260),\n",
       " ('run', 1259),\n",
       " ('m', 1258),\n",
       " ('rich', 1245),\n",
       " ('watch', 1240),\n",
       " ('morning', 1232),\n",
       " ('tendies', 1226),\n",
       " ('feel', 1218),\n",
       " ('month', 1217),\n",
       " ('friday', 1217),\n",
       " ('boy', 1197),\n",
       " ('investment', 1188),\n",
       " ('talk', 1184),\n",
       " ('risk', 1170),\n",
       " ('rocket', 1167),\n",
       " ('doesnt', 1164),\n",
       " ('tldr', 1159),\n",
       " ('real', 1158),\n",
       " ('float', 1156),\n",
       " ('didnt', 1156),\n",
       " ('gonna', 1149),\n",
       " ('news', 1147),\n",
       " ('dollar', 1145),\n",
       " ('business', 1138),\n",
       " ('diamond', 1137),\n",
       " ('limit', 1129),\n",
       " ('bad', 1127),\n",
       " ('drop', 1122),\n",
       " ('bank', 1109),\n",
       " ('volume', 1100),\n",
       " ('future', 1096),\n",
       " ('continue', 1092),\n",
       " ('fight', 1068),\n",
       " ('citadel', 1065),\n",
       " ('small', 1060),\n",
       " ('manipulate', 1050),\n",
       " ('b', 1048),\n",
       " ('dd', 1042),\n",
       " ('sec', 1040),\n",
       " ('worth', 1037),\n",
       " ('reason', 1037),\n",
       " ('understand', 1037),\n",
       " ('increase', 1030),\n",
       " ('currently', 1029),\n",
       " ('far', 1028),\n",
       " ('wait', 1024),\n",
       " ('hope', 1022),\n",
       " ('stay', 1021),\n",
       " ('medium', 1014),\n",
       " ('block', 1014),\n",
       " ('ask', 1013),\n",
       " ('ill', 1011),\n",
       " ('join', 1011),\n",
       " ('probably', 1008),\n",
       " ('action', 1001),\n",
       " ('number', 997),\n",
       " ('reddit', 996),\n",
       " ('away', 992),\n",
       " ('push', 991),\n",
       " ('idea', 984),\n",
       " ('huge', 976),\n",
       " ('force', 972),\n",
       " ('webull', 968),\n",
       " ('hour', 964),\n",
       " ('hard', 961),\n",
       " ('autists', 958),\n",
       " ('yesterday', 951),\n",
       " ('literally', 950),\n",
       " ('past', 941),\n",
       " ('maybe', 938),\n",
       " ('set', 932),\n",
       " ('bet', 927),\n",
       " ('large', 926),\n",
       " ('margin', 922),\n",
       " ('send', 920),\n",
       " ('turn', 912),\n",
       " ('user', 910),\n",
       " ('halt', 909),\n",
       " ('remember', 900),\n",
       " ('create', 898),\n",
       " ('fellow', 885),\n",
       " ('potential', 878),\n",
       " ('plan', 874),\n",
       " ('check', 867),\n",
       " ('expect', 866),\n",
       " ('tomorrow', 864),\n",
       " ('likely', 861),\n",
       " ('security', 859),\n",
       " ('history', 859),\n",
       " ('drive', 858),\n",
       " ('current', 857),\n",
       " ('hear', 849),\n",
       " ('possible', 848),\n",
       " ('miss', 847),\n",
       " ('decide', 844),\n",
       " ('soon', 843),\n",
       " ('bring', 838),\n",
       " ('massive', 833),\n",
       " ('trader', 821),\n",
       " ('break', 820),\n",
       " ('saw', 816),\n",
       " ('meme', 815),\n",
       " ('available', 815),\n",
       " ('data', 811),\n",
       " ('️', 808),\n",
       " ('x', 804),\n",
       " ('late', 803),\n",
       " ('selling', 801),\n",
       " ('ago', 801),\n",
       " ('firm', 793),\n",
       " ('follow', 791),\n",
       " ('pull', 790),\n",
       " ('c', 788),\n",
       " ('issue', 787),\n",
       " ('contract', 785),\n",
       " ('ride', 780),\n",
       " ('s', 778),\n",
       " ('yall', 777),\n",
       " ('thought', 777),\n",
       " ('case', 772),\n",
       " ('transfer', 769),\n",
       " ('thanks', 768),\n",
       " ('term', 761),\n",
       " ('thank', 757),\n",
       " ('boomer', 752),\n",
       " ('fidelity', 748),\n",
       " ('silver', 748),\n",
       " ('friend', 742),\n",
       " ('question', 736),\n",
       " ('sale', 732),\n",
       " ('rise', 732),\n",
       " ('gamma', 715),\n",
       " ('community', 714),\n",
       " ('base', 714),\n",
       " ('emojigorilla', 713),\n",
       " ('opportunity', 712),\n",
       " ('stand', 711),\n",
       " ('live', 711),\n",
       " ('target', 710),\n",
       " ('earnings', 708),\n",
       " ('rule', 708),\n",
       " ('old', 705),\n",
       " ('revenue', 704),\n",
       " ('crash', 701),\n",
       " ('cap', 701),\n",
       " ('man', 701),\n",
       " ('comment', 700),\n",
       " ('td', 699),\n",
       " ('restrict', 696),\n",
       " ('report', 695),\n",
       " ('gt', 691),\n",
       " ('seller', 690),\n",
       " ('add', 689),\n",
       " ('cnbc', 685),\n",
       " ('fact', 683),\n",
       " ('paper', 680),\n",
       " ('pretty', 680),\n",
       " ('clear', 680),\n",
       " ('customer', 679),\n",
       " ('care', 678),\n",
       " ('wrong', 678),\n",
       " ('img', 677),\n",
       " ('stick', 674),\n",
       " ('grow', 667),\n",
       " ('war', 664),\n",
       " ('level', 663),\n",
       " ('arent', 660),\n",
       " ('cost', 658),\n",
       " ('group', 657),\n",
       " ('listen', 656),\n",
       " ('class', 653),\n",
       " ('link', 650),\n",
       " ('jump', 648),\n",
       " ('growth', 647),\n",
       " ('include', 647),\n",
       " ('write', 646),\n",
       " ('emojiopenhands', 646),\n",
       " ('matter', 640),\n",
       " ('mod', 640),\n",
       " ('house', 639),\n",
       " ('institution', 639),\n",
       " ('learn', 639),\n",
       " ('control', 636),\n",
       " ('bit', 634),\n",
       " ('ban', 629),\n",
       " ('save', 629),\n",
       " ('nakd', 626),\n",
       " ('chance', 626),\n",
       " ('monday', 625),\n",
       " ('theres', 625),\n",
       " ('poor', 623),\n",
       " ('processing', 620),\n",
       " ('different', 618),\n",
       " ('yes', 617),\n",
       " ('shut', 611),\n",
       " ('moment', 608),\n",
       " ('true', 608),\n",
       " ('cheap', 607),\n",
       " ('entire', 606),\n",
       " ('job', 606),\n",
       " ('single', 604),\n",
       " ('attack', 601),\n",
       " ('holding', 597),\n",
       " ('minute', 596),\n",
       " ('finally', 595),\n",
       " ('fall', 593),\n",
       " ('service', 592),\n",
       " ('cancel', 590),\n",
       " ('couple', 589),\n",
       " ('average', 588),\n",
       " ('yolo', 587),\n",
       " ('debt', 587),\n",
       " ('mm', 587),\n",
       " ('weve', 587),\n",
       " ('anymore', 584),\n",
       " ('easy', 583),\n",
       " ('id', 577),\n",
       " ('consider', 577),\n",
       " ('research', 576),\n",
       " ('bot', 573),\n",
       " ('covid', 572),\n",
       " ('throw', 566),\n",
       " ('brother', 565),\n",
       " ('information', 565),\n",
       " ('demand', 565),\n",
       " ('story', 564),\n",
       " ('instead', 558),\n",
       " ('scare', 556),\n",
       " ('emojilightskintone', 555),\n",
       " ('attention', 551),\n",
       " ('important', 550),\n",
       " ('provide', 547),\n",
       " ('guess', 547),\n",
       " ('product', 547),\n",
       " ('g', 546),\n",
       " ('realize', 546),\n",
       " ('sit', 545),\n",
       " ('blackberry', 544),\n",
       " ('situation', 543),\n",
       " ('screw', 543),\n",
       " ('opinion', 543),\n",
       " ('advisor', 542),\n",
       " ('list', 540),\n",
       " ('bunch', 540),\n",
       " ('ready', 537),\n",
       " ('double', 536),\n",
       " ('wife', 533),\n",
       " ('store', 533),\n",
       " ('crazy', 532),\n",
       " ('longer', 532),\n",
       " ('panic', 532),\n",
       " ('deal', 529),\n",
       " ('return', 529),\n",
       " ('spread', 527),\n",
       " ('begin', 526),\n",
       " ('movement', 525),\n",
       " ('apps', 525),\n",
       " ('hey', 524),\n",
       " ('second', 524),\n",
       " ('protect', 522),\n",
       " ('suit', 522),\n",
       " ('message', 521),\n",
       " ('word', 520),\n",
       " ('havent', 519),\n",
       " ('wonder', 516),\n",
       " ('board', 515),\n",
       " ('rest', 515),\n",
       " ('illegal', 511),\n",
       " ('hell', 509),\n",
       " ('state', 509),\n",
       " ('explain', 509),\n",
       " ('experience', 507),\n",
       " ('problem', 507),\n",
       " ('bullshit', 504),\n",
       " ('dump', 503),\n",
       " ('theyve', 501),\n",
       " ('reach', 500),\n",
       " ('night', 499),\n",
       " ('government', 499),\n",
       " ('expire', 498),\n",
       " ('hop', 497),\n",
       " ('bear', 497),\n",
       " ('result', 497),\n",
       " ('total', 497),\n",
       " ('process', 496),\n",
       " ('remove', 494),\n",
       " ('mention', 494),\n",
       " ('build', 493),\n",
       " ('major', 492),\n",
       " ('subreddit', 490),\n",
       " ('recently', 490),\n",
       " ('sign', 489),\n",
       " ('certain', 488),\n",
       " ('lead', 487),\n",
       " ('early', 487),\n",
       " ('ameritrade', 487),\n",
       " ('blow', 486),\n",
       " ('car', 486),\n",
       " ('sndl', 485),\n",
       " ('god', 482),\n",
       " ('head', 481),\n",
       " ('public', 479),\n",
       " ('title', 476),\n",
       " ('degenerate', 475),\n",
       " ('mind', 473),\n",
       " ('ape', 473),\n",
       " ('stupid', 472),\n",
       " ('baby', 471),\n",
       " ('strike', 471),\n",
       " ('portfolio', 470),\n",
       " ('recent', 467),\n",
       " ('ticker', 466),\n",
       " ('stonks', 464),\n",
       " ('access', 464),\n",
       " ('figure', 462),\n",
       " ('family', 462),\n",
       " ('member', 459),\n",
       " ('completely', 459),\n",
       " ('bbby', 458),\n",
       " ('legal', 458),\n",
       " ('kind', 458),\n",
       " ('restriction', 458),\n",
       " ('emojiraisedhand', 456),\n",
       " ('person', 455),\n",
       " ('forget', 454),\n",
       " ('th', 453),\n",
       " ('bitch', 453),\n",
       " ('hurt', 451),\n",
       " ('notice', 451),\n",
       " ('ability', 450),\n",
       " ('trust', 449),\n",
       " ('offer', 449),\n",
       " ('prevent', 449),\n",
       " ('cohen', 448),\n",
       " ('focus', 448),\n",
       " ('maker', 446),\n",
       " ('volatility', 443),\n",
       " ('hood', 443),\n",
       " ('ceo', 440),\n",
       " ('beat', 440),\n",
       " ('spend', 439),\n",
       " ('tesla', 439),\n",
       " ('pick', 438),\n",
       " ('pltr', 437),\n",
       " ('course', 436),\n",
       " ('fucker', 436),\n",
       " ('wanna', 435),\n",
       " ('basically', 435),\n",
       " ('phone', 434),\n",
       " ('american', 433),\n",
       " ('smart', 432),\n",
       " ('emojifullmoon', 432),\n",
       " ('saving', 430),\n",
       " ('tax', 429),\n",
       " ('thousand', 429),\n",
       " ('simple', 428),\n",
       " ('decision', 427),\n",
       " ('absolutely', 426),\n",
       " ('raise', 425),\n",
       " ('obviously', 424),\n",
       " ('boyfriend', 422),\n",
       " ('kid', 421),\n",
       " ('loan', 421),\n",
       " ('edit', 421),\n",
       " ('simply', 420),\n",
       " ('later', 420),\n",
       " ('battle', 420),\n",
       " ('rate', 418),\n",
       " ('fundamental', 416),\n",
       " ('exchange', 416),\n",
       " ('etrade', 416),\n",
       " ('robin', 415),\n",
       " ('especially', 414),\n",
       " ('asset', 414),\n",
       " ('wouldnt', 412),\n",
       " ('wallstreet', 411),\n",
       " ('home', 410),\n",
       " ('train', 408),\n",
       " ('eat', 407),\n",
       " ('emojirainbow', 407),\n",
       " ('exercise', 406),\n",
       " ('retarded', 405),\n",
       " ('pressure', 405),\n",
       " ('space', 404),\n",
       " ('industry', 403),\n",
       " ('scar', 403),\n",
       " ('—', 402),\n",
       " ('billionaire', 401),\n",
       " ('fee', 401),\n",
       " ('strategy', 401),\n",
       " ('die', 398),\n",
       " ('eye', 397),\n",
       " ('autist', 396),\n",
       " ('naked', 395),\n",
       " ('nice', 394),\n",
       " ('wtf', 393),\n",
       " ('p', 393),\n",
       " ('multiple', 392),\n",
       " ('happy', 391),\n",
       " ('actual', 390),\n",
       " ('review', 390),\n",
       " ('example', 389),\n",
       " ('thread', 389),\n",
       " ('fear', 389),\n",
       " ('deep', 388),\n",
       " ('star', 387),\n",
       " ('emojibear', 385),\n",
       " ('lock', 384),\n",
       " ('movie', 384),\n",
       " ('emojifire', 384),\n",
       " ('load', 383),\n",
       " ('stuff', 383),\n",
       " ('fast', 383),\n",
       " ('half', 382),\n",
       " ('note', 382),\n",
       " ('online', 380),\n",
       " ('ton', 380),\n",
       " ('expr', 379),\n",
       " ('quick', 378),\n",
       " ('step', 378),\n",
       " ('bail', 377),\n",
       " ('individual', 376),\n",
       " ('event', 375),\n",
       " ('switch', 374),\n",
       " ('bankrupt', 373),\n",
       " ('damn', 372),\n",
       " ('country', 372),\n",
       " ('ball', 372),\n",
       " ('supply', 372),\n",
       " ('technology', 372),\n",
       " ('borrow', 371),\n",
       " ('finance', 371),\n",
       " ('afford', 371),\n",
       " ('hello', 370),\n",
       " ('lawsuit', 370),\n",
       " ('player', 370),\n",
       " ('similar', 369),\n",
       " ('wealth', 369),\n",
       " ('article', 367),\n",
       " ('fail', 366),\n",
       " ('elon', 366),\n",
       " ('apple', 366),\n",
       " ('fun', 365),\n",
       " ('doge', 364),\n",
       " ('till', 363),\n",
       " ('disclaimer', 362),\n",
       " ('imagine', 362),\n",
       " ('act', 361),\n",
       " ('trigger', 360),\n",
       " ('video', 359),\n",
       " ('luck', 358),\n",
       " ('fine', 357),\n",
       " ('kill', 356),\n",
       " ('compare', 355),\n",
       " ('chart', 354),\n",
       " ('dumb', 354),\n",
       " ('youve', 353),\n",
       " ('shorted', 353),\n",
       " ('hype', 353),\n",
       " ('book', 352),\n",
       " ('gold', 351),\n",
       " ('twitter', 351),\n",
       " ('q', 351),\n",
       " ('boys', 351),\n",
       " ('emojimediumlightskintone', 350),\n",
       " ('tech', 349),\n",
       " ('announce', 348),\n",
       " ('ship', 347),\n",
       " ('pandemic', 346),\n",
       " ('tactic', 345),\n",
       " ('deposit', 343),\n",
       " ('quarter', 343),\n",
       " ('brain', 342),\n",
       " ('worry', 341),\n",
       " ('going', 338),\n",
       " ('face', 337),\n",
       " ('catch', 337),\n",
       " ('citron', 336),\n",
       " ('exist', 335),\n",
       " ('file', 335),\n",
       " ('fair', 333),\n",
       " ('heavily', 333),\n",
       " ('complaint', 333),\n",
       " ('prove', 332),\n",
       " ('sorry', 332),\n",
       " ('youll', 331),\n",
       " ('lol', 331),\n",
       " ('party', 331),\n",
       " ('management', 330),\n",
       " ('forever', 329),\n",
       " ('mar', 329),\n",
       " ('source', 328),\n",
       " ('emojichartincreasing', 327),\n",
       " ('update', 325),\n",
       " ('attempt', 324),\n",
       " ('ok', 324),\n",
       " ('exactly', 323),\n",
       " ('flow', 322),\n",
       " ('bag', 321),\n",
       " ('trend', 320),\n",
       " ('liquidate', 320),\n",
       " ('burn', 320),\n",
       " ('discord', 320),\n",
       " ('vaccine', 318),\n",
       " ('team', 318),\n",
       " ('manage', 318),\n",
       " ('pop', 317),\n",
       " ('hate', 317),\n",
       " ('energy', 317),\n",
       " ('heres', 316),\n",
       " ('truly', 316),\n",
       " ('normal', 315),\n",
       " ('bull', 314),\n",
       " ('willing', 314),\n",
       " ('schwab', 314),\n",
       " ('internet', 314),\n",
       " ('destroy', 314),\n",
       " ('common', 313),\n",
       " ('benefit', 312),\n",
       " ('insane', 312),\n",
       " ('folk', 311),\n",
       " ('itm', 310),\n",
       " ('manager', 310),\n",
       " ('autistic', 310),\n",
       " ('wasnt', 310),\n",
       " ('network', 310),\n",
       " ('transaction', 309),\n",
       " ('revolution', 309),\n",
       " ('january', 307),\n",
       " ('type', 307),\n",
       " ('enjoy', 307),\n",
       " ('greedy', 307),\n",
       " ('super', 306),\n",
       " ('site', 306),\n",
       " ('speak', 306),\n",
       " ('near', 305),\n",
       " ('date', 305),\n",
       " ('client', 304),\n",
       " ('remain', 304),\n",
       " ('law', 304),\n",
       " ('deserve', 301),\n",
       " ('ev', 301),\n",
       " ('wish', 300),\n",
       " ('choose', 300),\n",
       " ('easily', 299),\n",
       " ('idiot', 297),\n",
       " ('page', 297),\n",
       " ('form', 297),\n",
       " ('charge', 297),\n",
       " ('hi', 296),\n",
       " ('chamath', 296),\n",
       " ('fly', 295),\n",
       " ('clearing', 295),\n",
       " ('alternative', 294),\n",
       " ('daily', 294),\n",
       " ('oh', 294),\n",
       " ('claim', 293),\n",
       " ('proud', 293),\n",
       " ('institutional', 293),\n",
       " ('release', 293),\n",
       " ('brand', 293),\n",
       " ('assume', 292),\n",
       " ('bought', 291),\n",
       " ('penny', 291),\n",
       " ('buyer', 291),\n",
       " ('social', 290),\n",
       " ('require', 289),\n",
       " ('credit', 289),\n",
       " ('info', 289),\n",
       " ('exit', 289),\n",
       " ('sound', 289),\n",
       " ('march', 288),\n",
       " ('momentum', 288),\n",
       " ('extremely', 288),\n",
       " ('em', 287),\n",
       " ('settle', 286),\n",
       " ('requirement', 286),\n",
       " ('receive', 286),\n",
       " ('immediately', 285),\n",
       " ('net', 284),\n",
       " ('piece', 284),\n",
       " ('involve', 283),\n",
       " ('bleed', 283),\n",
       " ('recommend', 283),\n",
       " ('emojiraisedbackofhand', 282),\n",
       " ('student', 282),\n",
       " ('mass', 282),\n",
       " ('answer', 282),\n",
       " ('red', 281),\n",
       " ('lie', 281),\n",
       " ('personal', 280),\n",
       " ('tsla', 280),\n",
       " ('website', 280),\n",
       " ('cut', 279),\n",
       " ('liquidity', 278),\n",
       " ('ha', 278),\n",
       " ('did', 277),\n",
       " ('main', 277),\n",
       " ('wallstreetbets', 277),\n",
       " ('roll', 276),\n",
       " ('google', 276),\n",
       " ('vehicle', 276),\n",
       " ('seriously', 276),\n",
       " ('enter', 275),\n",
       " ('uk', 275),\n",
       " ('ratio', 275),\n",
       " ('bankruptcy', 275),\n",
       " ('suck', 275),\n",
       " ('economy', 274),\n",
       " ('search', 274),\n",
       " ('clearly', 273),\n",
       " ('effort', 271),\n",
       " ('jan', 271),\n",
       " ('green', 271),\n",
       " ('nio', 270),\n",
       " ('forward', 270),\n",
       " ('model', 270),\n",
       " ('effect', 270),\n",
       " ('discussion', 268),\n",
       " ('aint', 268),\n",
       " ('suggest', 268),\n",
       " ('eventually', 268),\n",
       " ('personally', 267),\n",
       " ('fuel', 266),\n",
       " ('quite', 265),\n",
       " ('software', 265),\n",
       " ('sense', 264),\n",
       " ('complete', 264),\n",
       " ('dfv', 264),\n",
       " ('appreciate', 263),\n",
       " ('tank', 263),\n",
       " ('peak', 262),\n",
       " ('emojicrescentmoon', 261),\n",
       " ('positive', 261),\n",
       " ('st', 261),\n",
       " ('rally', 261),\n",
       " ('spike', 261),\n",
       " ('straight', 260),\n",
       " ('equity', 260),\n",
       " ('trick', 259),\n",
       " ('highly', 259),\n",
       " ('t', 258),\n",
       " ('steal', 257),\n",
       " ('everybody', 257),\n",
       " ('income', 257),\n",
       " ('asshole', 256),\n",
       " ('theyll', 255),\n",
       " ('premarket', 254),\n",
       " ('safe', 254),\n",
       " ('sort', 254),\n",
       " ('yeah', 253),\n",
       " ('test', 253),\n",
       " ('advantage', 252),\n",
       " ('piss', 251),\n",
       " ('general', 250),\n",
       " ('fuckin', 250),\n",
       " ('aal', 250),\n",
       " ('spce', 249),\n",
       " ('doe', 249),\n",
       " ('forum', 249),\n",
       " ('ipo', 248),\n",
       " ('analyst', 248),\n",
       " ('despite', 248),\n",
       " ('accord', 247),\n",
       " ('emojipalmsuptogether', 247),\n",
       " ('obvious', 247),\n",
       " ('shareholder', 246),\n",
       " ('goal', 246),\n",
       " ('estimate', 246),\n",
       " ('f', 244),\n",
       " ('buck', 244),\n",
       " ('crypto', 243),\n",
       " ('dick', 243),\n",
       " ('significant', 243),\n",
       " ('okay', 243),\n",
       " ('–', 243),\n",
       " ('‘', 243),\n",
       " ('ground', 243),\n",
       " ('definitely', 243),\n",
       " ('nexe', 243),\n",
       " ('emojinewmoonface', 242),\n",
       " ('activity', 242),\n",
       " ('partner', 240),\n",
       " ('reduce', 240),\n",
       " ('beginning', 240),\n",
       " ('stonk', 240),\n",
       " ('dogecoin', 240),\n",
       " ('tweet', 239),\n",
       " ('card', 239),\n",
       " ('dirty', 239),\n",
       " ('decade', 238),\n",
       " ('outstanding', 238),\n",
       " ('difference', 238),\n",
       " ('zero', 238),\n",
       " ('global', 237),\n",
       " ('earn', 237),\n",
       " ('plus', 237),\n",
       " ('rn', 237),\n",
       " ('shoot', 236),\n",
       " ('leverage', 236),\n",
       " ('potentially', 235),\n",
       " ('etoro', 234),\n",
       " ('light', 234),\n",
       " ('repeat', 234),\n",
       " ('possibly', 234),\n",
       " ('beautiful', 234),\n",
       " ('gang', 234),\n",
       " ('donate', 234),\n",
       " ('europe', 233),\n",
       " ('regard', 233),\n",
       " ('holder', 233),\n",
       " ('bastard', 233),\n",
       " ('slv', 233),\n",
       " ('thursday', 232),\n",
       " ('got', 232),\n",
       " ('click', 232),\n",
       " ('premium', 232),\n",
       " ('nearly', 231),\n",
       " ('hedgefund', 231),\n",
       " ('america', 231),\n",
       " ('server', 231),\n",
       " ('corrupt', 231),\n",
       " ('⣿', 231),\n",
       " ('v', 230),\n",
       " ('emojimoneybag', 230),\n",
       " ('agree', 230),\n",
       " ('execute', 229),\n",
       " ('cashapp', 229),\n",
       " ('emojihandwithfingerssplayed', 229),\n",
       " ('outside', 228),\n",
       " ('parent', 227),\n",
       " ('valuation', 227),\n",
       " ('hopefully', 225),\n",
       " ('otm', 224),\n",
       " ('fat', 224),\n",
       " ('emojibanana', 224),\n",
       " ('wake', 222),\n",
       " ('united', 221),\n",
       " ('insider', 221),\n",
       " ('mac', 221),\n",
       " ('obligatory', 220),\n",
       " ('extra', 220),\n",
       " ('record', 219),\n",
       " ('corporate', 218),\n",
       " ('shitty', 218),\n",
       " ('bullish', 218),\n",
       " ('choice', 218),\n",
       " ('occur', 218),\n",
       " ('view', 217),\n",
       " ('interested', 216),\n",
       " ('usually', 216),\n",
       " ('suspend', 216),\n",
       " ('room', 216),\n",
       " ('men', 216),\n",
       " ('statement', 215),\n",
       " ('period', 215),\n",
       " ('quickly', 215),\n",
       " ('weekend', 215),\n",
       " ('honestly', 215),\n",
       " ('rid', 215),\n",
       " ('generation', 215),\n",
       " ('blatant', 213),\n",
       " ('shall', 213),\n",
       " ('wa', 213),\n",
       " ('percent', 212),\n",
       " ('email', 212),\n",
       " ('dream', 212),\n",
       " ('itll', 211),\n",
       " ('gay', 211),\n",
       " ('gotta', 211),\n",
       " ('balance', 210),\n",
       " ('accept', 210),\n",
       " ('majority', 209),\n",
       " ('previous', 208),\n",
       " ('amd', 208),\n",
       " ('wave', 208),\n",
       " ('pass', 208),\n",
       " ('profitable', 207),\n",
       " ('random', 207),\n",
       " ('udeepfuckingvalue', 207),\n",
       " ('skyrocket', 207),\n",
       " ('cent', 206),\n",
       " ('count', 206),\n",
       " ('d', 206),\n",
       " ('curious', 205),\n",
       " ('school', 205),\n",
       " ('bois', 205),\n",
       " ('elite', 204),\n",
       " ('solution', 204),\n",
       " ('affect', 204),\n",
       " ('professional', 204),\n",
       " ('suppose', 204),\n",
       " ('discount', 204),\n",
       " ('table', 204),\n",
       " ('aware', 203),\n",
       " ('thesis', 203),\n",
       " ('meet', 203),\n",
       " ('discuss', 202),\n",
       " ('purpose', 202),\n",
       " ('directly', 201),\n",
       " ('theory', 201),\n",
       " ('shift', 201),\n",
       " ('robinhoods', 201),\n",
       " ('log', 200),\n",
       " ('ahead', 200),\n",
       " ('kick', 200),\n",
       " ('alright', 199),\n",
       " ('emojifullmoonface', 199),\n",
       " ('cool', 199),\n",
       " ('wednesday', 199),\n",
       " ('handle', 198),\n",
       " ('vanguard', 197),\n",
       " ('range', 197),\n",
       " ('crush', 197),\n",
       " ('mobile', 197),\n",
       " ('oil', 197),\n",
       " ('unless', 197),\n",
       " ('fake', 197),\n",
       " ('shorters', 196),\n",
       " ('appear', 196),\n",
       " ('feb', 196),\n",
       " ('etf', 196),\n",
       " ('amazing', 195),\n",
       " ('pocket', 195),\n",
       " ('vote', 195),\n",
       " ('idk', 195),\n",
       " ('catalyst', 194),\n",
       " ('ya', 194),\n",
       " ('ladder', 194),\n",
       " ('solid', 193),\n",
       " ('upside', 192),\n",
       " ('anybody', 192),\n",
       " ('regulation', 192),\n",
       " ('crisis', 192),\n",
       " ('political', 191),\n",
       " ('slow', 191),\n",
       " ('suddenly', 190),\n",
       " ('walk', 190),\n",
       " ('physical', 190),\n",
       " ('drug', 189),\n",
       " ('tards', 189),\n",
       " ('scenario', 189),\n",
       " ('proof', 189),\n",
       " ('college', 189),\n",
       " ('private', 189),\n",
       " ('stream', 189),\n",
       " ('dead', 188),\n",
       " ('negative', 188),\n",
       " ('fully', 188),\n",
       " ('mother', 188),\n",
       " ('shill', 188),\n",
       " ('china', 188),\n",
       " ('lawyer', 188),\n",
       " ('mom', 187),\n",
       " ('impact', 187),\n",
       " ('pussy', 186),\n",
       " ('operate', 186),\n",
       " ...]"
      ]
     },
     "execution_count": 63,
     "metadata": {},
     "output_type": "execute_result"
    }
   ],
   "source": [
    "Counter(bag).most_common()"
   ]
  },
  {
   "cell_type": "code",
   "execution_count": 64,
   "metadata": {},
   "outputs": [],
   "source": [
    "# pickling acitivites, this cell pickles the processed corpus just generated\n",
    "# import code is at the top of this notebook right after package imports\n",
    "\n",
    "filename = 'processed_reduced_2'\n",
    "outfile = open(filename, 'wb')\n",
    "pickle.dump(processed_reduced, outfile)\n",
    "outfile.close()"
   ]
  },
  {
   "cell_type": "code",
   "execution_count": 66,
   "metadata": {},
   "outputs": [
    {
     "name": "stdout",
     "output_type": "stream",
     "text": [
      "CPU times: user 1.48 s, sys: 1.41 s, total: 2.89 s\n",
      "Wall time: 3.2 s\n"
     ]
    }
   ],
   "source": [
    "%%time\n",
    "\n",
    "tf_idf_vectorizer = TfidfVectorizer(lowercase=False, analyzer= lambda x: x, ngram_range=(1,3) )\n",
    "tf_idf = tf_idf_vectorizer.fit_transform(processed_reduced)\n",
    "tf_idf_norm = normalize(tf_idf)\n",
    "tf_idf_array = tf_idf_norm.toarray()"
   ]
  },
  {
   "cell_type": "markdown",
   "metadata": {},
   "source": [
    "the tf_idf_array is still too big to pickle after reducing it to (57662, 587618)..."
   ]
  },
  {
   "cell_type": "code",
   "execution_count": 67,
   "metadata": {},
   "outputs": [
    {
     "data": {
      "text/plain": [
       "(57662, 42131)"
      ]
     },
     "execution_count": 67,
     "metadata": {},
     "output_type": "execute_result"
    }
   ],
   "source": [
    "tf_idf.shape"
   ]
  },
  {
   "cell_type": "code",
   "execution_count": 68,
   "metadata": {},
   "outputs": [
    {
     "data": {
      "text/plain": [
       "(57662, 42131)"
      ]
     },
     "execution_count": 68,
     "metadata": {},
     "output_type": "execute_result"
    }
   ],
   "source": [
    "tf_idf_array.shape"
   ]
  },
  {
   "cell_type": "markdown",
   "metadata": {},
   "source": [
    "### Scale the data"
   ]
  },
  {
   "cell_type": "code",
   "execution_count": 96,
   "metadata": {},
   "outputs": [],
   "source": [
    "# perform standard scaler on count vectorizer array\n",
    "\n",
    "scaler_cv = StandardScaler(with_mean = False)\n",
    "scaler_cv_scaled = scaler_cv.fit_transform(X)"
   ]
  },
  {
   "cell_type": "code",
   "execution_count": 97,
   "metadata": {},
   "outputs": [],
   "source": [
    "# perform standard scaler on tfidf array\n",
    "\n",
    "scaler_tf = StandardScaler(with_mean = False)\n",
    "scaler_tf_scaled = scaler_tf.fit_transform(tf_idf_array)"
   ]
  },
  {
   "cell_type": "markdown",
   "metadata": {},
   "source": [
    "### KMeans clustering"
   ]
  },
  {
   "cell_type": "markdown",
   "metadata": {},
   "source": [
    "#### running clustering model with output from count vectorizer"
   ]
  },
  {
   "cell_type": "code",
   "execution_count": 98,
   "metadata": {},
   "outputs": [
    {
     "name": "stdout",
     "output_type": "stream",
     "text": [
      "CPU times: user 668 ms, sys: 106 ms, total: 774 ms\n",
      "Wall time: 264 ms\n"
     ]
    }
   ],
   "source": [
    "%%time\n",
    "\n",
    "trunc_svd = TruncatedSVD(n_components=2)\n",
    "y_trunc_svd = trunc_svd.fit_transform(scaler_cv_scaled) # passing in count vectorizer scaled data"
   ]
  },
  {
   "cell_type": "code",
   "execution_count": 99,
   "metadata": {},
   "outputs": [],
   "source": [
    "kmeans2 = KMeans(n_clusters=2, max_iter = 1000, algorithm = 'auto') # clustering model with 2 clusters\n",
    "kmeans3 = KMeans(n_clusters=3, max_iter = 1000, algorithm = 'auto') # clustering model with 3 clusters"
   ]
  },
  {
   "cell_type": "code",
   "execution_count": 100,
   "metadata": {},
   "outputs": [
    {
     "name": "stdout",
     "output_type": "stream",
     "text": [
      "CPU times: user 2.54 s, sys: 626 ms, total: 3.17 s\n",
      "Wall time: 559 ms\n"
     ]
    }
   ],
   "source": [
    "%%time\n",
    "\n",
    "fitted2 = kmeans2.fit(y_trunc_svd)\n",
    "fitted3 = kmeans3.fit(y_trunc_svd)"
   ]
  },
  {
   "cell_type": "code",
   "execution_count": 101,
   "metadata": {},
   "outputs": [],
   "source": [
    "prediction2 = kmeans2.predict(y_trunc_svd)\n",
    "prediction3 = kmeans3.predict(y_trunc_svd)"
   ]
  },
  {
   "cell_type": "code",
   "execution_count": 108,
   "metadata": {},
   "outputs": [
    {
     "data": {
      "image/png": "[encoded data removed]",
      "text/plain": [
       "<Figure size 432x288 with 1 Axes>"
      ]
     },
     "metadata": {},
     "output_type": "display_data"
    }
   ],
   "source": [
    "plt.scatter(y_trunc_svd[:, 0], y_trunc_svd[:, 1],c=prediction ,s=50, cmap='viridis')\n",
    "centers2 = fitted2.cluster_centers_\n",
    "plt.scatter(centers2[:, 0], centers2[:, 1],c='orange', s=300, alpha=0.6)\n",
    "plt.xlim(-30, 270)\n",
    "plt.ylim(-30, 30);"
   ]
  },
  {
   "cell_type": "code",
   "execution_count": 103,
   "metadata": {},
   "outputs": [
    {
     "data": {
      "text/plain": [
       "array([[ 2.09912693, -0.57725182],\n",
       "       [50.22067321,  0.48694855]])"
      ]
     },
     "execution_count": 103,
     "metadata": {},
     "output_type": "execute_result"
    }
   ],
   "source": [
    "centers2"
   ]
  },
  {
   "cell_type": "code",
   "execution_count": 109,
   "metadata": {},
   "outputs": [
    {
     "data": {
      "image/png": "[encoded data removed]",
      "text/plain": [
       "<Figure size 432x288 with 1 Axes>"
      ]
     },
     "metadata": {},
     "output_type": "display_data"
    }
   ],
   "source": [
    "plt.scatter(y_trunc_svd[:, 0], y_trunc_svd[:, 1],c=prediction ,s=50, cmap='viridis')\n",
    "centers3 = fitted3.cluster_centers_\n",
    "plt.scatter(centers3[:, 0], centers3[:, 1],c='orange', s=300, alpha=0.6)\n",
    "plt.xlim(-30, 270)\n",
    "plt.ylim(-30, 30);"
   ]
  },
  {
   "cell_type": "code",
   "execution_count": 105,
   "metadata": {},
   "outputs": [
    {
     "data": {
      "text/plain": [
       "array([[ 1.63622812, -0.49330647],\n",
       "       [99.41753202, 21.18496595],\n",
       "       [25.05219395, -3.7477534 ]])"
      ]
     },
     "execution_count": 105,
     "metadata": {},
     "output_type": "execute_result"
    }
   ],
   "source": [
    "centers3"
   ]
  },
  {
   "cell_type": "markdown",
   "metadata": {},
   "source": [
    "#### running clustering model with output from tfidf"
   ]
  },
  {
   "cell_type": "code",
   "execution_count": 69,
   "metadata": {},
   "outputs": [
    {
     "name": "stdout",
     "output_type": "stream",
     "text": [
      "CPU times: user 5min 17s, sys: 6min 3s, total: 11min 21s\n",
      "Wall time: 7min 24s\n"
     ]
    }
   ],
   "source": [
    "%%time\n",
    "\n",
    "trunc_svd = TruncatedSVD(n_components=2)\n",
    "y_trunc_svd = trunc_svd.fit_transform(scaler_tf_scaled) # passing in tfidf vectorizer scaled data"
   ]
  },
  {
   "cell_type": "code",
   "execution_count": 29,
   "metadata": {},
   "outputs": [],
   "source": [
    "# pickling acitivites, this cell pickles the Y produced by truncated svd\n",
    "# import code is at the top of this notebook right after package imports\n",
    "\n",
    "filename = 'y_trunc_svd'\n",
    "outfile = open(filename, 'wb')\n",
    "pickle.dump(y_trunc_svd, outfile)\n",
    "outfile.close()"
   ]
  },
  {
   "cell_type": "code",
   "execution_count": 23,
   "metadata": {},
   "outputs": [],
   "source": [
    "# inc_pca = IncrementalPCA(n_components=2)\n",
    "# Y_inc_pca = inc_pca.fit(tf_idf_array)"
   ]
  },
  {
   "cell_type": "code",
   "execution_count": 110,
   "metadata": {},
   "outputs": [],
   "source": [
    "kmeans2 = KMeans(n_clusters=2, max_iter = 1000, algorithm = 'auto') # clustering model with 2 clusters\n",
    "kmeans3 = KMeans(n_clusters=3, max_iter = 1000, algorithm = 'auto') # clustering model with 3 clusters"
   ]
  },
  {
   "cell_type": "code",
   "execution_count": 111,
   "metadata": {},
   "outputs": [
    {
     "name": "stdout",
     "output_type": "stream",
     "text": [
      "CPU times: user 2.74 s, sys: 732 ms, total: 3.47 s\n",
      "Wall time: 541 ms\n"
     ]
    }
   ],
   "source": [
    "%%time\n",
    "\n",
    "fitted2 = kmeans2.fit(y_trunc_svd)\n",
    "fitted3 = kmeans3.fit(y_trunc_svd)"
   ]
  },
  {
   "cell_type": "code",
   "execution_count": 112,
   "metadata": {},
   "outputs": [],
   "source": [
    "prediction2 = kmeans2.predict(y_trunc_svd)\n",
    "prediction3 = kmeans3.predict(y_trunc_svd)"
   ]
  },
  {
   "cell_type": "code",
   "execution_count": 118,
   "metadata": {
    "scrolled": true
   },
   "outputs": [
    {
     "data": {
      "image/png": "[encoded data removed]",
      "text/plain": [
       "<Figure size 432x288 with 1 Axes>"
      ]
     },
     "metadata": {},
     "output_type": "display_data"
    }
   ],
   "source": [
    "plt.scatter(y_trunc_svd[:, 0], y_trunc_svd[:, 1],c=prediction ,s=50, cmap='viridis')\n",
    "centers2 = fitted2.cluster_centers_\n",
    "plt.scatter(centers2[:, 0], centers2[:, 1],c='orange', s=300, alpha=0.6)\n",
    "plt.xlim(-30, 270)\n",
    "plt.ylim(-30, 30);\n"
   ]
  },
  {
   "cell_type": "code",
   "execution_count": 114,
   "metadata": {},
   "outputs": [
    {
     "data": {
      "text/plain": [
       "array([[ 2.09912693, -0.57725182],\n",
       "       [50.22067321,  0.48694855]])"
      ]
     },
     "execution_count": 114,
     "metadata": {},
     "output_type": "execute_result"
    }
   ],
   "source": [
    "centers2"
   ]
  },
  {
   "cell_type": "code",
   "execution_count": 119,
   "metadata": {},
   "outputs": [
    {
     "data": {
      "image/png": "[encoded data removed]",
      "text/plain": [
       "<Figure size 432x288 with 1 Axes>"
      ]
     },
     "metadata": {},
     "output_type": "display_data"
    }
   ],
   "source": [
    "plt.scatter(y_trunc_svd[:, 0], y_trunc_svd[:, 1],c=prediction ,s=50, cmap='viridis')\n",
    "centers3 = fitted3.cluster_centers_\n",
    "plt.scatter(centers3[:, 0], centers3[:, 1],c='orange', s=300, alpha=0.6)\n",
    "plt.xlim(-30, 270)\n",
    "plt.ylim(-30, 30);"
   ]
  },
  {
   "cell_type": "code",
   "execution_count": 120,
   "metadata": {},
   "outputs": [
    {
     "data": {
      "text/plain": [
       "array([[ 1.63622812, -0.49330647],\n",
       "       [25.05219395, -3.7477534 ],\n",
       "       [99.41753202, 21.18496595]])"
      ]
     },
     "execution_count": 120,
     "metadata": {},
     "output_type": "execute_result"
    }
   ],
   "source": [
    "centers3"
   ]
  },
  {
   "cell_type": "code",
   "execution_count": 121,
   "metadata": {},
   "outputs": [
    {
     "data": {
      "image/png": "[encoded data removed]",
      "text/plain": [
       "<Figure size 432x288 with 1 Axes>"
      ]
     },
     "metadata": {},
     "output_type": "display_data"
    }
   ],
   "source": [
    "number_clusters = range(1, 7)\n",
    "\n",
    "kmeans = [KMeans(n_clusters=i, max_iter = 600) for i in number_clusters]\n",
    "kmeans\n",
    "\n",
    "score = [kmeans[i].fit(y_trunc_svd).score(y_trunc_svd) for i in range(len(kmeans))]\n",
    "score = [i*-1 for i in score]\n",
    "\n",
    "plt.plot(number_clusters, score)\n",
    "plt.xlabel('Number of Clusters')\n",
    "plt.ylabel('Score')\n",
    "plt.title('Elbow Method')\n",
    "plt.show()"
   ]
  },
  {
   "cell_type": "markdown",
   "metadata": {},
   "source": [
    "### Look at top features for the clusters"
   ]
  },
  {
   "cell_type": "code",
   "execution_count": 122,
   "metadata": {},
   "outputs": [
    {
     "data": {
      "text/plain": [
       "array([0, 1], dtype=int32)"
      ]
     },
     "execution_count": 122,
     "metadata": {},
     "output_type": "execute_result"
    }
   ],
   "source": [
    "np.unique(prediction2)"
   ]
  },
  {
   "cell_type": "code",
   "execution_count": 123,
   "metadata": {},
   "outputs": [
    {
     "data": {
      "text/plain": [
       "array([0, 1, 2], dtype=int32)"
      ]
     },
     "execution_count": 123,
     "metadata": {},
     "output_type": "execute_result"
    }
   ],
   "source": [
    "np.unique(prediction3)"
   ]
  },
  {
   "cell_type": "code",
   "execution_count": 128,
   "metadata": {},
   "outputs": [],
   "source": [
    "# function for extracting top features from each cluster\n",
    "\n",
    "def get_top_features_cluster(tf_idf_array, prediction, n_feats):\n",
    "    labels = np.unique(prediction)\n",
    "    dfs = []\n",
    "    for label in labels:\n",
    "        id_temp = np.where(prediction==label) # indices for each cluster\n",
    "        x_means = np.mean(tf_idf_array[id_temp], axis = 0) # returns average score across cluster\n",
    "        sorted_means = np.argsort(x_means)[::-1][:n_feats] # indices with top 20 scores\n",
    "        features = tf_idf_vectorizer.get_feature_names()\n",
    "        best_features = [(features[i], x_means[i]) for i in sorted_means]\n",
    "        df = pd.DataFrame(best_features, columns = ['features', 'score'])\n",
    "        dfs.append(df)\n",
    "    return dfs\n"
   ]
  },
  {
   "cell_type": "code",
   "execution_count": 129,
   "metadata": {},
   "outputs": [],
   "source": [
    "dfs = get_top_features_cluster(scaler_tf_scaled, prediction2, 20)"
   ]
  },
  {
   "cell_type": "code",
   "execution_count": 131,
   "metadata": {},
   "outputs": [
    {
     "data": {
      "text/plain": [
       "<matplotlib.axes._subplots.AxesSubplot at 0x7fbbbf80b990>"
      ]
     },
     "execution_count": 131,
     "metadata": {},
     "output_type": "execute_result"
    },
    {
     "data": {
      "image/png": "[encoded data removed]",
      "text/plain": [
       "<Figure size 576x432 with 1 Axes>"
      ]
     },
     "metadata": {},
     "output_type": "display_data"
    }
   ],
   "source": [
    "plt.figure(figsize=(8,6))\n",
    "sns.barplot(x = 'score' , y = 'features', orient = 'h' , data = dfs[0][:15])"
   ]
  },
  {
   "cell_type": "code",
   "execution_count": 135,
   "metadata": {},
   "outputs": [
    {
     "data": {
      "text/plain": [
       "<matplotlib.axes._subplots.AxesSubplot at 0x7fbbbee623d0>"
      ]
     },
     "execution_count": 135,
     "metadata": {},
     "output_type": "execute_result"
    },
    {
     "data": {
      "image/png": "[encoded data removed]",
      "text/plain": [
       "<Figure size 576x432 with 1 Axes>"
      ]
     },
     "metadata": {},
     "output_type": "display_data"
    }
   ],
   "source": [
    "plt.figure(figsize=(8,6))\n",
    "sns.barplot(x = 'score' , y = 'features', orient = 'h' , data = dfs[1][:15])"
   ]
  },
  {
   "cell_type": "markdown",
   "metadata": {},
   "source": [
    "### Gaussian Mixture Model"
   ]
  },
  {
   "cell_type": "code",
   "execution_count": 169,
   "metadata": {
    "scrolled": true
   },
   "outputs": [
    {
     "name": "stdout",
     "output_type": "stream",
     "text": [
      "CPU times: user 11min 11s, sys: 39.2 s, total: 11min 50s\n",
      "Wall time: 3min 38s\n"
     ]
    }
   ],
   "source": [
    "%%time\n",
    "dense_cv = scaler_cv_scaled.toarray()\n",
    "\n",
    "gm_cv = GaussianMixture(n_components=3, random_state=42).fit(dense_cv)\n",
    "\n",
    "Y = gm_cv.fit(dense_cv)"
   ]
  },
  {
   "cell_type": "code",
   "execution_count": 170,
   "metadata": {},
   "outputs": [],
   "source": [
    "color_iter = itertools.cycle(['navy', 'c', 'cornflowerblue', 'gold',\n",
    "                              'darkorange'])\n",
    "\n",
    "def plot_results(X, Y_, means, covariances, index, title):\n",
    "    splot = plt.subplot(2, 1, 1 + index)\n",
    "    for i, (mean, covar, color) in enumerate(zip(\n",
    "            means, covariances, color_iter)):\n",
    "        v, w = linalg.eigh(covar)\n",
    "        v = 2. * np.sqrt(2.) * np.sqrt(v)\n",
    "        u = w[0] / linalg.norm(w[0])\n",
    "        # as the DP will not use every component it has access to\n",
    "        # unless it needs it, we shouldn't plot the redundant\n",
    "        # components.\n",
    "        if not np.any(Y_ == i):\n",
    "            continue\n",
    "        plt.scatter(X[Y_ == i, 0], X[Y_ == i, 1], .8, color=color)\n",
    "\n",
    "        # Plot an ellipse to show the Gaussian component\n",
    "        angle = np.arctan(u[1] / u[0])\n",
    "        angle = 180. * angle / np.pi  # convert to degrees\n",
    "        ell = mpl.patches.Ellipse(mean, v[0], v[1], 180. + angle, color=color)\n",
    "        ell.set_clip_box(splot.bbox)\n",
    "        ell.set_alpha(0.5)\n",
    "        splot.add_artist(ell)\n",
    "\n",
    "    plt.xlim(-5., 30.)\n",
    "    plt.ylim(-5., 130.)\n",
    "#     plt.xticks(())\n",
    "#     plt.yticks(())\n",
    "    plt.title(title)"
   ]
  },
  {
   "cell_type": "code",
   "execution_count": 171,
   "metadata": {},
   "outputs": [
    {
     "name": "stderr",
     "output_type": "stream",
     "text": [
      "/Users/calebjones/opt/anaconda3/lib/python3.7/site-packages/ipykernel_launcher.py:19: RuntimeWarning: invalid value encountered in double_scalars\n"
     ]
    },
    {
     "data": {
      "image/png": "[encoded data removed]",
      "text/plain": [
       "<Figure size 432x288 with 1 Axes>"
      ]
     },
     "metadata": {},
     "output_type": "display_data"
    }
   ],
   "source": [
    "plot_results(dense_cv, gm_cv.predict(dense_cv), gm_cv.means_, gm_cv.covariances_, 0, 'GMM')"
   ]
  },
  {
   "cell_type": "code",
   "execution_count": null,
   "metadata": {},
   "outputs": [],
   "source": []
  }
 ],
 "metadata": {
  "kernelspec": {
   "display_name": "Python 3",
   "language": "python",
   "name": "python3"
  },
  "language_info": {
   "codemirror_mode": {
    "name": "ipython",
    "version": 3
   },
   "file_extension": ".py",
   "mimetype": "text/x-python",
   "name": "python",
   "nbconvert_exporter": "python",
   "pygments_lexer": "ipython3",
   "version": "3.7.7"
  }
 },
 "nbformat": 4,
 "nbformat_minor": 4
}
